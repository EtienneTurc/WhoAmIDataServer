{
 "cells": [
  {
   "cell_type": "code",
   "execution_count": 73,
   "metadata": {},
   "outputs": [],
   "source": [
    "filename = 'vocabulary/evenement'"
   ]
  },
  {
   "cell_type": "code",
   "execution_count": 74,
   "metadata": {},
   "outputs": [],
   "source": [
    "with open(filename+'.txt',encoding=\"utf-8\") as f:\n",
    "    vocab = f.read()"
   ]
  },
  {
   "cell_type": "code",
   "execution_count": 75,
   "metadata": {},
   "outputs": [
    {
     "data": {
      "text/plain": [
       "'théâtre\\ncirque\\nspectateur\\nsalle\\ncabaret\\nsoirée\\nmusic-hall\\ncomédie\\nballet\\nshow\\nscène\\nreprésentation\\ndivertissement\\nmetteur\\nvedette\\nOpera\\norchestre\\nconcert\\ngladiateur\\nattraction\\ncomédien\\nclown\\nburlesque\\nMolière\\nsketch\\ncorrida\\nFestival\\ncinéma\\namphithéâtre\\nparterre\\nmarionnette\\nartifice\\nartiste\\nbilletterie\\ncomique\\nbal\\ncasino\\ngradin\\nculturelle\\ndanseur\\nentracte\\nexposition\\nGuignol\\nhumoriste\\nchanson\\nBroadway\\nnuméro\\nmagie\\nvariété\\nstriptease\\njongleur\\nmusical\\naffiche\\nacteur\\nfantasmagorie\\nféerie\\ndramaturge\\ndécor\\nprogramme\\nprojection\\nShakespeare\\nintermède\\nOlympia\\none-man-show\\nsuperproduction\\nvaudeville\\nthéâtral\\nverdure\\nvue\\nzénith\\nsketche\\nstrapontin\\nmatinée\\nrécital\\nridicule\\nopérette\\ncontremarque\\nculturel\\nduo\\nfolklorique\\nimprovisation\\nhistrion\\nfoule\\nacrobate\\nBarnum\\nchanteur\\ncafé-théâtre\\nchorégraphique\\nBataclan\\nauditorium\\nanimation\\nHossein\\ninauguration\\nflamenco\\nDVD\\nDufresne\\ncontemporain\\npyrotechnique\\nmanifestation\\nlive\\nlyrique\\nstar\\ntélé\\nsouper\\npopulaire\\npantomime\\nexpression\\nforum\\nfête\\nguichet\\nanimateur\\ncinématographique\\nclou\\nchorégraphe\\nchorégraphie\\nbénévole\\nbillet\\nfoyer\\nforain\\nentrée\\néquestre\\nDebord\\npremière\\nscénographe\\nmachinerie\\nintermittent\\nmime\\nspot\\nféerie\\nscène\\nexhibition\\nséance\\ncirque\\ntableau\\nnuméro\\nballet\\ncinéma\\nfantasmagorie\\nreprésentation\\ncomédie\\ngrand-guigno\\nmusic-hal\\nplanches\\nproduction'"
      ]
     },
     "execution_count": 75,
     "metadata": {},
     "output_type": "execute_result"
    }
   ],
   "source": [
    "vocab"
   ]
  },
  {
   "cell_type": "code",
   "execution_count": 76,
   "metadata": {},
   "outputs": [],
   "source": [
    "import unicodedata\n",
    "\n",
    "def strip_accents(text):\n",
    "\n",
    "    try:\n",
    "        text = unicode(text, 'utf-8')\n",
    "    except NameError: # unicode is a default on python 3 \n",
    "        pass\n",
    "\n",
    "    text = unicodedata.normalize('NFD', text)\\\n",
    "           .encode('ascii', 'ignore')\\\n",
    "           .decode(\"utf-8\")\n",
    "\n",
    "    return str(text)"
   ]
  },
  {
   "cell_type": "code",
   "execution_count": 77,
   "metadata": {},
   "outputs": [],
   "source": [
    "vocab = strip_accents(vocab)\n",
    "vocab = vocab.lower()\n",
    "vocab = vocab.replace('-','')\n",
    "vocab = vocab.replace(\"'\", \" \")"
   ]
  },
  {
   "cell_type": "code",
   "execution_count": 78,
   "metadata": {},
   "outputs": [],
   "source": [
    "if len(vocab.split('\\n'))>10:\n",
    "    vocab = vocab.split('\\n')\n",
    "elif len(vocab.split(','))>10:\n",
    "    vocab = vocab.split(',')\n",
    "else:\n",
    "    print('wrong separator')"
   ]
  },
  {
   "cell_type": "code",
   "execution_count": 79,
   "metadata": {},
   "outputs": [],
   "source": [
    "with open(filename+'_clean.txt', 'w') as f:\n",
    "    for item in vocab:\n",
    "        f.write(\"%s\\n\" % item)"
   ]
  },
  {
   "cell_type": "code",
   "execution_count": 80,
   "metadata": {},
   "outputs": [
    {
     "name": "stdout",
     "output_type": "stream",
     "text": [
      "['theatre', 'cirque', 'spectateur', 'salle', 'cabaret', 'soiree', 'musichall', 'comedie', 'ballet', 'show', 'scene', 'representation', 'divertissement', 'metteur', 'vedette', 'opera', 'orchestre', 'concert', 'gladiateur', 'attraction', 'comedien', 'clown', 'burlesque', 'moliere', 'sketch', 'corrida', 'festival', 'cinema', 'amphitheatre', 'parterre', 'marionnette', 'artifice', 'artiste', 'billetterie', 'comique', 'bal', 'casino', 'gradin', 'culturelle', 'danseur', 'entracte', 'exposition', 'guignol', 'humoriste', 'chanson', 'broadway', 'numero', 'magie', 'variete', 'striptease', 'jongleur', 'musical', 'affiche', 'acteur', 'fantasmagorie', 'feerie', 'dramaturge', 'decor', 'programme', 'projection', 'shakespeare', 'intermede', 'olympia', 'onemanshow', 'superproduction', 'vaudeville', 'theatral', 'verdure', 'vue', 'zenith', 'sketche', 'strapontin', 'matinee', 'recital', 'ridicule', 'operette', 'contremarque', 'culturel', 'duo', 'folklorique', 'improvisation', 'histrion', 'foule', 'acrobate', 'barnum', 'chanteur', 'cafetheatre', 'choregraphique', 'bataclan', 'auditorium', 'animation', 'hossein', 'inauguration', 'flamenco', 'dvd', 'dufresne', 'contemporain', 'pyrotechnique', 'manifestation', 'live', 'lyrique', 'star', 'tele', 'souper', 'populaire', 'pantomime', 'expression', 'forum', 'fete', 'guichet', 'animateur', 'cinematographique', 'clou', 'choregraphe', 'choregraphie', 'benevole', 'billet', 'foyer', 'forain', 'entree', 'equestre', 'debord', 'premiere', 'scenographe', 'machinerie', 'intermittent', 'mime', 'spot', 'feerie', 'scene', 'exhibition', 'seance', 'cirque', 'tableau', 'numero', 'ballet', 'cinema', 'fantasmagorie', 'representation', 'comedie', 'grandguigno', 'musichal', 'planches', 'production']\n"
     ]
    }
   ],
   "source": [
    "print(vocab)"
   ]
  },
  {
   "cell_type": "code",
   "execution_count": null,
   "metadata": {},
   "outputs": [],
   "source": []
  },
  {
   "cell_type": "code",
   "execution_count": null,
   "metadata": {},
   "outputs": [],
   "source": []
  }
 ],
 "metadata": {
  "kernelspec": {
   "display_name": "Python 3",
   "language": "python",
   "name": "python3"
  },
  "language_info": {
   "codemirror_mode": {
    "name": "ipython",
    "version": 3
   },
   "file_extension": ".py",
   "mimetype": "text/x-python",
   "name": "python",
   "nbconvert_exporter": "python",
   "pygments_lexer": "ipython3",
   "version": "3.5.2"
  }
 },
 "nbformat": 4,
 "nbformat_minor": 2
}
