{
 "cells": [
  {
   "cell_type": "code",
   "execution_count": 9,
   "metadata": {},
   "outputs": [],
   "source": [
    "filename = 'vocab_education.txt'"
   ]
  },
  {
   "cell_type": "code",
   "execution_count": 10,
   "metadata": {},
   "outputs": [],
   "source": [
    "with open(filename,encoding=\"utf-8\") as f:\n",
    "    vocab = f.read()"
   ]
  },
  {
   "cell_type": "code",
   "execution_count": 11,
   "metadata": {},
   "outputs": [
    {
     "data": {
      "text/plain": [
       "\"université,école,éducation,pédagogie,primaire,enseignant,scolaire,secondaire,élève,collège,lycée,apprentissage,instruction,discipline,établissement,institut,professeur,universitaire,leçon,technique,didactique,ministère,baccalauréat,chaire,instituteur,obligatoire,philosophie,professionnel,agrégation,scientifique,faculté,institution,classe,méthode,formation,pédagogique,scolarité,cours,enseigner,internat,règle,doctrine,catéchisme,enseignement supérieur,master,science,supérieur,dogme,étudiant,catholique,bilingue,Bouddha,religieux,cursus,gratuité,moral,catéchèse,dispensé,étude,prédication,tutelle,cégep,confessionnel,diplôme,disciple,évangile,pédagogue,précepte,professorat,mutuel,polytechnique,public,recteur,cycle,école primaire,éducatif,laïcité,maternelle,médecine,orientation,Athénée,curriculum,élémentaire,moralité,théologie,alphabétisation,classique,conservatoire,dharma,enseignement secondaire,gymnase,laïciser,oral,privé,académique,administration,bouddhisme,civique,compétence,connaissance,ésotérique,gratuit,porte,pratique,préscolaire,scolarisation,académie,Christ,collégial,éducation nationale,laïque,section,spécialité,certificat,chargé,filière,Jésus,langue,mathématiques,philosophique,technologique,théologique,amphi,bachelier,conférence,conseil,Falloux,matière,morale,niveau,principe,théorique,brevet,campus,grande école,initiation,Isocrate,Jules Ferry,laboratoire,laïc,laïcisation,lecture,maître,séculariser,système,transmettre,bible,fable,facultatif,francophone,grammaire,intellectuelle,langue officielle,mariste,orthodoxe,préparatoire,programmes,propédeutique,reçus,réforme,segpa,shingon,sophiste,stage,terme,titulaire,agricole,congrégation,coranique,fen,ferry,Fredericton,ingénieur,littérature,maîtrise,nationale,pres,semestre,tirer,utiles,admission,chimie,clinique,disciplinaire,domaine,donnés,initiatique,métier,savoir,séminaire,SNI,bouddhiste,communal,enseignement primaire,exemple,humanités,intelligences,langue maternelle,moyen,quatrième,aphorisme,apologue,approfondissement,avis,catéchétique,commandement,conclusion,cyberformation,dénouement,Département de la Santé,dhamma,diwan,entraînement,épilogue,ésotérisme,exposé,fin,fonction,instruction publique,issir,issue,jésuite,juvénat,Kukai,langues vivantes,logo,manuel,Meïr,Oxford,péroraison,plan,portfolio,prescription,procédé,prône,proposition,recherche,recommandation,résultat,science de l'éducation,solution,sourd-muet,spécialisé,spirituel,sutra,synthèse,télé-enseignement,terminaison,théorie\""
      ]
     },
     "execution_count": 11,
     "metadata": {},
     "output_type": "execute_result"
    }
   ],
   "source": [
    "vocab"
   ]
  },
  {
   "cell_type": "code",
   "execution_count": 12,
   "metadata": {},
   "outputs": [
    {
     "name": "stdout",
     "output_type": "stream",
     "text": [
      "aeeohello\n"
     ]
    }
   ],
   "source": [
    "import unicodedata\n",
    "\n",
    "def strip_accents(text):\n",
    "\n",
    "    try:\n",
    "        text = unicode(text, 'utf-8')\n",
    "    except NameError: # unicode is a default on python 3 \n",
    "        pass\n",
    "\n",
    "    text = unicodedata.normalize('NFD', text)\\\n",
    "           .encode('ascii', 'ignore')\\\n",
    "           .decode(\"utf-8\")\n",
    "\n",
    "    return str(text)\n",
    "\n",
    "s = strip_accents('àéêöhello')\n",
    "\n",
    "print(s)"
   ]
  },
  {
   "cell_type": "code",
   "execution_count": 22,
   "metadata": {},
   "outputs": [],
   "source": [
    "vocab = strip_accents(vocab)\n",
    "vocab = vocab.lower()\n",
    "vocab = vocab.replace('-','')\n",
    "vocab = vocab.replace(\"'\", \" \")"
   ]
  },
  {
   "cell_type": "code",
   "execution_count": 26,
   "metadata": {},
   "outputs": [],
   "source": [
    "vocab = vocab.split(',')"
   ]
  },
  {
   "cell_type": "code",
   "execution_count": null,
   "metadata": {},
   "outputs": [],
   "source": []
  }
 ],
 "metadata": {
  "kernelspec": {
   "display_name": "Python 3",
   "language": "python",
   "name": "python3"
  },
  "language_info": {
   "codemirror_mode": {
    "name": "ipython",
    "version": 3
   },
   "file_extension": ".py",
   "mimetype": "text/x-python",
   "name": "python",
   "nbconvert_exporter": "python",
   "pygments_lexer": "ipython3",
   "version": "3.7.4"
  }
 },
 "nbformat": 4,
 "nbformat_minor": 2
}
