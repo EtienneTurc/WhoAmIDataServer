{
 "cells": [
  {
   "cell_type": "code",
   "execution_count": 1,
   "metadata": {},
   "outputs": [],
   "source": [
    "import pandas as pd\n",
    "\n",
    "import spacy"
   ]
  },
  {
   "cell_type": "code",
   "execution_count": 2,
   "metadata": {},
   "outputs": [
    {
     "data": {
      "text/html": [
       "<div>\n",
       "<style scoped>\n",
       "    .dataframe tbody tr th:only-of-type {\n",
       "        vertical-align: middle;\n",
       "    }\n",
       "\n",
       "    .dataframe tbody tr th {\n",
       "        vertical-align: top;\n",
       "    }\n",
       "\n",
       "    .dataframe thead th {\n",
       "        text-align: right;\n",
       "    }\n",
       "</style>\n",
       "<table border=\"1\" class=\"dataframe\">\n",
       "  <thead>\n",
       "    <tr style=\"text-align: right;\">\n",
       "      <th></th>\n",
       "      <th>snippet</th>\n",
       "      <th>date</th>\n",
       "      <th>headers</th>\n",
       "      <th>body</th>\n",
       "    </tr>\n",
       "  </thead>\n",
       "  <tbody>\n",
       "    <tr>\n",
       "      <td>0</td>\n",
       "      <td>Voici ce qu&amp;#39;il s&amp;#39;est passÃ© depuis vot...</td>\n",
       "      <td>2020-01-29 11:09:43</td>\n",
       "      <td>[{'name': 'From', 'value': 'LinkedIn &lt;notifica...</td>\n",
       "      <td>etienne voici ce que vous avez manque sur lin...</td>\n",
       "    </tr>\n",
       "    <tr>\n",
       "      <td>1</td>\n",
       "      <td>Paul Azoulai a envoyÃ© un message dans la conv...</td>\n",
       "      <td>2020-01-29 07:59:56</td>\n",
       "      <td>[{'name': 'To', 'value': 'Etienne Turc &lt;etienn...</td>\n",
       "      <td>bonjour etienne paul azoulai a envoye un mess...</td>\n",
       "    </tr>\n",
       "    <tr>\n",
       "      <td>2</td>\n",
       "      <td>Marine Saint Mezard a envoyÃ© un message dans ...</td>\n",
       "      <td>2020-01-29 07:41:00</td>\n",
       "      <td>[{'name': 'To', 'value': 'Etienne Turc &lt;etienn...</td>\n",
       "      <td>bonjour etienne marine saint mezard a envoye ...</td>\n",
       "    </tr>\n",
       "    <tr>\n",
       "      <td>3</td>\n",
       "      <td>Etienne, dÃ©couvrez sur quoi travaille votre r...</td>\n",
       "      <td>2020-01-29 07:12:40</td>\n",
       "      <td>[{'name': 'From', 'value': 'LinkedIn &lt;notifica...</td>\n",
       "      <td>etienne decouvrez sur quoi travaille votre re...</td>\n",
       "    </tr>\n",
       "    <tr>\n",
       "      <td>4</td>\n",
       "      <td>Quentin BiharÃ© vous a envoyÃ© un message. Ouv...</td>\n",
       "      <td>2020-01-28 19:45:56</td>\n",
       "      <td>[{'name': 'To', 'value': 'Etienne Turc &lt;etienn...</td>\n",
       "      <td>bonjour etienne quentin bihare vous a envoye ...</td>\n",
       "    </tr>\n",
       "  </tbody>\n",
       "</table>\n",
       "</div>"
      ],
      "text/plain": [
       "                                             snippet                date  \\\n",
       "0  Voici ce qu&#39;il s&#39;est passÃ© depuis vot... 2020-01-29 11:09:43   \n",
       "1  Paul Azoulai a envoyÃ© un message dans la conv... 2020-01-29 07:59:56   \n",
       "2  Marine Saint Mezard a envoyÃ© un message dans ... 2020-01-29 07:41:00   \n",
       "3  Etienne, dÃ©couvrez sur quoi travaille votre r... 2020-01-29 07:12:40   \n",
       "4  Quentin BiharÃ© vous a envoyÃ© un message. Ouv... 2020-01-28 19:45:56   \n",
       "\n",
       "                                             headers  \\\n",
       "0  [{'name': 'From', 'value': 'LinkedIn <notifica...   \n",
       "1  [{'name': 'To', 'value': 'Etienne Turc <etienn...   \n",
       "2  [{'name': 'To', 'value': 'Etienne Turc <etienn...   \n",
       "3  [{'name': 'From', 'value': 'LinkedIn <notifica...   \n",
       "4  [{'name': 'To', 'value': 'Etienne Turc <etienn...   \n",
       "\n",
       "                                                body  \n",
       "0   etienne voici ce que vous avez manque sur lin...  \n",
       "1   bonjour etienne paul azoulai a envoye un mess...  \n",
       "2   bonjour etienne marine saint mezard a envoye ...  \n",
       "3   etienne decouvrez sur quoi travaille votre re...  \n",
       "4   bonjour etienne quentin bihare vous a envoye ...  "
      ]
     },
     "execution_count": 2,
     "metadata": {},
     "output_type": "execute_result"
    }
   ],
   "source": [
    "df = pd.read_json (r'gmail.txt')\n",
    "df.head()"
   ]
  },
  {
   "cell_type": "code",
   "execution_count": 3,
   "metadata": {},
   "outputs": [
    {
     "data": {
      "text/plain": [
       "<spacy.lang.fr.French at 0x1ee38b82e88>"
      ]
     },
     "execution_count": 3,
     "metadata": {},
     "output_type": "execute_result"
    }
   ],
   "source": [
    "spacy.load('fr_core_news_md')"
   ]
  },
  {
   "cell_type": "code",
   "execution_count": null,
   "metadata": {},
   "outputs": [],
   "source": []
  }
 ],
 "metadata": {
  "kernelspec": {
   "display_name": "Python 3",
   "language": "python",
   "name": "python3"
  },
  "language_info": {
   "codemirror_mode": {
    "name": "ipython",
    "version": 3
   },
   "file_extension": ".py",
   "mimetype": "text/x-python",
   "name": "python",
   "nbconvert_exporter": "python",
   "pygments_lexer": "ipython3",
   "version": "3.7.4"
  }
 },
 "nbformat": 4,
 "nbformat_minor": 2
}
