{
 "cells": [
  {
   "cell_type": "code",
   "execution_count": 18,
   "metadata": {},
   "outputs": [],
   "source": [
    "filename = 'vocabulary/sport'"
   ]
  },
  {
   "cell_type": "code",
   "execution_count": 19,
   "metadata": {},
   "outputs": [],
   "source": [
    "with open(filename+'.txt',encoding=\"utf-8\") as f:\n",
    "    vocab = f.read()"
   ]
  },
  {
   "cell_type": "code",
   "execution_count": 21,
   "metadata": {},
   "outputs": [
    {
     "data": {
      "text/plain": [
       "'sportif\\nski\\namateur\\nsurf\\naviron\\ncricket\\nfootball\\nrugby\\nolympique\\nhalterophilie\\ntennis\\ncyclisme\\nbadminton\\nhandball\\nloisir\\nvolley-ball\\nbasket-ball\\njeu\\nhockey\\nkayak\\nprofessionnel\\nfederation\\nstade\\ntrampoline\\nsoftball\\nescrime\\ngolf\\ncoupe\\nnatation\\nsaut\\nroller\\npetanque\\nautomobile\\nentrainement\\nepreuve\\njudo\\nkarate\\nmotonautisme\\nparapente\\ncurling\\nathlete\\nalpinisme\\nathletisme\\nequipement\\ndiscipline\\npiste\\njoueur\\nhurling\\nwater-polo\\njogging\\nluge\\nmi-temps\\ndopage\\nbasket\\ncourse\\nchampion\\nchampionnat\\nboule\\nbaseball\\ngymnastique\\nmartial\\nmusculation\\nmarathon\\nvitesse\\ntouche\\ntournoi\\nskateboard\\ntennis de table\\nmarqueur\\nphysique\\nnautisme\\nomnisport\\nsnowboard\\npolo\\nendurance\\nfootball americain\\nequestre\\nentraineur\\narbitre\\namateurisme\\nbobsleigh\\nboxe\\ncrosse\\ncompetition\\ncoubertin\\ndraft\\npratiquant\\nraquette\\nhiver\\nhippisme\\nkarting\\nmotocross\\nrenault\\nroulette\\npiscine\\nequitation\\ngame\\ngymnaste\\ncanoe\\nkayak\\ncio\\nclub\\nbiathlon\\nsportive\\nvelo\\nsquash\\narc\\nsumo\\nvolley\\nvtt\\nbatte\\nathletique\\nchasse\\ncrampon\\ngymnase\\nfrisbee\\nforme\\nferrari\\ndojo\\nplanche a roulettes\\npaddock\\nparalympique\\nskate\\nsoccer\\nski de fond\\nracing\\nmatch\\nnatation synchronisee\\nnautique\\nequipe\\nindividuel\\nhorse-ball\\nkart\\njeunesse\\nregle\\npatin\\npatinoire\\nPeugeot\\nenvoi\\ndressage\\neducation\\ncategorie\\nterrain\\nspot\\ncombine\\ncourbature\\ncourrier\\nbodyboard\\ndispute\\ndemonstration\\ndirect\\neurosport\\nformule\\ngazon\\nnba\\npelouse\\nringuette\\nsociete\\njunior\\nhippodrome\\nhandicap\\nlicencie\\nmaillot\\nnageur'"
      ]
     },
     "execution_count": 21,
     "metadata": {},
     "output_type": "execute_result"
    }
   ],
   "source": [
    "vocab"
   ]
  },
  {
   "cell_type": "code",
   "execution_count": 22,
   "metadata": {},
   "outputs": [
    {
     "name": "stdout",
     "output_type": "stream",
     "text": [
      "aeeohello\n"
     ]
    }
   ],
   "source": [
    "import unicodedata\n",
    "\n",
    "def strip_accents(text):\n",
    "\n",
    "    try:\n",
    "        text = unicode(text, 'utf-8')\n",
    "    except NameError: # unicode is a default on python 3 \n",
    "        pass\n",
    "\n",
    "    text = unicodedata.normalize('NFD', text)\\\n",
    "           .encode('ascii', 'ignore')\\\n",
    "           .decode(\"utf-8\")\n",
    "\n",
    "    return str(text)\n",
    "\n",
    "s = strip_accents('àéêöhello')\n",
    "\n",
    "print(s)"
   ]
  },
  {
   "cell_type": "code",
   "execution_count": 23,
   "metadata": {},
   "outputs": [],
   "source": [
    "vocab = strip_accents(vocab)\n",
    "vocab = vocab.lower()\n",
    "vocab = vocab.replace('-','')\n",
    "vocab = vocab.replace(\"'\", \" \")"
   ]
  },
  {
   "cell_type": "code",
   "execution_count": 24,
   "metadata": {},
   "outputs": [],
   "source": [
    "if len(vocab.split('\\n'))>10:\n",
    "    vocab = vocab.split('\\n')\n",
    "elif len(vocab.split(',')>10):\n",
    "    vocab = vocab.split(',')\n",
    "else:\n",
    "    print('wrong separator')"
   ]
  },
  {
   "cell_type": "code",
   "execution_count": 25,
   "metadata": {},
   "outputs": [],
   "source": [
    "with open(filename+'_clean.txt', 'w') as f:\n",
    "    for item in vocab:\n",
    "        f.write(\"%s\\n\" % item)"
   ]
  },
  {
   "cell_type": "code",
   "execution_count": 26,
   "metadata": {},
   "outputs": [
    {
     "name": "stdout",
     "output_type": "stream",
     "text": [
      "['sportif', 'ski', 'amateur', 'surf', 'aviron', 'cricket', 'football', 'rugby', 'olympique', 'halterophilie', 'tennis', 'cyclisme', 'badminton', 'handball', 'loisir', 'volleyball', 'basketball', 'jeu', 'hockey', 'kayak', 'professionnel', 'federation', 'stade', 'trampoline', 'softball', 'escrime', 'golf', 'coupe', 'natation', 'saut', 'roller', 'petanque', 'automobile', 'entrainement', 'epreuve', 'judo', 'karate', 'motonautisme', 'parapente', 'curling', 'athlete', 'alpinisme', 'athletisme', 'equipement', 'discipline', 'piste', 'joueur', 'hurling', 'waterpolo', 'jogging', 'luge', 'mitemps', 'dopage', 'basket', 'course', 'champion', 'championnat', 'boule', 'baseball', 'gymnastique', 'martial', 'musculation', 'marathon', 'vitesse', 'touche', 'tournoi', 'skateboard', 'tennis de table', 'marqueur', 'physique', 'nautisme', 'omnisport', 'snowboard', 'polo', 'endurance', 'football americain', 'equestre', 'entraineur', 'arbitre', 'amateurisme', 'bobsleigh', 'boxe', 'crosse', 'competition', 'coubertin', 'draft', 'pratiquant', 'raquette', 'hiver', 'hippisme', 'karting', 'motocross', 'renault', 'roulette', 'piscine', 'equitation', 'game', 'gymnaste', 'canoe', 'kayak', 'cio', 'club', 'biathlon', 'sportive', 'velo', 'squash', 'arc', 'sumo', 'volley', 'vtt', 'batte', 'athletique', 'chasse', 'crampon', 'gymnase', 'frisbee', 'forme', 'ferrari', 'dojo', 'planche a roulettes', 'paddock', 'paralympique', 'skate', 'soccer', 'ski de fond', 'racing', 'match', 'natation synchronisee', 'nautique', 'equipe', 'individuel', 'horseball', 'kart', 'jeunesse', 'regle', 'patin', 'patinoire', 'peugeot', 'envoi', 'dressage', 'education', 'categorie', 'terrain', 'spot', 'combine', 'courbature', 'courrier', 'bodyboard', 'dispute', 'demonstration', 'direct', 'eurosport', 'formule', 'gazon', 'nba', 'pelouse', 'ringuette', 'societe', 'junior', 'hippodrome', 'handicap', 'licencie', 'maillot', 'nageur']\n"
     ]
    }
   ],
   "source": [
    "print(vocab)"
   ]
  },
  {
   "cell_type": "code",
   "execution_count": null,
   "metadata": {},
   "outputs": [],
   "source": []
  }
 ],
 "metadata": {
  "kernelspec": {
   "display_name": "Python 3",
   "language": "python",
   "name": "python3"
  },
  "language_info": {
   "codemirror_mode": {
    "name": "ipython",
    "version": 3
   },
   "file_extension": ".py",
   "mimetype": "text/x-python",
   "name": "python",
   "nbconvert_exporter": "python",
   "pygments_lexer": "ipython3",
   "version": "3.7.4"
  }
 },
 "nbformat": 4,
 "nbformat_minor": 2
}
