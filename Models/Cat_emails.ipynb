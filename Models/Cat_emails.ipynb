{
 "cells": [
  {
   "cell_type": "code",
   "execution_count": 175,
   "metadata": {},
   "outputs": [],
   "source": [
    "import pandas as pd\n",
    "import numpy as np\n",
    "\n",
    "import re"
   ]
  },
  {
   "cell_type": "code",
   "execution_count": 176,
   "metadata": {},
   "outputs": [],
   "source": [
    "df = pd.read_json(r'data/gmail_boetto.txt', encoding = 'utf-8')"
   ]
  },
  {
   "cell_type": "code",
   "execution_count": 177,
   "metadata": {},
   "outputs": [],
   "source": [
    "test = df.headers[0]"
   ]
  },
  {
   "cell_type": "code",
   "execution_count": 178,
   "metadata": {},
   "outputs": [
    {
     "data": {
      "text/plain": [
       "[{'name': 'Subject', 'value': 'Alerte de sécurité'},\n",
       " {'name': 'From', 'value': 'Google <no-reply@accounts.google.com>'},\n",
       " {'name': 'To', 'value': 'c.boettolegrain14@eabjm.org'}]"
      ]
     },
     "execution_count": 178,
     "metadata": {},
     "output_type": "execute_result"
    }
   ],
   "source": [
    "test"
   ]
  },
  {
   "cell_type": "code",
   "execution_count": 179,
   "metadata": {},
   "outputs": [],
   "source": [
    "comp_list = ['linkedin', 'facebook', 'lydia', 'spotify', 'sncf', 'twitter', 'tinder', 'deezer', \n",
    "             'itunes', 'apple', 'google','uber','ubereats','doctolib', 'instagram', 'amazon', ]"
   ]
  },
  {
   "cell_type": "code",
   "execution_count": 180,
   "metadata": {},
   "outputs": [],
   "source": [
    "def tag_mail(x):\n",
    "    for k in x:\n",
    "        if k['name'] == 'From':\n",
    "            L_cat = [el * (el in k['value']) for el in comp_list]\n",
    "            L_cat = list(filter(lambda x: x!='', L_cat))\n",
    "    if L_cat == None:\n",
    "        return('no_cat')\n",
    "    elif len(L_cat) > 2:\n",
    "        print(L_cat)\n",
    "        return L[cat[0]]\n",
    "    elif len(L_cat) == 1:\n",
    "        return L_cat[0]\n",
    "    else:\n",
    "        return 'no_cat'\n",
    "    return "
   ]
  },
  {
   "cell_type": "code",
   "execution_count": 181,
   "metadata": {},
   "outputs": [],
   "source": [
    "df['cat'] = df.headers.apply(tag_mail)"
   ]
  },
  {
   "cell_type": "code",
   "execution_count": 182,
   "metadata": {},
   "outputs": [
    {
     "data": {
      "text/html": [
       "<div>\n",
       "<style scoped>\n",
       "    .dataframe tbody tr th:only-of-type {\n",
       "        vertical-align: middle;\n",
       "    }\n",
       "\n",
       "    .dataframe tbody tr th {\n",
       "        vertical-align: top;\n",
       "    }\n",
       "\n",
       "    .dataframe thead th {\n",
       "        text-align: right;\n",
       "    }\n",
       "</style>\n",
       "<table border=\"1\" class=\"dataframe\">\n",
       "  <thead>\n",
       "    <tr style=\"text-align: right;\">\n",
       "      <th></th>\n",
       "      <th>snippet</th>\n",
       "      <th>status</th>\n",
       "      <th>date</th>\n",
       "      <th>headers</th>\n",
       "      <th>body</th>\n",
       "      <th>cat</th>\n",
       "    </tr>\n",
       "  </thead>\n",
       "  <tbody>\n",
       "    <tr>\n",
       "      <td>0</td>\n",
       "      <td>Connexion sur un nouvel appareil c.boettolegra...</td>\n",
       "      <td>received</td>\n",
       "      <td>2020-02-05 14:01:58</td>\n",
       "      <td>[{'name': 'Subject', 'value': 'Alerte de sécur...</td>\n",
       "      <td>[image google] connexion sur un nouvel appare...</td>\n",
       "      <td>google</td>\n",
       "    </tr>\n",
       "    <tr>\n",
       "      <td>1</td>\n",
       "      <td>Max .com replied to a comment in the following...</td>\n",
       "      <td>received</td>\n",
       "      <td>2020-02-05 09:00:03</td>\n",
       "      <td>[{'name': 'Subject', 'value': 'Maths IA - firs...</td>\n",
       "      <td>max com replied to a comment in the following...</td>\n",
       "      <td>google</td>\n",
       "    </tr>\n",
       "    <tr>\n",
       "      <td>2</td>\n",
       "      <td>Max .com added comments to the following docum...</td>\n",
       "      <td>received</td>\n",
       "      <td>2020-02-05 08:53:58</td>\n",
       "      <td>[{'name': 'Subject', 'value': 'Maths IA - firs...</td>\n",
       "      <td>max com added comments to the following docum...</td>\n",
       "      <td>google</td>\n",
       "    </tr>\n",
       "    <tr>\n",
       "      <td>3</td>\n",
       "      <td>Max .com replied to a comment in the following...</td>\n",
       "      <td>received</td>\n",
       "      <td>2020-02-05 07:52:13</td>\n",
       "      <td>[{'name': 'Subject', 'value': 'Maths IA - firs...</td>\n",
       "      <td>max com replied to a comment in the following...</td>\n",
       "      <td>google</td>\n",
       "    </tr>\n",
       "    <tr>\n",
       "      <td>4</td>\n",
       "      <td>... logo l&amp;#39;Association ENSTA ParisTech Alu...</td>\n",
       "      <td>received</td>\n",
       "      <td>2020-02-04 19:01:26</td>\n",
       "      <td>[{'name': 'To', 'value': 'christophe.boetto@en...</td>\n",
       "      <td>\\t\\t \\t\\t \\t\\t \\t\\t\\tbonjour \\t\\t\\t \\t\\t\\tl'a...</td>\n",
       "      <td>no_cat</td>\n",
       "    </tr>\n",
       "    <tr>\n",
       "      <td>...</td>\n",
       "      <td>...</td>\n",
       "      <td>...</td>\n",
       "      <td>...</td>\n",
       "      <td>...</td>\n",
       "      <td>...</td>\n",
       "      <td>...</td>\n",
       "    </tr>\n",
       "    <tr>\n",
       "      <td>3540</td>\n",
       "      <td>Salut,je peux bosser sur le ppt 4h30. Je suis ...</td>\n",
       "      <td>sent</td>\n",
       "      <td>2010-11-03 09:22:29</td>\n",
       "      <td>[{'name': 'Subject', 'value': 'ppt'}, {'name':...</td>\n",
       "      <td>salutje peux bosser sur le ppt 4h30 je suis a...</td>\n",
       "      <td>no_cat</td>\n",
       "    </tr>\n",
       "    <tr>\n",
       "      <td>3541</td>\n",
       "      <td>---------- Forwarded message ---------- From: ...</td>\n",
       "      <td>sent</td>\n",
       "      <td>2010-10-05 18:37:29</td>\n",
       "      <td>[{'name': 'Subject', 'value': 'Fwd: Delivery S...</td>\n",
       "      <td>forwarded message from mail delivery subsyst...</td>\n",
       "      <td>no_cat</td>\n",
       "    </tr>\n",
       "    <tr>\n",
       "      <td>3542</td>\n",
       "      <td>nbvgkugukwsbvukrsbvksw</td>\n",
       "      <td>sent</td>\n",
       "      <td>2010-10-05 18:32:40</td>\n",
       "      <td>[{'name': 'Subject', 'value': 'cdsuqhfqeisubrv...</td>\n",
       "      <td>nbvgkugukwsbvukrsbvksw</td>\n",
       "      <td>no_cat</td>\n",
       "    </tr>\n",
       "    <tr>\n",
       "      <td>3543</td>\n",
       "      <td>---------- Forwarded message ---------- From: ...</td>\n",
       "      <td>sent</td>\n",
       "      <td>2010-10-05 18:32:18</td>\n",
       "      <td>[{'name': 'Subject', 'value': 'Fwd: WWI Origin...</td>\n",
       "      <td></td>\n",
       "      <td>no_cat</td>\n",
       "    </tr>\n",
       "    <tr>\n",
       "      <td>3544</td>\n",
       "      <td>---------- Message transféré ---------- De : V...</td>\n",
       "      <td>sent</td>\n",
       "      <td>2010-10-05 18:29:10</td>\n",
       "      <td>[{'name': 'Subject', 'value': 'Fwd: Devoir de ...</td>\n",
       "      <td></td>\n",
       "      <td>no_cat</td>\n",
       "    </tr>\n",
       "  </tbody>\n",
       "</table>\n",
       "<p>3545 rows × 6 columns</p>\n",
       "</div>"
      ],
      "text/plain": [
       "                                                snippet    status  \\\n",
       "0     Connexion sur un nouvel appareil c.boettolegra...  received   \n",
       "1     Max .com replied to a comment in the following...  received   \n",
       "2     Max .com added comments to the following docum...  received   \n",
       "3     Max .com replied to a comment in the following...  received   \n",
       "4     ... logo l&#39;Association ENSTA ParisTech Alu...  received   \n",
       "...                                                 ...       ...   \n",
       "3540  Salut,je peux bosser sur le ppt 4h30. Je suis ...      sent   \n",
       "3541  ---------- Forwarded message ---------- From: ...      sent   \n",
       "3542                             nbvgkugukwsbvukrsbvksw      sent   \n",
       "3543  ---------- Forwarded message ---------- From: ...      sent   \n",
       "3544  ---------- Message transféré ---------- De : V...      sent   \n",
       "\n",
       "                    date                                            headers  \\\n",
       "0    2020-02-05 14:01:58  [{'name': 'Subject', 'value': 'Alerte de sécur...   \n",
       "1    2020-02-05 09:00:03  [{'name': 'Subject', 'value': 'Maths IA - firs...   \n",
       "2    2020-02-05 08:53:58  [{'name': 'Subject', 'value': 'Maths IA - firs...   \n",
       "3    2020-02-05 07:52:13  [{'name': 'Subject', 'value': 'Maths IA - firs...   \n",
       "4    2020-02-04 19:01:26  [{'name': 'To', 'value': 'christophe.boetto@en...   \n",
       "...                  ...                                                ...   \n",
       "3540 2010-11-03 09:22:29  [{'name': 'Subject', 'value': 'ppt'}, {'name':...   \n",
       "3541 2010-10-05 18:37:29  [{'name': 'Subject', 'value': 'Fwd: Delivery S...   \n",
       "3542 2010-10-05 18:32:40  [{'name': 'Subject', 'value': 'cdsuqhfqeisubrv...   \n",
       "3543 2010-10-05 18:32:18  [{'name': 'Subject', 'value': 'Fwd: WWI Origin...   \n",
       "3544 2010-10-05 18:29:10  [{'name': 'Subject', 'value': 'Fwd: Devoir de ...   \n",
       "\n",
       "                                                   body     cat  \n",
       "0      [image google] connexion sur un nouvel appare...  google  \n",
       "1      max com replied to a comment in the following...  google  \n",
       "2      max com added comments to the following docum...  google  \n",
       "3      max com replied to a comment in the following...  google  \n",
       "4      \\t\\t \\t\\t \\t\\t \\t\\t\\tbonjour \\t\\t\\t \\t\\t\\tl'a...  no_cat  \n",
       "...                                                 ...     ...  \n",
       "3540   salutje peux bosser sur le ppt 4h30 je suis a...  no_cat  \n",
       "3541    forwarded message from mail delivery subsyst...  no_cat  \n",
       "3542                            nbvgkugukwsbvukrsbvksw   no_cat  \n",
       "3543                                                     no_cat  \n",
       "3544                                                     no_cat  \n",
       "\n",
       "[3545 rows x 6 columns]"
      ]
     },
     "execution_count": 182,
     "metadata": {},
     "output_type": "execute_result"
    }
   ],
   "source": [
    "df"
   ]
  },
  {
   "cell_type": "code",
   "execution_count": 183,
   "metadata": {},
   "outputs": [],
   "source": [
    "mails_lydia = df.loc[df.cat=='lydia'][['date', 'body']]"
   ]
  },
  {
   "cell_type": "code",
   "execution_count": 259,
   "metadata": {},
   "outputs": [],
   "source": [
    "def find_price(x):\n",
    "    res1 = re.findall(r\"vous a regle \\d+ €\", x)\n",
    "    res2 = re.findall(r\" \\d+ € payes a\", x)\n",
    "    if len(res1) == 1:\n",
    "        return int(re.findall(r\"\\d+\", res1[0])[0])/100\n",
    "    elif len(res2) == 1:\n",
    "        return - int(re.findall(r\"\\d+\", res2[0])[0])/100\n",
    "    else:\n",
    "        return None"
   ]
  },
  {
   "cell_type": "code",
   "execution_count": 262,
   "metadata": {},
   "outputs": [],
   "source": [
    "mails_lydia['montant'] = mails_lydia.body.apply(find_price)"
   ]
  },
  {
   "cell_type": "code",
   "execution_count": 266,
   "metadata": {},
   "outputs": [],
   "source": [
    "mails_lydia['cumsum'] = mails_lydia.montant.cumsum()"
   ]
  },
  {
   "cell_type": "code",
   "execution_count": 275,
   "metadata": {},
   "outputs": [],
   "source": [
    "mails_lydia_cpy = mails_lydia.loc[mails_lydia.montant.isna() == False].copy()"
   ]
  },
  {
   "cell_type": "code",
   "execution_count": 280,
   "metadata": {},
   "outputs": [
    {
     "data": {
      "application/vnd.plotly.v1+json": {
       "config": {
        "plotlyServerURL": "https://plot.ly"
       },
       "data": [
        {
         "hoverlabel": {
          "namelength": 0
         },
         "hovertemplate": "date=%{x}<br>cumsum=%{y}",
         "legendgroup": "",
         "line": {
          "color": "#636efa",
          "dash": "solid"
         },
         "mode": "lines",
         "name": "",
         "showlegend": false,
         "type": "scatter",
         "x": [
          "2020-01-29T07:51:29",
          "2020-01-28T20:14:52",
          "2020-01-28T20:14:26",
          "2020-01-28T20:12:37",
          "2020-01-24T23:47:12",
          "2020-01-09T10:25:17",
          "2020-01-07T20:19:26",
          "2020-01-06T08:54:43",
          "2020-01-03T17:19:05",
          "2019-12-31T22:28:30",
          "2019-12-31T20:32:02",
          "2019-12-31T20:26:09",
          "2019-12-19T21:54:50",
          "2019-12-03T21:56:11",
          "2019-12-03T20:51:19",
          "2019-12-03T20:49:09",
          "2019-11-28T23:13:21",
          "2019-11-28T22:18:50",
          "2019-11-28T21:43:28",
          "2019-11-28T21:41:56",
          "2019-11-28T21:41:35",
          "2019-11-28T21:40:34",
          "2019-11-28T21:40:35",
          "2019-11-28T21:40:21",
          "2019-11-28T21:39:36",
          "2019-11-25T22:19:09",
          "2019-11-25T20:08:57",
          "2019-11-25T20:03:52",
          "2019-11-25T20:03:39",
          "2019-11-25T20:01:49",
          "2019-11-25T19:58:05",
          "2019-11-25T19:56:33",
          "2019-11-25T19:17:14",
          "2019-11-22T18:16:53",
          "2019-11-12T21:19:56",
          "2019-11-12T21:18:05",
          "2019-11-12T19:49:54",
          "2019-11-12T19:45:37",
          "2019-11-12T19:44:35",
          "2019-11-12T19:44:18",
          "2019-11-12T19:43:46",
          "2019-11-06T21:37:12",
          "2019-10-27T18:31:25",
          "2019-10-25T15:19:26",
          "2019-10-23T20:54:01",
          "2019-10-23T17:24:37",
          "2019-10-18T12:20:10",
          "2019-10-18T12:17:46",
          "2019-10-18T12:17:22",
          "2019-10-18T07:30:28",
          "2019-10-13T19:22:24",
          "2019-10-12T21:05:27",
          "2019-10-09T21:42:54",
          "2019-09-30T22:37:16",
          "2019-09-29T16:57:20",
          "2019-09-29T15:31:40",
          "2019-09-27T21:25:31",
          "2019-09-25T09:34:44",
          "2019-09-25T09:34:21",
          "2019-09-18T21:35:23",
          "2019-09-18T21:34:19",
          "2019-09-18T21:33:54",
          "2019-09-18T20:38:27",
          "2019-09-18T20:12:16",
          "2019-09-18T11:52:38",
          "2019-09-17T19:29:17",
          "2019-09-16T10:41:54",
          "2019-09-09T21:41:16",
          "2019-09-09T19:44:35",
          "2019-09-06T21:40:55",
          "2019-08-25T17:37:37",
          "2019-08-25T17:37:36",
          "2019-08-25T15:54:48",
          "2019-02-07T09:57:07",
          "2019-02-07T09:53:27",
          "2018-12-20T21:59:49",
          "2018-12-20T16:10:53",
          "2018-12-20T16:04:21",
          "2018-12-20T15:07:21",
          "2018-12-20T12:34:05",
          "2018-12-20T11:52:36",
          "2018-11-15T23:13:13",
          "2018-11-15T23:13:12",
          "2018-05-18T22:00:40",
          "2018-04-10T20:15:09",
          "2018-04-10T11:02:10",
          "2018-04-05T19:32:23",
          "2018-02-02T21:30:53"
         ],
         "xaxis": "x",
         "y": [
          8.26,
          16.759999999999998,
          25.019999999999996,
          33.31999999999999,
          14.319999999999993,
          -85.68,
          -92.58000000000001,
          -51.58000000000001,
          -58.58000000000001,
          -165.4,
          -58.58000000000001,
          48.23999999999998,
          75.23999999999998,
          84.03999999999998,
          95.03999999999998,
          105.03999999999998,
          111.88999999999997,
          118.88999999999997,
          125.73999999999997,
          135.08999999999997,
          141.93999999999997,
          148.78999999999996,
          155.63999999999996,
          162.53999999999996,
          169.38999999999996,
          159.38999999999996,
          168.88999999999996,
          180.28999999999996,
          190.88999999999996,
          199.88999999999996,
          211.28999999999996,
          220.08999999999997,
          210.08999999999997,
          195.08999999999997,
          147.08999999999997,
          155.08999999999997,
          163.08999999999997,
          172.58999999999997,
          182.08999999999997,
          191.58999999999997,
          201.08999999999997,
          193.58999999999997,
          213.48999999999998,
          209.68999999999997,
          198.48999999999998,
          179.48999999999998,
          187.98999999999998,
          179.48999999999998,
          170.98999999999998,
          160.98999999999998,
          135.98999999999998,
          120.98999999999998,
          129.23999999999998,
          117.83999999999997,
          113.23999999999998,
          132.04,
          123.03999999999999,
          131.34,
          139.64000000000001,
          142.14000000000001,
          139.64000000000001,
          137.14000000000001,
          135.14000000000001,
          132.64000000000001,
          142.14000000000001,
          150.64000000000001,
          145.64000000000001,
          160.64000000000001,
          145.74,
          154.24,
          148.36,
          142.48000000000002,
          123.11000000000001,
          129.11,
          135.11,
          140.11,
          147.11,
          155.11,
          160.11,
          170.11,
          175.11,
          170.11,
          165.11,
          16.410000000000025,
          1.410000000000025,
          -57.799999999999976,
          -67.79999999999998,
          -37.79999999999998
         ],
         "yaxis": "y"
        }
       ],
       "layout": {
        "legend": {
         "tracegroupgap": 0
        },
        "margin": {
         "t": 60
        },
        "template": {
         "data": {
          "bar": [
           {
            "error_x": {
             "color": "#2a3f5f"
            },
            "error_y": {
             "color": "#2a3f5f"
            },
            "marker": {
             "line": {
              "color": "#E5ECF6",
              "width": 0.5
             }
            },
            "type": "bar"
           }
          ],
          "barpolar": [
           {
            "marker": {
             "line": {
              "color": "#E5ECF6",
              "width": 0.5
             }
            },
            "type": "barpolar"
           }
          ],
          "carpet": [
           {
            "aaxis": {
             "endlinecolor": "#2a3f5f",
             "gridcolor": "white",
             "linecolor": "white",
             "minorgridcolor": "white",
             "startlinecolor": "#2a3f5f"
            },
            "baxis": {
             "endlinecolor": "#2a3f5f",
             "gridcolor": "white",
             "linecolor": "white",
             "minorgridcolor": "white",
             "startlinecolor": "#2a3f5f"
            },
            "type": "carpet"
           }
          ],
          "choropleth": [
           {
            "colorbar": {
             "outlinewidth": 0,
             "ticks": ""
            },
            "type": "choropleth"
           }
          ],
          "contour": [
           {
            "colorbar": {
             "outlinewidth": 0,
             "ticks": ""
            },
            "colorscale": [
             [
              0,
              "#0d0887"
             ],
             [
              0.1111111111111111,
              "#46039f"
             ],
             [
              0.2222222222222222,
              "#7201a8"
             ],
             [
              0.3333333333333333,
              "#9c179e"
             ],
             [
              0.4444444444444444,
              "#bd3786"
             ],
             [
              0.5555555555555556,
              "#d8576b"
             ],
             [
              0.6666666666666666,
              "#ed7953"
             ],
             [
              0.7777777777777778,
              "#fb9f3a"
             ],
             [
              0.8888888888888888,
              "#fdca26"
             ],
             [
              1,
              "#f0f921"
             ]
            ],
            "type": "contour"
           }
          ],
          "contourcarpet": [
           {
            "colorbar": {
             "outlinewidth": 0,
             "ticks": ""
            },
            "type": "contourcarpet"
           }
          ],
          "heatmap": [
           {
            "colorbar": {
             "outlinewidth": 0,
             "ticks": ""
            },
            "colorscale": [
             [
              0,
              "#0d0887"
             ],
             [
              0.1111111111111111,
              "#46039f"
             ],
             [
              0.2222222222222222,
              "#7201a8"
             ],
             [
              0.3333333333333333,
              "#9c179e"
             ],
             [
              0.4444444444444444,
              "#bd3786"
             ],
             [
              0.5555555555555556,
              "#d8576b"
             ],
             [
              0.6666666666666666,
              "#ed7953"
             ],
             [
              0.7777777777777778,
              "#fb9f3a"
             ],
             [
              0.8888888888888888,
              "#fdca26"
             ],
             [
              1,
              "#f0f921"
             ]
            ],
            "type": "heatmap"
           }
          ],
          "heatmapgl": [
           {
            "colorbar": {
             "outlinewidth": 0,
             "ticks": ""
            },
            "colorscale": [
             [
              0,
              "#0d0887"
             ],
             [
              0.1111111111111111,
              "#46039f"
             ],
             [
              0.2222222222222222,
              "#7201a8"
             ],
             [
              0.3333333333333333,
              "#9c179e"
             ],
             [
              0.4444444444444444,
              "#bd3786"
             ],
             [
              0.5555555555555556,
              "#d8576b"
             ],
             [
              0.6666666666666666,
              "#ed7953"
             ],
             [
              0.7777777777777778,
              "#fb9f3a"
             ],
             [
              0.8888888888888888,
              "#fdca26"
             ],
             [
              1,
              "#f0f921"
             ]
            ],
            "type": "heatmapgl"
           }
          ],
          "histogram": [
           {
            "marker": {
             "colorbar": {
              "outlinewidth": 0,
              "ticks": ""
             }
            },
            "type": "histogram"
           }
          ],
          "histogram2d": [
           {
            "colorbar": {
             "outlinewidth": 0,
             "ticks": ""
            },
            "colorscale": [
             [
              0,
              "#0d0887"
             ],
             [
              0.1111111111111111,
              "#46039f"
             ],
             [
              0.2222222222222222,
              "#7201a8"
             ],
             [
              0.3333333333333333,
              "#9c179e"
             ],
             [
              0.4444444444444444,
              "#bd3786"
             ],
             [
              0.5555555555555556,
              "#d8576b"
             ],
             [
              0.6666666666666666,
              "#ed7953"
             ],
             [
              0.7777777777777778,
              "#fb9f3a"
             ],
             [
              0.8888888888888888,
              "#fdca26"
             ],
             [
              1,
              "#f0f921"
             ]
            ],
            "type": "histogram2d"
           }
          ],
          "histogram2dcontour": [
           {
            "colorbar": {
             "outlinewidth": 0,
             "ticks": ""
            },
            "colorscale": [
             [
              0,
              "#0d0887"
             ],
             [
              0.1111111111111111,
              "#46039f"
             ],
             [
              0.2222222222222222,
              "#7201a8"
             ],
             [
              0.3333333333333333,
              "#9c179e"
             ],
             [
              0.4444444444444444,
              "#bd3786"
             ],
             [
              0.5555555555555556,
              "#d8576b"
             ],
             [
              0.6666666666666666,
              "#ed7953"
             ],
             [
              0.7777777777777778,
              "#fb9f3a"
             ],
             [
              0.8888888888888888,
              "#fdca26"
             ],
             [
              1,
              "#f0f921"
             ]
            ],
            "type": "histogram2dcontour"
           }
          ],
          "mesh3d": [
           {
            "colorbar": {
             "outlinewidth": 0,
             "ticks": ""
            },
            "type": "mesh3d"
           }
          ],
          "parcoords": [
           {
            "line": {
             "colorbar": {
              "outlinewidth": 0,
              "ticks": ""
             }
            },
            "type": "parcoords"
           }
          ],
          "pie": [
           {
            "automargin": true,
            "type": "pie"
           }
          ],
          "scatter": [
           {
            "marker": {
             "colorbar": {
              "outlinewidth": 0,
              "ticks": ""
             }
            },
            "type": "scatter"
           }
          ],
          "scatter3d": [
           {
            "line": {
             "colorbar": {
              "outlinewidth": 0,
              "ticks": ""
             }
            },
            "marker": {
             "colorbar": {
              "outlinewidth": 0,
              "ticks": ""
             }
            },
            "type": "scatter3d"
           }
          ],
          "scattercarpet": [
           {
            "marker": {
             "colorbar": {
              "outlinewidth": 0,
              "ticks": ""
             }
            },
            "type": "scattercarpet"
           }
          ],
          "scattergeo": [
           {
            "marker": {
             "colorbar": {
              "outlinewidth": 0,
              "ticks": ""
             }
            },
            "type": "scattergeo"
           }
          ],
          "scattergl": [
           {
            "marker": {
             "colorbar": {
              "outlinewidth": 0,
              "ticks": ""
             }
            },
            "type": "scattergl"
           }
          ],
          "scattermapbox": [
           {
            "marker": {
             "colorbar": {
              "outlinewidth": 0,
              "ticks": ""
             }
            },
            "type": "scattermapbox"
           }
          ],
          "scatterpolar": [
           {
            "marker": {
             "colorbar": {
              "outlinewidth": 0,
              "ticks": ""
             }
            },
            "type": "scatterpolar"
           }
          ],
          "scatterpolargl": [
           {
            "marker": {
             "colorbar": {
              "outlinewidth": 0,
              "ticks": ""
             }
            },
            "type": "scatterpolargl"
           }
          ],
          "scatterternary": [
           {
            "marker": {
             "colorbar": {
              "outlinewidth": 0,
              "ticks": ""
             }
            },
            "type": "scatterternary"
           }
          ],
          "surface": [
           {
            "colorbar": {
             "outlinewidth": 0,
             "ticks": ""
            },
            "colorscale": [
             [
              0,
              "#0d0887"
             ],
             [
              0.1111111111111111,
              "#46039f"
             ],
             [
              0.2222222222222222,
              "#7201a8"
             ],
             [
              0.3333333333333333,
              "#9c179e"
             ],
             [
              0.4444444444444444,
              "#bd3786"
             ],
             [
              0.5555555555555556,
              "#d8576b"
             ],
             [
              0.6666666666666666,
              "#ed7953"
             ],
             [
              0.7777777777777778,
              "#fb9f3a"
             ],
             [
              0.8888888888888888,
              "#fdca26"
             ],
             [
              1,
              "#f0f921"
             ]
            ],
            "type": "surface"
           }
          ],
          "table": [
           {
            "cells": {
             "fill": {
              "color": "#EBF0F8"
             },
             "line": {
              "color": "white"
             }
            },
            "header": {
             "fill": {
              "color": "#C8D4E3"
             },
             "line": {
              "color": "white"
             }
            },
            "type": "table"
           }
          ]
         },
         "layout": {
          "annotationdefaults": {
           "arrowcolor": "#2a3f5f",
           "arrowhead": 0,
           "arrowwidth": 1
          },
          "coloraxis": {
           "colorbar": {
            "outlinewidth": 0,
            "ticks": ""
           }
          },
          "colorscale": {
           "diverging": [
            [
             0,
             "#8e0152"
            ],
            [
             0.1,
             "#c51b7d"
            ],
            [
             0.2,
             "#de77ae"
            ],
            [
             0.3,
             "#f1b6da"
            ],
            [
             0.4,
             "#fde0ef"
            ],
            [
             0.5,
             "#f7f7f7"
            ],
            [
             0.6,
             "#e6f5d0"
            ],
            [
             0.7,
             "#b8e186"
            ],
            [
             0.8,
             "#7fbc41"
            ],
            [
             0.9,
             "#4d9221"
            ],
            [
             1,
             "#276419"
            ]
           ],
           "sequential": [
            [
             0,
             "#0d0887"
            ],
            [
             0.1111111111111111,
             "#46039f"
            ],
            [
             0.2222222222222222,
             "#7201a8"
            ],
            [
             0.3333333333333333,
             "#9c179e"
            ],
            [
             0.4444444444444444,
             "#bd3786"
            ],
            [
             0.5555555555555556,
             "#d8576b"
            ],
            [
             0.6666666666666666,
             "#ed7953"
            ],
            [
             0.7777777777777778,
             "#fb9f3a"
            ],
            [
             0.8888888888888888,
             "#fdca26"
            ],
            [
             1,
             "#f0f921"
            ]
           ],
           "sequentialminus": [
            [
             0,
             "#0d0887"
            ],
            [
             0.1111111111111111,
             "#46039f"
            ],
            [
             0.2222222222222222,
             "#7201a8"
            ],
            [
             0.3333333333333333,
             "#9c179e"
            ],
            [
             0.4444444444444444,
             "#bd3786"
            ],
            [
             0.5555555555555556,
             "#d8576b"
            ],
            [
             0.6666666666666666,
             "#ed7953"
            ],
            [
             0.7777777777777778,
             "#fb9f3a"
            ],
            [
             0.8888888888888888,
             "#fdca26"
            ],
            [
             1,
             "#f0f921"
            ]
           ]
          },
          "colorway": [
           "#636efa",
           "#EF553B",
           "#00cc96",
           "#ab63fa",
           "#FFA15A",
           "#19d3f3",
           "#FF6692",
           "#B6E880",
           "#FF97FF",
           "#FECB52"
          ],
          "font": {
           "color": "#2a3f5f"
          },
          "geo": {
           "bgcolor": "white",
           "lakecolor": "white",
           "landcolor": "#E5ECF6",
           "showlakes": true,
           "showland": true,
           "subunitcolor": "white"
          },
          "hoverlabel": {
           "align": "left"
          },
          "hovermode": "closest",
          "mapbox": {
           "style": "light"
          },
          "paper_bgcolor": "white",
          "plot_bgcolor": "#E5ECF6",
          "polar": {
           "angularaxis": {
            "gridcolor": "white",
            "linecolor": "white",
            "ticks": ""
           },
           "bgcolor": "#E5ECF6",
           "radialaxis": {
            "gridcolor": "white",
            "linecolor": "white",
            "ticks": ""
           }
          },
          "scene": {
           "xaxis": {
            "backgroundcolor": "#E5ECF6",
            "gridcolor": "white",
            "gridwidth": 2,
            "linecolor": "white",
            "showbackground": true,
            "ticks": "",
            "zerolinecolor": "white"
           },
           "yaxis": {
            "backgroundcolor": "#E5ECF6",
            "gridcolor": "white",
            "gridwidth": 2,
            "linecolor": "white",
            "showbackground": true,
            "ticks": "",
            "zerolinecolor": "white"
           },
           "zaxis": {
            "backgroundcolor": "#E5ECF6",
            "gridcolor": "white",
            "gridwidth": 2,
            "linecolor": "white",
            "showbackground": true,
            "ticks": "",
            "zerolinecolor": "white"
           }
          },
          "shapedefaults": {
           "line": {
            "color": "#2a3f5f"
           }
          },
          "ternary": {
           "aaxis": {
            "gridcolor": "white",
            "linecolor": "white",
            "ticks": ""
           },
           "baxis": {
            "gridcolor": "white",
            "linecolor": "white",
            "ticks": ""
           },
           "bgcolor": "#E5ECF6",
           "caxis": {
            "gridcolor": "white",
            "linecolor": "white",
            "ticks": ""
           }
          },
          "title": {
           "x": 0.05
          },
          "xaxis": {
           "automargin": true,
           "gridcolor": "white",
           "linecolor": "white",
           "ticks": "",
           "title": {
            "standoff": 15
           },
           "zerolinecolor": "white",
           "zerolinewidth": 2
          },
          "yaxis": {
           "automargin": true,
           "gridcolor": "white",
           "linecolor": "white",
           "ticks": "",
           "title": {
            "standoff": 15
           },
           "zerolinecolor": "white",
           "zerolinewidth": 2
          }
         }
        },
        "xaxis": {
         "anchor": "y",
         "domain": [
          0,
          1
         ],
         "title": {
          "text": "date"
         }
        },
        "yaxis": {
         "anchor": "x",
         "domain": [
          0,
          1
         ],
         "title": {
          "text": "cumsum"
         }
        }
       }
      },
      "text/html": [
       "<div>\n",
       "        \n",
       "        \n",
       "            <div id=\"40d83848-20c8-41c1-9a75-175b6b953e6b\" class=\"plotly-graph-div\" style=\"height:525px; width:100%;\"></div>\n",
       "            <script type=\"text/javascript\">\n",
       "                require([\"plotly\"], function(Plotly) {\n",
       "                    window.PLOTLYENV=window.PLOTLYENV || {};\n",
       "                    \n",
       "                if (document.getElementById(\"40d83848-20c8-41c1-9a75-175b6b953e6b\")) {\n",
       "                    Plotly.newPlot(\n",
       "                        '40d83848-20c8-41c1-9a75-175b6b953e6b',\n",
       "                        [{\"hoverlabel\": {\"namelength\": 0}, \"hovertemplate\": \"date=%{x}<br>cumsum=%{y}\", \"legendgroup\": \"\", \"line\": {\"color\": \"#636efa\", \"dash\": \"solid\"}, \"mode\": \"lines\", \"name\": \"\", \"showlegend\": false, \"type\": \"scatter\", \"x\": [\"2020-01-29T07:51:29\", \"2020-01-28T20:14:52\", \"2020-01-28T20:14:26\", \"2020-01-28T20:12:37\", \"2020-01-24T23:47:12\", \"2020-01-09T10:25:17\", \"2020-01-07T20:19:26\", \"2020-01-06T08:54:43\", \"2020-01-03T17:19:05\", \"2019-12-31T22:28:30\", \"2019-12-31T20:32:02\", \"2019-12-31T20:26:09\", \"2019-12-19T21:54:50\", \"2019-12-03T21:56:11\", \"2019-12-03T20:51:19\", \"2019-12-03T20:49:09\", \"2019-11-28T23:13:21\", \"2019-11-28T22:18:50\", \"2019-11-28T21:43:28\", \"2019-11-28T21:41:56\", \"2019-11-28T21:41:35\", \"2019-11-28T21:40:34\", \"2019-11-28T21:40:35\", \"2019-11-28T21:40:21\", \"2019-11-28T21:39:36\", \"2019-11-25T22:19:09\", \"2019-11-25T20:08:57\", \"2019-11-25T20:03:52\", \"2019-11-25T20:03:39\", \"2019-11-25T20:01:49\", \"2019-11-25T19:58:05\", \"2019-11-25T19:56:33\", \"2019-11-25T19:17:14\", \"2019-11-22T18:16:53\", \"2019-11-12T21:19:56\", \"2019-11-12T21:18:05\", \"2019-11-12T19:49:54\", \"2019-11-12T19:45:37\", \"2019-11-12T19:44:35\", \"2019-11-12T19:44:18\", \"2019-11-12T19:43:46\", \"2019-11-06T21:37:12\", \"2019-10-27T18:31:25\", \"2019-10-25T15:19:26\", \"2019-10-23T20:54:01\", \"2019-10-23T17:24:37\", \"2019-10-18T12:20:10\", \"2019-10-18T12:17:46\", \"2019-10-18T12:17:22\", \"2019-10-18T07:30:28\", \"2019-10-13T19:22:24\", \"2019-10-12T21:05:27\", \"2019-10-09T21:42:54\", \"2019-09-30T22:37:16\", \"2019-09-29T16:57:20\", \"2019-09-29T15:31:40\", \"2019-09-27T21:25:31\", \"2019-09-25T09:34:44\", \"2019-09-25T09:34:21\", \"2019-09-18T21:35:23\", \"2019-09-18T21:34:19\", \"2019-09-18T21:33:54\", \"2019-09-18T20:38:27\", \"2019-09-18T20:12:16\", \"2019-09-18T11:52:38\", \"2019-09-17T19:29:17\", \"2019-09-16T10:41:54\", \"2019-09-09T21:41:16\", \"2019-09-09T19:44:35\", \"2019-09-06T21:40:55\", \"2019-08-25T17:37:37\", \"2019-08-25T17:37:36\", \"2019-08-25T15:54:48\", \"2019-02-07T09:57:07\", \"2019-02-07T09:53:27\", \"2018-12-20T21:59:49\", \"2018-12-20T16:10:53\", \"2018-12-20T16:04:21\", \"2018-12-20T15:07:21\", \"2018-12-20T12:34:05\", \"2018-12-20T11:52:36\", \"2018-11-15T23:13:13\", \"2018-11-15T23:13:12\", \"2018-05-18T22:00:40\", \"2018-04-10T20:15:09\", \"2018-04-10T11:02:10\", \"2018-04-05T19:32:23\", \"2018-02-02T21:30:53\"], \"xaxis\": \"x\", \"y\": [8.26, 16.759999999999998, 25.019999999999996, 33.31999999999999, 14.319999999999993, -85.68, -92.58000000000001, -51.58000000000001, -58.58000000000001, -165.4, -58.58000000000001, 48.23999999999998, 75.23999999999998, 84.03999999999998, 95.03999999999998, 105.03999999999998, 111.88999999999997, 118.88999999999997, 125.73999999999997, 135.08999999999997, 141.93999999999997, 148.78999999999996, 155.63999999999996, 162.53999999999996, 169.38999999999996, 159.38999999999996, 168.88999999999996, 180.28999999999996, 190.88999999999996, 199.88999999999996, 211.28999999999996, 220.08999999999997, 210.08999999999997, 195.08999999999997, 147.08999999999997, 155.08999999999997, 163.08999999999997, 172.58999999999997, 182.08999999999997, 191.58999999999997, 201.08999999999997, 193.58999999999997, 213.48999999999998, 209.68999999999997, 198.48999999999998, 179.48999999999998, 187.98999999999998, 179.48999999999998, 170.98999999999998, 160.98999999999998, 135.98999999999998, 120.98999999999998, 129.23999999999998, 117.83999999999997, 113.23999999999998, 132.04, 123.03999999999999, 131.34, 139.64000000000001, 142.14000000000001, 139.64000000000001, 137.14000000000001, 135.14000000000001, 132.64000000000001, 142.14000000000001, 150.64000000000001, 145.64000000000001, 160.64000000000001, 145.74, 154.24, 148.36, 142.48000000000002, 123.11000000000001, 129.11, 135.11, 140.11, 147.11, 155.11, 160.11, 170.11, 175.11, 170.11, 165.11, 16.410000000000025, 1.410000000000025, -57.799999999999976, -67.79999999999998, -37.79999999999998], \"yaxis\": \"y\"}],\n",
       "                        {\"legend\": {\"tracegroupgap\": 0}, \"margin\": {\"t\": 60}, \"template\": {\"data\": {\"bar\": [{\"error_x\": {\"color\": \"#2a3f5f\"}, \"error_y\": {\"color\": \"#2a3f5f\"}, \"marker\": {\"line\": {\"color\": \"#E5ECF6\", \"width\": 0.5}}, \"type\": \"bar\"}], \"barpolar\": [{\"marker\": {\"line\": {\"color\": \"#E5ECF6\", \"width\": 0.5}}, \"type\": \"barpolar\"}], \"carpet\": [{\"aaxis\": {\"endlinecolor\": \"#2a3f5f\", \"gridcolor\": \"white\", \"linecolor\": \"white\", \"minorgridcolor\": \"white\", \"startlinecolor\": \"#2a3f5f\"}, \"baxis\": {\"endlinecolor\": \"#2a3f5f\", \"gridcolor\": \"white\", \"linecolor\": \"white\", \"minorgridcolor\": \"white\", \"startlinecolor\": \"#2a3f5f\"}, \"type\": \"carpet\"}], \"choropleth\": [{\"colorbar\": {\"outlinewidth\": 0, \"ticks\": \"\"}, \"type\": \"choropleth\"}], \"contour\": [{\"colorbar\": {\"outlinewidth\": 0, \"ticks\": \"\"}, \"colorscale\": [[0.0, \"#0d0887\"], [0.1111111111111111, \"#46039f\"], [0.2222222222222222, \"#7201a8\"], [0.3333333333333333, \"#9c179e\"], [0.4444444444444444, \"#bd3786\"], [0.5555555555555556, \"#d8576b\"], [0.6666666666666666, \"#ed7953\"], [0.7777777777777778, \"#fb9f3a\"], [0.8888888888888888, \"#fdca26\"], [1.0, \"#f0f921\"]], \"type\": \"contour\"}], \"contourcarpet\": [{\"colorbar\": {\"outlinewidth\": 0, \"ticks\": \"\"}, \"type\": \"contourcarpet\"}], \"heatmap\": [{\"colorbar\": {\"outlinewidth\": 0, \"ticks\": \"\"}, \"colorscale\": [[0.0, \"#0d0887\"], [0.1111111111111111, \"#46039f\"], [0.2222222222222222, \"#7201a8\"], [0.3333333333333333, \"#9c179e\"], [0.4444444444444444, \"#bd3786\"], [0.5555555555555556, \"#d8576b\"], [0.6666666666666666, \"#ed7953\"], [0.7777777777777778, \"#fb9f3a\"], [0.8888888888888888, \"#fdca26\"], [1.0, \"#f0f921\"]], \"type\": \"heatmap\"}], \"heatmapgl\": [{\"colorbar\": {\"outlinewidth\": 0, \"ticks\": \"\"}, \"colorscale\": [[0.0, \"#0d0887\"], [0.1111111111111111, \"#46039f\"], [0.2222222222222222, \"#7201a8\"], [0.3333333333333333, \"#9c179e\"], [0.4444444444444444, \"#bd3786\"], [0.5555555555555556, \"#d8576b\"], [0.6666666666666666, \"#ed7953\"], [0.7777777777777778, \"#fb9f3a\"], [0.8888888888888888, \"#fdca26\"], [1.0, \"#f0f921\"]], \"type\": \"heatmapgl\"}], \"histogram\": [{\"marker\": {\"colorbar\": {\"outlinewidth\": 0, \"ticks\": \"\"}}, \"type\": \"histogram\"}], \"histogram2d\": [{\"colorbar\": {\"outlinewidth\": 0, \"ticks\": \"\"}, \"colorscale\": [[0.0, \"#0d0887\"], [0.1111111111111111, \"#46039f\"], [0.2222222222222222, \"#7201a8\"], [0.3333333333333333, \"#9c179e\"], [0.4444444444444444, \"#bd3786\"], [0.5555555555555556, \"#d8576b\"], [0.6666666666666666, \"#ed7953\"], [0.7777777777777778, \"#fb9f3a\"], [0.8888888888888888, \"#fdca26\"], [1.0, \"#f0f921\"]], \"type\": \"histogram2d\"}], \"histogram2dcontour\": [{\"colorbar\": {\"outlinewidth\": 0, \"ticks\": \"\"}, \"colorscale\": [[0.0, \"#0d0887\"], [0.1111111111111111, \"#46039f\"], [0.2222222222222222, \"#7201a8\"], [0.3333333333333333, \"#9c179e\"], [0.4444444444444444, \"#bd3786\"], [0.5555555555555556, \"#d8576b\"], [0.6666666666666666, \"#ed7953\"], [0.7777777777777778, \"#fb9f3a\"], [0.8888888888888888, \"#fdca26\"], [1.0, \"#f0f921\"]], \"type\": \"histogram2dcontour\"}], \"mesh3d\": [{\"colorbar\": {\"outlinewidth\": 0, \"ticks\": \"\"}, \"type\": \"mesh3d\"}], \"parcoords\": [{\"line\": {\"colorbar\": {\"outlinewidth\": 0, \"ticks\": \"\"}}, \"type\": \"parcoords\"}], \"pie\": [{\"automargin\": true, \"type\": \"pie\"}], \"scatter\": [{\"marker\": {\"colorbar\": {\"outlinewidth\": 0, \"ticks\": \"\"}}, \"type\": \"scatter\"}], \"scatter3d\": [{\"line\": {\"colorbar\": {\"outlinewidth\": 0, \"ticks\": \"\"}}, \"marker\": {\"colorbar\": {\"outlinewidth\": 0, \"ticks\": \"\"}}, \"type\": \"scatter3d\"}], \"scattercarpet\": [{\"marker\": {\"colorbar\": {\"outlinewidth\": 0, \"ticks\": \"\"}}, \"type\": \"scattercarpet\"}], \"scattergeo\": [{\"marker\": {\"colorbar\": {\"outlinewidth\": 0, \"ticks\": \"\"}}, \"type\": \"scattergeo\"}], \"scattergl\": [{\"marker\": {\"colorbar\": {\"outlinewidth\": 0, \"ticks\": \"\"}}, \"type\": \"scattergl\"}], \"scattermapbox\": [{\"marker\": {\"colorbar\": {\"outlinewidth\": 0, \"ticks\": \"\"}}, \"type\": \"scattermapbox\"}], \"scatterpolar\": [{\"marker\": {\"colorbar\": {\"outlinewidth\": 0, \"ticks\": \"\"}}, \"type\": \"scatterpolar\"}], \"scatterpolargl\": [{\"marker\": {\"colorbar\": {\"outlinewidth\": 0, \"ticks\": \"\"}}, \"type\": \"scatterpolargl\"}], \"scatterternary\": [{\"marker\": {\"colorbar\": {\"outlinewidth\": 0, \"ticks\": \"\"}}, \"type\": \"scatterternary\"}], \"surface\": [{\"colorbar\": {\"outlinewidth\": 0, \"ticks\": \"\"}, \"colorscale\": [[0.0, \"#0d0887\"], [0.1111111111111111, \"#46039f\"], [0.2222222222222222, \"#7201a8\"], [0.3333333333333333, \"#9c179e\"], [0.4444444444444444, \"#bd3786\"], [0.5555555555555556, \"#d8576b\"], [0.6666666666666666, \"#ed7953\"], [0.7777777777777778, \"#fb9f3a\"], [0.8888888888888888, \"#fdca26\"], [1.0, \"#f0f921\"]], \"type\": \"surface\"}], \"table\": [{\"cells\": {\"fill\": {\"color\": \"#EBF0F8\"}, \"line\": {\"color\": \"white\"}}, \"header\": {\"fill\": {\"color\": \"#C8D4E3\"}, \"line\": {\"color\": \"white\"}}, \"type\": \"table\"}]}, \"layout\": {\"annotationdefaults\": {\"arrowcolor\": \"#2a3f5f\", \"arrowhead\": 0, \"arrowwidth\": 1}, \"coloraxis\": {\"colorbar\": {\"outlinewidth\": 0, \"ticks\": \"\"}}, \"colorscale\": {\"diverging\": [[0, \"#8e0152\"], [0.1, \"#c51b7d\"], [0.2, \"#de77ae\"], [0.3, \"#f1b6da\"], [0.4, \"#fde0ef\"], [0.5, \"#f7f7f7\"], [0.6, \"#e6f5d0\"], [0.7, \"#b8e186\"], [0.8, \"#7fbc41\"], [0.9, \"#4d9221\"], [1, \"#276419\"]], \"sequential\": [[0.0, \"#0d0887\"], [0.1111111111111111, \"#46039f\"], [0.2222222222222222, \"#7201a8\"], [0.3333333333333333, \"#9c179e\"], [0.4444444444444444, \"#bd3786\"], [0.5555555555555556, \"#d8576b\"], [0.6666666666666666, \"#ed7953\"], [0.7777777777777778, \"#fb9f3a\"], [0.8888888888888888, \"#fdca26\"], [1.0, \"#f0f921\"]], \"sequentialminus\": [[0.0, \"#0d0887\"], [0.1111111111111111, \"#46039f\"], [0.2222222222222222, \"#7201a8\"], [0.3333333333333333, \"#9c179e\"], [0.4444444444444444, \"#bd3786\"], [0.5555555555555556, \"#d8576b\"], [0.6666666666666666, \"#ed7953\"], [0.7777777777777778, \"#fb9f3a\"], [0.8888888888888888, \"#fdca26\"], [1.0, \"#f0f921\"]]}, \"colorway\": [\"#636efa\", \"#EF553B\", \"#00cc96\", \"#ab63fa\", \"#FFA15A\", \"#19d3f3\", \"#FF6692\", \"#B6E880\", \"#FF97FF\", \"#FECB52\"], \"font\": {\"color\": \"#2a3f5f\"}, \"geo\": {\"bgcolor\": \"white\", \"lakecolor\": \"white\", \"landcolor\": \"#E5ECF6\", \"showlakes\": true, \"showland\": true, \"subunitcolor\": \"white\"}, \"hoverlabel\": {\"align\": \"left\"}, \"hovermode\": \"closest\", \"mapbox\": {\"style\": \"light\"}, \"paper_bgcolor\": \"white\", \"plot_bgcolor\": \"#E5ECF6\", \"polar\": {\"angularaxis\": {\"gridcolor\": \"white\", \"linecolor\": \"white\", \"ticks\": \"\"}, \"bgcolor\": \"#E5ECF6\", \"radialaxis\": {\"gridcolor\": \"white\", \"linecolor\": \"white\", \"ticks\": \"\"}}, \"scene\": {\"xaxis\": {\"backgroundcolor\": \"#E5ECF6\", \"gridcolor\": \"white\", \"gridwidth\": 2, \"linecolor\": \"white\", \"showbackground\": true, \"ticks\": \"\", \"zerolinecolor\": \"white\"}, \"yaxis\": {\"backgroundcolor\": \"#E5ECF6\", \"gridcolor\": \"white\", \"gridwidth\": 2, \"linecolor\": \"white\", \"showbackground\": true, \"ticks\": \"\", \"zerolinecolor\": \"white\"}, \"zaxis\": {\"backgroundcolor\": \"#E5ECF6\", \"gridcolor\": \"white\", \"gridwidth\": 2, \"linecolor\": \"white\", \"showbackground\": true, \"ticks\": \"\", \"zerolinecolor\": \"white\"}}, \"shapedefaults\": {\"line\": {\"color\": \"#2a3f5f\"}}, \"ternary\": {\"aaxis\": {\"gridcolor\": \"white\", \"linecolor\": \"white\", \"ticks\": \"\"}, \"baxis\": {\"gridcolor\": \"white\", \"linecolor\": \"white\", \"ticks\": \"\"}, \"bgcolor\": \"#E5ECF6\", \"caxis\": {\"gridcolor\": \"white\", \"linecolor\": \"white\", \"ticks\": \"\"}}, \"title\": {\"x\": 0.05}, \"xaxis\": {\"automargin\": true, \"gridcolor\": \"white\", \"linecolor\": \"white\", \"ticks\": \"\", \"title\": {\"standoff\": 15}, \"zerolinecolor\": \"white\", \"zerolinewidth\": 2}, \"yaxis\": {\"automargin\": true, \"gridcolor\": \"white\", \"linecolor\": \"white\", \"ticks\": \"\", \"title\": {\"standoff\": 15}, \"zerolinecolor\": \"white\", \"zerolinewidth\": 2}}}, \"xaxis\": {\"anchor\": \"y\", \"domain\": [0.0, 1.0], \"title\": {\"text\": \"date\"}}, \"yaxis\": {\"anchor\": \"x\", \"domain\": [0.0, 1.0], \"title\": {\"text\": \"cumsum\"}}},\n",
       "                        {\"responsive\": true}\n",
       "                    ).then(function(){\n",
       "                            \n",
       "var gd = document.getElementById('40d83848-20c8-41c1-9a75-175b6b953e6b');\n",
       "var x = new MutationObserver(function (mutations, observer) {{\n",
       "        var display = window.getComputedStyle(gd).display;\n",
       "        if (!display || display === 'none') {{\n",
       "            console.log([gd, 'removed!']);\n",
       "            Plotly.purge(gd);\n",
       "            observer.disconnect();\n",
       "        }}\n",
       "}});\n",
       "\n",
       "// Listen for the removal of the full notebook cells\n",
       "var notebookContainer = gd.closest('#notebook-container');\n",
       "if (notebookContainer) {{\n",
       "    x.observe(notebookContainer, {childList: true});\n",
       "}}\n",
       "\n",
       "// Listen for the clearing of the current output cell\n",
       "var outputEl = gd.closest('.output');\n",
       "if (outputEl) {{\n",
       "    x.observe(outputEl, {childList: true});\n",
       "}}\n",
       "\n",
       "                        })\n",
       "                };\n",
       "                });\n",
       "            </script>\n",
       "        </div>"
      ]
     },
     "metadata": {},
     "output_type": "display_data"
    }
   ],
   "source": [
    "import plotly.express as px\n",
    "\n",
    "fig = px.line(mails_lydia_cpy, x='date', y='cumsum')\n",
    "fig.show()"
   ]
  },
  {
   "cell_type": "code",
   "execution_count": 263,
   "metadata": {},
   "outputs": [
    {
     "name": "stdout",
     "output_type": "stream",
     "text": [
      "votre justificatif d'achat gala de prestige de l039ensta cette annee le gala vous emmene aux salons hoche 9 avenue hoche 75008 pour une soiree en trois temps un repas gastronomique servi par les cuisiniers des salons hoche 20h3022h00 un bal dansant avec danse de salon valse rock swing danse 22h1523h30 derniere soiree etudiante de nos diplomes sur le theme du casino le bal dansant est inclus dans tout les forfaits et donc accessible a tous pour toute remarque ou question vous pouvez vous adressez a pierre haro pierreharo@enstaparisfr recuperez grace au lien cidessous le justificatif de votre achat a gala ensta paristech vous pouvez l'enregistrer sur votre telephone ou l'imprimer il peut vous etre demande pour justifier de votre achat telecharger le ticket l'application lydia est concue dans le sentier au coeur de parisgerer mes notifications \n",
      "nan\n",
      "\n",
      "\n",
      " axel rochel vous a regle 826 € l'argent a ete credite sur votre compte solde lydia ouvrir lydia virer a ma banque vous pouvez egalement l'utiliser pour conserver votre argent sur lydia pas d'inquietude il sera bien garde regler un ami depuis l'application faire un achat sur internet ou dans une application avec la carte internet lydia payer un partenaire de lydia en generant un qr code sur votre telephone l'identifiant de cette transaction est 7039c84247307a9fc45f921813fdf440 \n",
      "8.26\n",
      "\n",
      "\n",
      " maximilien germain vous a regle 850 € l'argent a ete credite sur votre compte solde lydia ouvrir lydia virer a ma banque vous pouvez egalement l'utiliser pour conserver votre argent sur lydia pas d'inquietude il sera bien garde regler un ami depuis l'application faire un achat sur internet ou dans une application avec la carte internet lydia payer un partenaire de lydia en generant un qr code sur votre telephone l'identifiant de cette transaction est 8cab4c1df4e04e58503b4b75c04139e8 \n",
      "8.5\n",
      "\n",
      "\n",
      " clement fauchereau vous a regle 826 € l'argent a ete credite sur votre compte solde lydia ouvrir lydia virer a ma banque vous pouvez egalement l'utiliser pour conserver votre argent sur lydia pas d'inquietude il sera bien garde regler un ami depuis l'application faire un achat sur internet ou dans une application avec la carte internet lydia payer un partenaire de lydia en generant un qr code sur votre telephone l'identifiant de cette transaction est 405a0f41ba7f493656bef5085fa3f6f0 \n",
      "8.26\n",
      "\n",
      "\n",
      " tom sanchez vous a regle 830 € l'argent a ete credite sur votre compte solde lydia ouvrir lydia virer a ma banque vous pouvez egalement l'utiliser pour conserver votre argent sur lydia pas d'inquietude il sera bien garde regler un ami depuis l'application faire un achat sur internet ou dans une application avec la carte internet lydia payer un partenaire de lydia en generant un qr code sur votre telephone l'identifiant de cette transaction est deb163a5f64bc89763dd4448183510b6 \n",
      "8.3\n",
      "\n",
      "\n",
      " 1900 € payes a jean joanny 25012020 a 00h46 compte lydia identifiant 10525f9f208994b6a69f9f7bca5f1435 l'application lydia est concue dans le sentier au coeur de paris gerer mes notifications \n",
      "-19.0\n",
      "\n",
      "\n",
      " 10000 € payes a clarisse aujoux 09012020 a 11h23 carte bancaire 49xxxxxxxxxx5707 identifiant 4fe7c3772a04a2ed2a61479b2d607dd2 l'application lydia est concue dans le sentier au coeur de paris gerer mes notifications \n",
      "-100.0\n",
      "\n",
      "\n",
      " logolydiapng virement vers \"christophe boetto\" confirme vous avez demande un virement de 10000 € vers votre compte bancaire \"christophe boetto\" en utilisant l'argent que vous aviez sur votre compte lydia \"solde lydia\" avec le message \"tunes\"cette operation sera executee demain matin sans commission c'est un virement bancaire standard qui peut prendre jusqu'a trois jours ouvres avant que le compte destinataire soit credite la prochaine fois depensez directement en magasin sans attendre 😇 activez la fonction « paiement mobile sans contact » de lydia des maintenant pour pouvoir depenser l'argent que vous avez sur lydia directement en magasin la prochaine fois vous pourrez payer en approchant votre smartphone du terminal de paiement par carte du commercantactiver le sans contact l'equipe lydia une question ? un probleme ?la reponse se trouve surement dans notre centre d'aide lydia est concue par lydia solutions dans le sentier au coeur de paris cliquez ici pour ne plus recevoir ce type de mail\n",
      "nan\n",
      "\n",
      "\n",
      " 690 € payes a guillaume jomee 07012020 a 21h18 compte lydia identifiant c48195c50279d6d009acafa56b2ac890 l'application lydia est concue dans le sentier au coeur de paris gerer mes notifications \n",
      "-6.9\n",
      "\n",
      "\n",
      " vianney delattre vous a regle 4100 € l'argent a ete credite sur votre compte solde lydia ouvrir lydia virer a ma banque vous pouvez utiliser cet argent des maintenant pour payer avec lydia ou le virer sur votre compte bancaire sans frais mais il faudra alors attendre jusqu'a trois jours ouvres pour pouvoir l'utiliser comme un virement bancaire standard l'identifiant de cette transaction est 120bd99b7dee478c51cad71b5f9f876f pour virer l'argent sans passer par l'application cliquez ici l'application lydia est concue dans le sentier au coeur de paris \n",
      "41.0\n",
      "\n",
      "\n",
      " 700 € payes a niels enslen 03012020 a 18h16 compte lydia identifiant d5d06cabbe4f21cae62646e25fd82d73 l'application lydia est concue dans le sentier au coeur de paris gerer mes notifications \n",
      "-7.0\n",
      "\n",
      "\n",
      " 10682 € payes a guillaume jomee 31122019 a 23h27 compte lydia identifiant d241dc916d92e201a640219961532e0e l'application lydia est concue dans le sentier au coeur de paris gerer mes notifications \n",
      "-106.82\n",
      "\n",
      "\n",
      " guillaume jomee vous a regle 10682 € l'argent a ete credite sur votre compte ouvrir lydia virer a ma banque vous pouvez utiliser cet argent des maintenant pour payer avec lydia ou le virer sur votre compte bancaire sans frais mais il faudra alors attendre jusqu'a trois jours ouvres pour pouvoir l'utiliser comme un virement bancaire standard l'identifiant de cette transaction est ecbaff836e4ef0dd8674ce412005dcbf pour virer l'argent sans passer par l'application cliquez ici l'application lydia est concue dans le sentier au coeur de paris \n",
      "106.82\n",
      "\n",
      "\n",
      " guillaume jomee vous a regle 10682 € l'argent a ete credite sur votre compte ouvrir lydia virer a ma banque vous pouvez utiliser cet argent des maintenant pour payer avec lydia ou le virer sur votre compte bancaire sans frais mais il faudra alors attendre jusqu'a trois jours ouvres pour pouvoir l'utiliser comme un virement bancaire standard l'identifiant de cette transaction est ae4ce06b90f9e12a48c74d3058aa379b pour virer l'argent sans passer par l'application cliquez ici l'application lydia est concue dans le sentier au coeur de paris \n",
      "106.82\n",
      "\n",
      "\n",
      " logolydiapng virement vers \"christophe boetto\" confirme vous avez demande un virement de 15000 € vers votre compte bancaire \"christophe boetto\" en utilisant l'argent que vous aviez sur votre compte lydia \"solde lydia\" avec le message \"remboursement\"cette operation sera executee demain matin sans commission c'est un virement bancaire standard qui peut prendre jusqu'a trois jours ouvres avant que le compte destinataire soit credite la prochaine fois depensez directement en magasin sans attendre 😇 activez la fonction « paiement mobile sans contact » de lydia des maintenant pour pouvoir depenser l'argent que vous avez sur lydia directement en magasin la prochaine fois vous pourrez payer en approchant votre smartphone du terminal de paiement par carte du commercantactiver le sans contact l'equipe lydia une question ? un probleme ?la reponse se trouve surement dans notre centre d'aide lydia est concue par lydia solutions dans le sentier au coeur de paris cliquez ici pour ne plus recevoir ce type de mail\n",
      "nan\n",
      "\n",
      "\n",
      " genevieve vigner vous a regle 2700 € l'argent a ete credite sur votre compte ouvrir lydia virer a ma banque vous pouvez utiliser cet argent des maintenant pour payer avec lydia ou le virer sur votre compte bancaire sans frais mais il faudra alors attendre jusqu'a trois jours ouvres pour pouvoir l'utiliser comme un virement bancaire standard l'identifiant de cette transaction est a57f36b4ac51310396d96f61c944a5bd pour virer l'argent sans passer par l'application cliquez ici l'application lydia est concue dans le sentier au coeur de paris \n",
      "27.0\n",
      "\n",
      "\n",
      " axel rochel vous a regle 880 € l'argent a ete credite sur votre compte ouvrir lydia virer a ma banque vous pouvez utiliser cet argent des maintenant pour payer avec lydia ou le virer sur votre compte bancaire sans frais mais il faudra alors attendre jusqu'a trois jours ouvres pour pouvoir l'utiliser comme un virement bancaire standard l'identifiant de cette transaction est 8ba4caa95e61f74f2164dfd448d21f29 pour virer l'argent sans passer par l'application cliquez ici l'application lydia est concue dans le sentier au coeur de paris \n",
      "8.8\n",
      "\n",
      "\n",
      " maximilien germain vous a regle 1100 € l'argent a ete credite sur votre compte ouvrir lydia virer a ma banque vous pouvez utiliser cet argent des maintenant pour payer avec lydia ou le virer sur votre compte bancaire sans frais mais il faudra alors attendre jusqu'a trois jours ouvres pour pouvoir l'utiliser comme un virement bancaire standard l'identifiant de cette transaction est 4362f26835f8ac12e5983786cf2ee456 pour virer l'argent sans passer par l'application cliquez ici l'application lydia est concue dans le sentier au coeur de paris \n",
      "11.0\n",
      "\n",
      "\n",
      " alexandre boffard vous a regle 1000 € l'argent a ete credite sur votre compte ouvrir lydia virer a ma banque vous pouvez utiliser cet argent des maintenant pour payer avec lydia ou le virer sur votre compte bancaire sans frais mais il faudra alors attendre jusqu'a trois jours ouvres pour pouvoir l'utiliser comme un virement bancaire standard l'identifiant de cette transaction est fe136b99be498c7176e8006e495b2e1c pour virer l'argent sans passer par l'application cliquez ici l'application lydia est concue dans le sentier au coeur de paris \n",
      "10.0\n",
      "\n",
      "\n",
      " votre paiement de 1000 € a +33675961090 a expire la semaine derniere vous avez envoye 1000 € avec lydia a +33675961090 vous aviez associe ce message au virement entrainement votre contact n'a pas accepte votre virement malgre nos relances la transaction a donc ete annulee et nous venons a l'instant de recrediter ce montant sur la carte que vous aviez utilisee compte lydia si vous avez utilise une carte de credit jusqu'a trois jours ouvres peuvent s'ecouler avant que vous ne voyiez apparaitre le credit sur votre releve de compte bancaire si vous n'etes pas a l'origine de cette action ou s'il y a une erreur veuillez nous contacter par email l'application lydia est concue dans le sentier au coeur de paris gerer mes notifications \n",
      "nan\n",
      "\n",
      "\n",
      " genevieve vigner vous a regle 685 € l'argent a ete credite sur votre compte ouvrir lydia virer a ma banque vous pouvez utiliser cet argent des maintenant pour payer avec lydia ou le virer sur votre compte bancaire sans frais mais il faudra alors attendre jusqu'a trois jours ouvres pour pouvoir l'utiliser comme un virement bancaire standard l'identifiant de cette transaction est b61f25b57752eb3b26d3729d6b930fca pour virer l'argent sans passer par l'application cliquez ici l'application lydia est concue dans le sentier au coeur de paris \n",
      "6.85\n",
      "\n",
      "\n",
      " maximilien germain vous a regle 700 € l'argent a ete credite sur votre compte ouvrir lydia virer a ma banque vous pouvez utiliser cet argent des maintenant pour payer avec lydia ou le virer sur votre compte bancaire sans frais mais il faudra alors attendre jusqu'a trois jours ouvres pour pouvoir l'utiliser comme un virement bancaire standard l'identifiant de cette transaction est 549e77791f9271ba3467ed24ece33efc pour virer l'argent sans passer par l'application cliquez ici l'application lydia est concue dans le sentier au coeur de paris \n",
      "7.0\n",
      "\n",
      "\n",
      " gregoire bussiere vous a regle 685 € l'argent a ete credite sur votre compte ouvrir lydia virer a ma banque vous pouvez utiliser cet argent des maintenant pour payer avec lydia ou le virer sur votre compte bancaire sans frais mais il faudra alors attendre jusqu'a trois jours ouvres pour pouvoir l'utiliser comme un virement bancaire standard l'identifiant de cette transaction est ff0dd57d3ecd150f18da991480168f93 pour virer l'argent sans passer par l'application cliquez ici l'application lydia est concue dans le sentier au coeur de paris \n",
      "6.85\n",
      "\n",
      "\n",
      " guillaume jomee vous a regle 935 € l'argent a ete credite sur votre compte ouvrir lydia virer a ma banque vous pouvez utiliser cet argent des maintenant pour payer avec lydia ou le virer sur votre compte bancaire sans frais mais il faudra alors attendre jusqu'a trois jours ouvres pour pouvoir l'utiliser comme un virement bancaire standard l'identifiant de cette transaction est 75d258247e2cca5cd71bdc576e9461f0 pour virer l'argent sans passer par l'application cliquez ici l'application lydia est concue dans le sentier au coeur de paris \n",
      "9.35\n",
      "\n",
      "\n",
      " bourreau—tirel guillaume vous a regle 685 € l'argent a ete credite sur votre compte ouvrir lydia vous pouvez utiliser cet argent des maintenant pour payer avec lydia ou le virer sur votre compte bancaire sans frais mais il faudra alors attendre jusqu'a trois jours ouvres pour pouvoir l'utiliser comme un virement bancaire standard l'identifiant de cette transaction est 6ebc100caea1f595f5e629502a7e968c l'application lydia est concue dans le sentier au coeur de paris \n",
      "6.85\n",
      "\n",
      "\n",
      " antoine gey vous a regle 685 € l'argent a ete credite sur votre compte ouvrir lydia virer a ma banque vous pouvez utiliser cet argent des maintenant pour payer avec lydia ou le virer sur votre compte bancaire sans frais mais il faudra alors attendre jusqu'a trois jours ouvres pour pouvoir l'utiliser comme un virement bancaire standard l'identifiant de cette transaction est 7af538a1de6cbbb076f3cdfd1b3871d5 pour virer l'argent sans passer par l'application cliquez ici l'application lydia est concue dans le sentier au coeur de paris \n",
      "6.85\n",
      "\n",
      "\n",
      " oscar lecorne vous a regle 685 € l'argent a ete credite sur votre compte ouvrir lydia vous pouvez utiliser cet argent des maintenant pour payer avec lydia ou le virer sur votre compte bancaire sans frais mais il faudra alors attendre jusqu'a trois jours ouvres pour pouvoir l'utiliser comme un virement bancaire standard l'identifiant de cette transaction est 0abaa521d67d7b1898fb44809c9c1340 l'application lydia est concue dans le sentier au coeur de paris \n",
      "6.85\n",
      "\n",
      "\n",
      " matthieu vilatte vous a regle 690 € l'argent a ete credite sur votre compte ouvrir lydia vous pouvez utiliser cet argent des maintenant pour payer avec lydia ou le virer sur votre compte bancaire sans frais mais il faudra alors attendre jusqu'a trois jours ouvres pour pouvoir l'utiliser comme un virement bancaire standard l'identifiant de cette transaction est 32fbbd3cd4a5334c211be2a6d3c4f693 l'application lydia est concue dans le sentier au coeur de paris \n",
      "6.9\n",
      "\n",
      "\n",
      " remi pedenonorlanducci vous a regle 685 € l'argent a ete credite sur votre compte ouvrir lydia vous pouvez utiliser cet argent des maintenant pour payer avec lydia ou le virer sur votre compte bancaire sans frais mais il faudra alors attendre jusqu'a trois jours ouvres pour pouvoir l'utiliser comme un virement bancaire standard l'identifiant de cette transaction est 528cb281fa05bfa5443ce05fd479f2b5 l'application lydia est concue dans le sentier au coeur de paris \n",
      "6.85\n",
      "\n",
      "\n",
      " 1000 € payes a vianney delattre 25112019 a 23h18 compte lydia identifiant b70c7276c2567674ebba0d4fe42bf26b l'application lydia est concue dans le sentier au coeur de paris gerer mes notifications \n",
      "-10.0\n",
      "\n",
      "\n",
      " armand touminet vous a regle 950 € l'argent a ete credite sur votre compte ouvrir lydia virer a ma banque vous pouvez utiliser cet argent des maintenant pour payer avec lydia ou le virer sur votre compte bancaire sans frais mais il faudra alors attendre jusqu'a trois jours ouvres pour pouvoir l'utiliser comme un virement bancaire standard l'identifiant de cette transaction est ba965d8b64f58ccf32cea4863cb57f4c pour virer l'argent sans passer par l'application cliquez ici l'application lydia est concue dans le sentier au coeur de paris \n",
      "9.5\n",
      "\n",
      "\n",
      " valentin sebe vous a regle 1140 € l'argent a ete credite sur votre compte ouvrir lydia virer a ma banque vous pouvez utiliser cet argent des maintenant pour payer avec lydia ou le virer sur votre compte bancaire sans frais mais il faudra alors attendre jusqu'a trois jours ouvres pour pouvoir l'utiliser comme un virement bancaire standard l'identifiant de cette transaction est d10e607f4f1743536edd5420677a3ac3 pour virer l'argent sans passer par l'application cliquez ici l'application lydia est concue dans le sentier au coeur de paris \n",
      "11.4\n",
      "\n",
      "\n",
      " antoine gey vous a regle 1060 € l'argent a ete credite sur votre compte ouvrir lydia virer a ma banque vous pouvez utiliser cet argent des maintenant pour payer avec lydia ou le virer sur votre compte bancaire sans frais mais il faudra alors attendre jusqu'a trois jours ouvres pour pouvoir l'utiliser comme un virement bancaire standard l'identifiant de cette transaction est 9f532e722d74ac296399d75e9db1899d pour virer l'argent sans passer par l'application cliquez ici l'application lydia est concue dans le sentier au coeur de paris \n",
      "10.6\n",
      "\n",
      "\n",
      " maximilien germain vous a regle 900 € l'argent a ete credite sur votre compte ouvrir lydia virer a ma banque vous pouvez utiliser cet argent des maintenant pour payer avec lydia ou le virer sur votre compte bancaire sans frais mais il faudra alors attendre jusqu'a trois jours ouvres pour pouvoir l'utiliser comme un virement bancaire standard l'identifiant de cette transaction est 8b1f46323c9e2b197832f3d86b45e402 pour virer l'argent sans passer par l'application cliquez ici l'application lydia est concue dans le sentier au coeur de paris \n",
      "9.0\n",
      "\n",
      "\n",
      " tom sanchez vous a regle 1140 € l'argent a ete credite sur votre compte ouvrir lydia virer a ma banque vous pouvez utiliser cet argent des maintenant pour payer avec lydia ou le virer sur votre compte bancaire sans frais mais il faudra alors attendre jusqu'a trois jours ouvres pour pouvoir l'utiliser comme un virement bancaire standard l'identifiant de cette transaction est 112ca03dc2d6458761dc7032c4a24b00 pour virer l'argent sans passer par l'application cliquez ici l'application lydia est concue dans le sentier au coeur de paris \n",
      "11.4\n",
      "\n",
      "\n",
      " guillaume jomee vous a regle 880 € l'argent a ete credite sur votre compte ouvrir lydia virer a ma banque vous pouvez utiliser cet argent des maintenant pour payer avec lydia ou le virer sur votre compte bancaire sans frais mais il faudra alors attendre jusqu'a trois jours ouvres pour pouvoir l'utiliser comme un virement bancaire standard l'identifiant de cette transaction est 84430ca920b66ad6e4e59cbb63d0bf21 pour virer l'argent sans passer par l'application cliquez ici l'application lydia est concue dans le sentier au coeur de paris \n",
      "8.8\n",
      "\n",
      "\n",
      " 1000 € payes a +33675961090 25112019 a 20h14 compte lydia identifiant 6fb54c7046098c7c33277338649fd1bf l'application lydia est concue dans le sentier au coeur de paris gerer mes notifications \n",
      "-10.0\n",
      "\n",
      "\n",
      " 1500 € payes a maximilien germain 22112019 a 19h14 carte bancaire 49xxxxxxxxxx5707 si maximilien germain utilise lydia son compte lydia a ete automatiquement credite si non ilelle a 7 jours pour accepter votre lydia s'ilelle le refuse la carte que vous avez utilisee sera automatiquement recreditee identifiant 49c5f5b770a077c0702c108893529607 l'application lydia est concue dans le sentier au coeur de paris gerer mes notifications \n",
      "-15.0\n",
      "\n",
      "\n",
      " grand tasting envoyer 1500 € a maximilien germain l'application lydia est concue dans le sentier au coeur de paris gerer mes notifications \n",
      "nan\n",
      "\n",
      "\n",
      " les commercants font briller leurs etals les marchands venus de tous horizons alignent leurs tresors… ca y est tout est pret le marche de lydia est ouvert 🎉 nous avons invite une selection de startups et de banques a presenter leurs meilleurs services dans un nouvel endroit de l’application nomme « le marche » accessible depuis le 4e ongletcertaines de ces offres vous feront gagner du temps d’autres de l’argent d’autres enfin sont tout simplement uniques en leur genre et meritent qu'on s'y interesse comme par exemple ☂️ une assurance habitation qui rembourse rapidement en cas de pepin 🏦 un compte bancaire en ligne gratuit avec une super prime d’ouverture ✈️ une aide pour obtenir jusqu’a 600 € d’indemnisation pour un vol retarde ou annule 📱 des offres pour reduire ses factures de telephone d’internet ou d’electricite immediatementnous avons simplifie au maximum l’inscription a ces services pour que vous n’ayez plus qu’a dire « je le veux » ou presque le jour ou vous serez pret a leur donner une chance aller au marche ce nouvel espace accueille desormais des fonctionnalites qui etaient deja disponibles dans l'application depuis quelques mois comme le pret instantane ou l’assurance mobile des cartescadeaux 🎁 des cartescadeaux sont egalement en vente au marche pour que vous puissiez faire plaisir aussi rapidement et simplement que vous faites des lydia choisissez une enseigne deja plus de 20 disponibles le montant votre cartecadeau s'affiche vous pouvez l'utiliser ou l'offrir vous pourrez parfois meme gagner un bonus jusqu’a 8 chez zalando foot locker ou la redoute par exemplepour decouvrir cette nouvelle fonction c’est par ici l’equipe lydia lydia est concue par lydia solutions dans le sentier au coeur de paris cliquez ici pour ne plus recevoir les newsletters lydia\n",
      "nan\n",
      "\n",
      "\n",
      " 4800 € payes a tanin oenologie 12112019 a 22h17 compte lydia identifiant b48d9e4c23cb87144382fce1a61b41a2 l'application lydia est concue dans le sentier au coeur de paris gerer mes notifications \n",
      "-48.0\n",
      "\n",
      "\n",
      " axel rochel vous a regle 800 € vous venez de recevoir 800 € de la part de axel rochel l'argent a ete credite sur votre compte lydia ouvrir lydia virer a ma banque vous pouvez utiliser cet argent des maintenant pour payer avec lydia ou le virer sur votre compte bancaire sans frais mais il faudra alors attendre trois jours ouvres pour pouvoir l'utiliser comme un virement bancaire standard l'identifiant de cette transaction est 271e60f48ba1055a5bf2ba18183c525e l'application lydia est concue dans le sentier au coeur de paris \n",
      "8.0\n",
      "\n",
      "\n",
      " bourreau—tirel guillaume vous a regle 800 € vous venez de recevoir 800 € de la part de bourreau—tirel guillaume l'argent a ete credite sur votre compte lydia ouvrir lydia virer a ma banque vous pouvez utiliser cet argent des maintenant pour payer avec lydia ou le virer sur votre compte bancaire sans frais mais il faudra alors attendre trois jours ouvres pour pouvoir l'utiliser comme un virement bancaire standard l'identifiant de cette transaction est 8e69533705d5751e8e39c01ccfd4fc3b l'application lydia est concue dans le sentier au coeur de paris \n",
      "8.0\n",
      "\n",
      "\n",
      " tom sanchez vous a regle 950 € vous venez de recevoir 950 € de la part de tom sanchez l'argent a ete credite sur votre compte lydia ouvrir lydia virer a ma banque vous pouvez utiliser cet argent des maintenant pour payer avec lydia ou le virer sur votre compte bancaire sans frais mais il faudra alors attendre trois jours ouvres pour pouvoir l'utiliser comme un virement bancaire standard l'identifiant de cette transaction est bd7ae5b3a042a63fd9098e606a8d2877 l'application lydia est concue dans le sentier au coeur de paris \n",
      "9.5\n",
      "\n",
      "\n",
      " atoli huppe vous a regle 950 € vous venez de recevoir 950 € de la part de atoli huppe l'argent a ete credite sur votre compte lydia ouvrir lydia virer a ma banque vous pouvez utiliser cet argent des maintenant pour payer avec lydia ou le virer sur votre compte bancaire sans frais mais il faudra alors attendre trois jours ouvres pour pouvoir l'utiliser comme un virement bancaire standard l'identifiant de cette transaction est 47461ab3513952fcddf4ea48fe44e888 l'application lydia est concue dans le sentier au coeur de paris \n",
      "9.5\n",
      "\n",
      "\n",
      " maximilien germain vous a regle 950 € vous venez de recevoir 950 € de la part de maximilien germain l'argent a ete credite sur votre compte lydia ouvrir lydia virer a ma banque vous pouvez utiliser cet argent des maintenant pour payer avec lydia ou le virer sur votre compte bancaire sans frais mais il faudra alors attendre trois jours ouvres pour pouvoir l'utiliser comme un virement bancaire standard l'identifiant de cette transaction est ed090578f45c1c4c26d62430a3c2b929 l'application lydia est concue dans le sentier au coeur de paris \n",
      "9.5\n",
      "\n",
      "\n",
      " antoine gey vous a regle 950 € vous venez de recevoir 950 € de la part de antoine gey l'argent a ete credite sur votre compte lydia ouvrir lydia virer a ma banque vous pouvez utiliser cet argent des maintenant pour payer avec lydia ou le virer sur votre compte bancaire sans frais mais il faudra alors attendre trois jours ouvres pour pouvoir l'utiliser comme un virement bancaire standard l'identifiant de cette transaction est c9022faadeddc480b1654fa7feccea42 l'application lydia est concue dans le sentier au coeur de paris \n",
      "9.5\n",
      "\n",
      "\n",
      " 750 € payes a maximilien germain 06112019 a 22h35 compte lydia identifiant 4373e022c91bd178d431c9c5cb5f971c l'application lydia est concue dans le sentier au coeur de paris gerer mes notifications \n",
      "-7.5\n",
      "\n",
      "\n",
      " pierre bruno quiros vous a regle 1990 € vous venez de recevoir 1990 € de la part de pierre bruno quiros l'argent a ete credite sur votre compte lydia ouvrir lydia virer a ma banque vous pouvez utiliser cet argent des maintenant pour payer avec lydia ou le virer sur votre compte bancaire sans frais mais il faudra alors attendre trois jours ouvres pour pouvoir l'utiliser comme un virement bancaire standard l'identifiant de cette transaction est 981794b0bdac44be7cb2436a1a181c54 l'application lydia est concue dans le sentier au coeur de paris \n",
      "19.9\n",
      "\n",
      "\n",
      " entre nous qui a deja lu les « conditions generales d’utilisation » d’un service… en entier ? meme si elles sont ecrites par la plus belle des plumes ce n’est jamais une partie de plaisir c’est pourtant la base de la relation que nous avons ensemblealors pour qu’il n’y ait aucun malentendu entre nous nous avons pris le temps de vous resumer les principaux changements qui ont lieu a partir d’aujourd’hui dans votre utilisation de lydia des services bien encadres 😇 ces derniers mois nous avons developpe de nombreuses fonctionnalites comme lydia premium la cagnotte lydia les comptes partages la carte lydia ou le paiement mobile sans contact on a aussi choisi de renforcer la securite de vos comptes pour proteger toujours plus votre argenton a donc grave cela dans le marbre en le detaillant dans nos fameuses « cgu » si vous aimez les lire en integralite vous pouvez les consulter en cliquant sur le bouton cidessous sinon lisez la suite 😉 lire les cgu vous pouvez egalement consulter les conditions d'utilisation de lydia premium a ce lien et celles des comptes partages a ce lien des tarifs qui evoluent 👌 on a vu dans cet email l'occasion ideale d'evoquer avec vous nos nouveaux tarifs voici quelques exemples de changements la commission de la nouvelle cagnotte lydia est fixee a 19 de la somme collectee c’est gratuit avec lydia premium ou en convertissant la somme collectee en cartescadeaux il est possible de payer a l’annee pour l’option lydia premium 2990 € par an et d'en profiter pour faire des economies la carte lydia est desormais accessible aux utilisateurs non premium la commande coute 5 € et vous pouvez maintenant en utiliser plusieurs on a aussi pris le temps de detailler d’autres frais comme les frais d’inactivite les frais de gestion des impayes ou les penalites pour violation de nos cgu un service client plus reactif ⏱️ on est en permanence a votre ecoute afin de vous apporter la meilleure reponse dans les meilleurs delais toutes vos communications avec lydia se feront desormais par email vos questions vos reclamations vos retractations et vos demandes de resiliation devront etre envoyees a l’adresse support@lydiaappcom support@lydiaappcom nous sommes aussi sur le point d'ameliorer la rapidite de notre processus de verification des comptes lydia il ne sera plus necessaire de fournir un justificatif de domicile a votre nom une simple piece d’identite complementaire suffira quand seraije concerne ? 🤔 pour vous les nouvelles dispositions commenceront a etre appliquees dans deux mois vous avez donc jusqu’au 25 decembre 2019 pour nous faire part de votre eventuel refus en nous ecrivant par lettre recommandee avec accuse de reception a l’adresse « lydia solutions 137 rue d’aboukir 75002 paris »les anciennes cgu seront toujours consultables a ce lien l’equipe lydia une question ? un probleme ?la reponse se trouve surement dans notre centre d'aide lydia est concue par lydia solutions dans le sentier au coeur de paris cliquez ici pour ne plus recevoir ce type de mail\n",
      "nan\n",
      "\n",
      "\n",
      " 380 € payes a capucine baconnet 25102019 a 17h17 carte bancaire 49xxxxxxxxxx5707 identifiant bc7f40a9a1cecfd8cfe75d774b8276bb l'application lydia est concue dans le sentier au coeur de paris gerer mes notifications \n",
      "-3.8\n",
      "\n",
      "\n",
      " 1120 € payes a theo marecheau 23102019 a 22h52 compte lydia identifiant c85d2e774e36033b32b5f86b1d8609a2 l'application lydia est concue dans le sentier au coeur de paris gerer mes notifications \n",
      "-11.2\n",
      "\n",
      "\n",
      " 1900 € payes a armand touminet 23102019 a 19h23 carte bancaire 49xxxxxxxxxx5707 identifiant feb8e7ce16872192313cd9099e4f664e l'application lydia est concue dans le sentier au coeur de paris gerer mes notifications \n",
      "-19.0\n",
      "\n",
      "\n",
      " axelthomas courta vous a regle 850 € vous venez de recevoir 850 € de la part de axelthomas courta l'argent a ete credite sur votre compte lydia ouvrir lydia virer a ma banque vous pouvez utiliser cet argent des maintenant pour payer avec lydia ou le virer sur votre compte bancaire sans frais mais il faudra alors attendre trois jours ouvres pour pouvoir l'utiliser comme un virement bancaire standard l'identifiant de cette transaction est 23d0c133999915782af269cd86488380 l'application lydia est concue dans le sentier au coeur de paris \n",
      "8.5\n",
      "\n",
      "\n",
      " 850 € payes a axelthomas courta 18102019 a 14h16 carte bancaire 49xxxxxxxxxx5707 identifiant 15bd90f4559b5b4f317e61da4361279a l'application lydia est concue dans le sentier au coeur de paris gerer mes notifications \n",
      "-8.5\n",
      "\n",
      "\n",
      " 850 € payes a axelthomas courta 18102019 a 14h15 carte bancaire 49xxxxxxxxxx5707 identifiant 559d039797f50f07e40c37ce4cd77161 l'application lydia est concue dans le sentier au coeur de paris gerer mes notifications \n",
      "-8.5\n",
      "\n",
      "\n",
      " 1000 € payes a pierre bruno quiros 18102019 a 09h29 carte bancaire 49xxxxxxxxxx5707 identifiant 48c4b166e702736a164ff5ce815022a2 l'application lydia est concue dans le sentier au coeur de paris gerer mes notifications \n",
      "-10.0\n",
      "\n",
      "\n",
      " 2500 € payes a guillaume jomee 13102019 a 21h20 compte lydia identifiant d989906974db84354848e8cdbbadb3d5 l'application lydia est concue dans le sentier au coeur de paris gerer mes notifications \n",
      "-25.0\n",
      "\n",
      "\n",
      " 1500 € payes a pierre bruno quiros 12102019 a 23h03 compte lydia identifiant f17d5f4301ebb315e9be19d47fcff825 l'application lydia est concue dans le sentier au coeur de paris gerer mes notifications \n",
      "-15.0\n",
      "\n",
      "\n",
      " guillaume jomee vous a regle 825 € vous venez de recevoir 825 € de la part de guillaume jomee l'argent a ete credite sur votre compte lydia ouvrir lydia virer a ma banque vous pouvez utiliser cet argent des maintenant pour payer avec lydia ou le virer sur votre compte bancaire sans frais mais il faudra alors attendre trois jours ouvres pour pouvoir l'utiliser comme un virement bancaire standard l'identifiant de cette transaction est 73a686318c1a91ea5bdf8a967774bb14 l'application lydia est concue dans le sentier au coeur de paris \n",
      "8.25\n",
      "\n",
      "\n",
      " 1140 € payes a guillaume jomee 01102019 a 00h36 compte lydia identifiant 0c418dd2621a4d0f3925d68c8a3c678d l'application lydia est concue dans le sentier au coeur de paris gerer mes notifications \n",
      "-11.4\n",
      "\n",
      "\n",
      " 460 € payes a louis boulanger 29092019 a 18h55 compte lydia identifiant 42bf949a2fd4ca0830d424cc3294ae5a l'application lydia est concue dans le sentier au coeur de paris gerer mes notifications \n",
      "-4.6\n",
      "\n",
      "\n",
      " guillaume jomee vous a regle 1880 € vous venez de recevoir 1880 € de la part de guillaume jomee l'argent a ete credite sur votre compte lydia ouvrir lydia virer a ma banque vous pouvez utiliser cet argent des maintenant pour payer avec lydia ou le virer sur votre compte bancaire sans frais mais il faudra alors attendre trois jours ouvres pour pouvoir l'utiliser comme un virement bancaire standard l'identifiant de cette transaction est e8c1460668ccb97889c16c7ed5ce697c l'application lydia est concue dans le sentier au coeur de paris \n",
      "18.8\n",
      "\n",
      "\n",
      " 900 € payes a maxence lecanu 27092019 a 23h24 compte lydia identifiant 4c5704680965944a0609bbfdb7983616 l'application lydia est concue dans le sentier au coeur de paris gerer mes notifications \n",
      "-9.0\n",
      "\n",
      "\n",
      " paul azoulai vous a regle 830 € vous venez de recevoir 830 € de la part de paul azoulai l'argent a ete credite sur votre compte lydia ouvrir lydia virer a ma banque vous pouvez utiliser cet argent des maintenant pour payer avec lydia ou le virer sur votre compte bancaire sans frais mais il faudra alors attendre trois jours ouvres pour pouvoir l'utiliser comme un virement bancaire standard l'identifiant de cette transaction est 70162f1e6fced237122987db24a4fc63 l'application lydia est concue dans le sentier au coeur de paris \n",
      "8.3\n",
      "\n",
      "\n",
      " arthur camouseigt vous a regle 830 € vous venez de recevoir 830 € de la part de arthur camouseigt l'argent a ete credite sur votre compte lydia ouvrir lydia virer a ma banque vous pouvez utiliser cet argent des maintenant pour payer avec lydia ou le virer sur votre compte bancaire sans frais mais il faudra alors attendre trois jours ouvres pour pouvoir l'utiliser comme un virement bancaire standard l'identifiant de cette transaction est e0fbfe0d4749d712970cc4ed9d6d67c5 l'application lydia est concue dans le sentier au coeur de paris \n",
      "8.3\n",
      "\n",
      "\n",
      " logolydiapng virement vers \"christophe boetto\" confirme vous avez demande un virement de 33600 € vers votre compte bancaire \"christophe boetto\" en utilisant l'argent que vous aviez sur votre compte lydia \"solde lydia\" avec le message \"\"cette operation sera executee demain matin sans commission c'est un virement bancaire standard donc cela peut prendre jusqu'a trois jours ouvres avant que le compte destinataire soit credite la prochaine fois depensez directement en magasin sans attendre 😇 activez la fonction « paiement sans contact » de lydia des maintenant pour pouvoir depenser l'argent que vous avez sur lydia directement en magasin la prochaine fois vous pourrez payer en approchant votre smartphone du terminal de paiement par carte du commercantactiver le sans contact l'equipe lydia une question ? un probleme ?la reponse se trouve surement dans notre centre d'aide lydia est concue par lydia solutions dans le sentier au coeur de paris cliquez ici pour ne plus recevoir ce type de mail\n",
      "nan\n",
      "\n",
      "\n",
      " eric askinazi vous a regle 250 € vous venez de recevoir 250 € de la part de eric askinazi l'argent a ete credite sur votre compte lydia ouvrir lydia virer a ma banque vous pouvez utiliser cet argent des maintenant pour payer avec lydia ou le virer sur votre compte bancaire sans frais mais il faudra alors attendre trois jours ouvres pour pouvoir l'utiliser comme un virement bancaire standard l'identifiant de cette transaction est 5e3bf1d541f2c3dd1e1f5e6070b5bb4a l'application lydia est concue dans le sentier au coeur de paris \n",
      "2.5\n",
      "\n",
      "\n",
      " 250 € payes a eric askinazi 18092019 a 23h32 compte lydia identifiant ebc3054df7e8fcaeaf506b2c7a8aee99 l'application lydia est concue dans le sentier au coeur de paris gerer mes notifications \n",
      "-2.5\n",
      "\n",
      "\n",
      " 250 € payes a eric askinazi 18092019 a 23h32 compte lydia identifiant 78e9f8b22a2a490f08687c44fcdac55e l'application lydia est concue dans le sentier au coeur de paris gerer mes notifications \n",
      "-2.5\n",
      "\n",
      "\n",
      " 200 € payes a eric askinazi 18092019 a 22h36 compte lydia identifiant 2b66876334189e6bdbdbff73fc8b77f7 l'application lydia est concue dans le sentier au coeur de paris gerer mes notifications \n",
      "-2.0\n",
      "\n",
      "\n",
      " 250 € payes a eric askinazi 18092019 a 21h50 compte lydia identifiant d4bb00b0b858d7dfaa5ca4b8f47ac4c2 l'application lydia est concue dans le sentier au coeur de paris gerer mes notifications \n",
      "-2.5\n",
      "\n",
      "\n",
      " les 33600 € de eric sont en attente eric askinazi vous a envoye 33600 € nous n'avons pas pu crediter cet argent sur votre solde lydia cette fois car vous avez atteint la limite autorisee pour un compte qui n'a pas ete verifie ce statut est gratuit et simple a obtenir il vous permettra de beneficier de plus de fonctionnalites de lydia il suffit pour cela de fournir une piece d'identite et un justificatif de domicile obtenir le statut \"profil verifie\" virer a ma banque une fois vos documents valides par notre equipe basee a paris cette transaction sera automatiquement acceptee et creditee sur votre solde lydia l'identifiant de cette transaction est 77919dd1ea547fb691ffc00c72efbd9c l'application lydia est concue dans le sentier au coeur de paris \n",
      "nan\n",
      "\n",
      "\n",
      " maximilien germain vous a regle 950 € vous venez de recevoir 950 € de la part de maximilien germain l'argent a ete credite sur votre compte lydia ouvrir lydia virer a ma banque vous pouvez utiliser cet argent des maintenant pour payer avec lydia ou le virer sur votre compte bancaire sans frais mais il faudra alors attendre trois jours ouvres pour pouvoir l'utiliser comme un virement bancaire standard l'identifiant de cette transaction est 1b77579223b62bee059107e887a627ec l'application lydia est concue dans le sentier au coeur de paris \n",
      "9.5\n",
      "\n",
      "\n",
      " axel rochel vous a regle 850 € vous venez de recevoir 850 € de la part de axel rochel l'argent a ete credite sur votre compte lydia ouvrir lydia virer a ma banque vous pouvez utiliser cet argent des maintenant pour payer avec lydia ou le virer sur votre compte bancaire sans frais mais il faudra alors attendre trois jours ouvres pour pouvoir l'utiliser comme un virement bancaire standard l'identifiant de cette transaction est 71af77823ba4f4950210b63f8d2105c4 l'application lydia est concue dans le sentier au coeur de paris \n",
      "8.5\n",
      "\n",
      "\n",
      " 500 € payes a tanin oenologie 16092019 a 12h40 compte lydia identifiant 62da10d6f418583af924de1781a80000 l'application lydia est concue dans le sentier au coeur de paris gerer mes notifications \n",
      "-5.0\n",
      "\n",
      "\n",
      " clement legendre vous a regle 1500 € vous venez de recevoir 1500 € de la part de clement legendre l'argent a ete credite sur votre compte lydia ouvrir lydia virer a ma banque vous pouvez utiliser cet argent des maintenant pour payer avec lydia ou le virer sur votre compte bancaire sans frais mais il faudra alors attendre trois jours ouvres pour pouvoir l'utiliser comme un virement bancaire standard l'identifiant de cette transaction est d2cf94316b18c674e2f0fa2af158713b l'application lydia est concue dans le sentier au coeur de paris \n",
      "15.0\n",
      "\n",
      "\n",
      " 1490 € payes a valentin sebe 09092019 a 21h43 compte lydia identifiant 053dd01f9bdb92f638c907aa11b4d46b l'application lydia est concue dans le sentier au coeur de paris gerer mes notifications \n",
      "-14.9\n",
      "\n",
      "\n",
      " claire ren vous a regle 850 € vous venez de recevoir 850 € de la part de claire ren l'argent a ete credite sur votre compte lydia ouvrir lydia virer a ma banque vous pouvez utiliser cet argent des maintenant pour payer avec lydia ou le virer sur votre compte bancaire sans frais mais il faudra alors attendre trois jours ouvres pour pouvoir l'utiliser comme un virement bancaire standard l'identifiant de cette transaction est ebccd02862ac0f4040d127d98bb9e3f1 l'application lydia est concue dans le sentier au coeur de paris \n",
      "8.5\n",
      "\n",
      "\n",
      " 588 € payes a eliott kalfon 25082019 a 19h36 compte lydia identifiant 7179ee01e7fea5db75697275b3ccb20c l'application lydia est concue dans le sentier au coeur de paris gerer mes notifications \n",
      "-5.88\n",
      "\n",
      "\n",
      " 588 € payes a eliott kalfon 25082019 a 19h36 compte lydia identifiant 7179ee01e7fea5db75697275b3ccb20c l'application lydia est concue dans le sentier au coeur de paris gerer mes notifications \n",
      "-5.88\n",
      "\n",
      "\n",
      " 1937 € payes a claire ren 25082019 a 17h53 compte lydia identifiant 78bd31cc6b5f02af9af9735225ba8b91 l'application lydia est concue dans le sentier au coeur de paris gerer mes notifications \n",
      "-19.37\n",
      "\n",
      "\n",
      " avezvous remarque qu’il y a des choses qu’on continue a faire depuis son ordinateur a la maison au lieu d’utiliser son telephone ? c’est comme si pour ces chosesla on etait restes bloques en 2010 la declaration d'impots ou la demande d’apl ca passe encore mais l'organisation des cagnottes en ligne ?organiser une cagnotte devrait etre aussi simple que « faire un lydia » alors on a mis la main a la pate et aujourd’hui nous sommes fiers de vous presenter… la meilleure cagnotte sur mobile voicilacagnottelydiajpg ⏱️ operationnelle en 10 secondes chrono depuis votre canape dans les transports ou a la terrasse d’un cafe vous etes toujours pret a creer une nouvelle cagnotte pour collecter de l’argent pour un evenement🔔 suivi des participations en temps reel d’un coup d’oeil vous savez qui a participe et le montant total de la cagnotte💵 elle peut etre depensee tout de suite en magasin ou sur internet en une ou en plusieurs fois et pas seulement chez nos partenaires partout et ce n’est pas tout plusieurs organisateurs peuvent gerer et depenser la cagnotte ou encore la convertir en cartescadeauxen savoir plus le tout depuis l'app lydia pour vous c’est beaucoup plus pratique de gerer vos cagnottes et vos remboursements depuis la meme applicationpour les participants meme ceux qui aiment les ordinateurs rien ne change vous leur partagez le lien de la cagnotte et ils peuvent participer sans creer de compte lydia ni telecharger l’app j'essaye p s n'oubliez pas de mettre votre app a jour pour en profiter 😉 bonnes cagnottesl'equipe lydia une question ? un probleme ?la reponse se trouve surement dans notre centre d'aide lydia est concue par lydia solutions dans le sentier au coeur de paris cliquez ici pour ne plus recevoir ce type de mail cliquez ici pour consulter cet email depuis un navigateur \n",
      "nan\n",
      "\n",
      "\n",
      " maximilien germain vous a regle 600 € vous venez de recevoir 600 € de la part de maximilien germain l'argent a ete credite sur votre compte lydia ouvrir lydia virer a ma banque vous pouvez utiliser cet argent des maintenant pour payer avec lydia ou le virer sur votre compte bancaire sans frais mais il faudra alors attendre trois jours ouvres pour pouvoir l'utiliser comme un virement bancaire standard l'identifiant de cette transaction est e3e9b8d8b001cbea7e0f91ce154604f2 l'application lydia est concue dans le sentier au coeur de paris \n",
      "6.0\n",
      "\n",
      "\n",
      " paul roux vous a regle 600 € vous venez de recevoir 600 € de la part de paul roux l'argent a ete credite sur votre compte lydia ouvrir lydia virer a ma banque vous pouvez utiliser cet argent des maintenant pour payer avec lydia ou le virer sur votre compte bancaire sans frais mais il faudra alors attendre trois jours ouvres pour pouvoir l'utiliser comme un virement bancaire standard l'identifiant de cette transaction est ab5e121ca63b0df6dd31420ef8a959a6 l'application lydia est concue dans le sentier au coeur de paris \n",
      "6.0\n",
      "\n",
      "\n",
      " amelie meurer vous a regle 500 € vous venez de recevoir 500 € de la part de amelie meurer l'argent a ete credite sur votre compte lydia ouvrir lydia virer a ma banque vous pouvez utiliser cet argent des maintenant pour payer avec lydia ou le virer sur votre compte bancaire sans frais mais il faudra alors attendre trois jours ouvres pour pouvoir l'utiliser comme un virement bancaire standard l'identifiant de cette transaction est 63a958933f8ce26cd673db60df09dd39 l'application lydia est concue dans le sentier au coeur de paris \n",
      "5.0\n",
      "\n",
      "\n",
      " diane notarantonio vous a regle 700 € vous venez de recevoir 700 € de la part de diane notarantonio l'argent a ete credite sur votre compte lydia ouvrir lydia virer a ma banque vous pouvez utiliser cet argent des maintenant pour payer avec lydia ou le virer sur votre compte bancaire sans frais mais il faudra alors attendre trois jours ouvres pour pouvoir l'utiliser comme un virement bancaire standard l'identifiant de cette transaction est ce6f5612a7e7aebf2f41016c24279566 l'application lydia est concue dans le sentier au coeur de paris \n",
      "7.0\n",
      "\n",
      "\n",
      " maximilien germain vous a regle 800 € vous venez de recevoir 800 € de la part de maximilien germain l'argent a ete credite sur votre compte lydia ouvrir lydia virer a ma banque vous pouvez utiliser cet argent des maintenant pour payer avec lydia ou le virer sur votre compte bancaire sans frais mais il faudra alors attendre trois jours ouvres pour pouvoir l'utiliser comme un virement bancaire standard l'identifiant de cette transaction est 0f28da53ab8cdf9ebee362542a2c18f1 l'application lydia est concue dans le sentier au coeur de paris \n",
      "8.0\n",
      "\n",
      "\n",
      " alec bickersteth vous a regle 500 € vous venez de recevoir 500 € de la part de alec bickersteth l'argent a ete credite sur votre compte lydia ouvrir lydia virer a ma banque vous pouvez utiliser cet argent des maintenant pour payer avec lydia ou le virer sur votre compte bancaire sans frais mais il faudra alors attendre trois jours ouvres pour pouvoir l'utiliser comme un virement bancaire standard l'identifiant de cette transaction est ad052fc0d83b630c5979565dccdec88f l'application lydia est concue dans le sentier au coeur de paris \n",
      "5.0\n",
      "\n",
      "\n",
      " robin ali vous a regle 1000 € vous venez de recevoir 1000 € de la part de robin ali l'argent a ete credite sur votre compte lydia ouvrir lydia virer a ma banque vous pouvez utiliser cet argent des maintenant pour payer avec lydia ou le virer sur votre compte bancaire sans frais mais il faudra alors attendre trois jours ouvres pour pouvoir l'utiliser comme un virement bancaire standard l'identifiant de cette transaction est 4513156f395807010d5675a66c202782 l'application lydia est concue dans le sentier au coeur de paris \n",
      "10.0\n",
      "\n",
      "\n",
      " etienne geoffret vous a regle 500 € vous venez de recevoir 500 € de la part de etienne geoffret l'argent a ete credite sur votre compte lydia ouvrir lydia virer a ma banque vous pouvez utiliser cet argent des maintenant pour payer avec lydia ou le virer sur votre compte bancaire sans frais mais il faudra alors attendre trois jours ouvres pour pouvoir l'utiliser comme un virement bancaire standard l'identifiant de cette transaction est 853d1f74717626fb15e20282f1345996 l'application lydia est concue dans le sentier au coeur de paris \n",
      "5.0\n",
      "\n",
      "\n",
      " 500 € payes a clarisse aujoux 16112018 a 00h12 compte lydia identifiant 124c420edab9ae0f45b513d891f0e5b8 aideznous a conquerir le monde donnez une note a l'application sur le store et invitez vos contacts a telecharger lydia support@lydiaappcom facebook twitter l'application lydia est concue dans le sentier au coeur de paris gerer mes notifications \n",
      "-5.0\n",
      "\n",
      "\n",
      " 500 € payes a clarisse aujoux 16112018 a 00h12 compte lydia identifiant 124c420edab9ae0f45b513d891f0e5b8 aideznous a conquerir le monde donnez une note a l'application sur le store et invitez vos contacts a telecharger lydia support@lydiaappcom facebook twitter l'application lydia est concue dans le sentier au coeur de paris gerer mes notifications \n",
      "-5.0\n",
      "\n",
      "\n",
      " lydia samsung s9 nous jobons dur chaque jour pour vous offrir la meilleure app de paiement au mondeque vous ne puissiez pas profiter pleinement de lydia simplement parce que votre telephone est un peu trop vieux est quelque chose qui nous attriste un peu comme si paul savait que vous aviez regarde la finale sur une tele de 42cmalors nous sommes alles chercher une offre tres speciale pour vous permettre de moderniser votre telephone a moindre frais et on a tout casse obtenez le dernier modele s9 ou s9+ de samsung avec jusqu'a 645€ offerts plus d'informations si vous pensez que votre telephone est un peu faiblard n’attendez pas la rentree pour le changer et beneficier de toutes nos dernieres fonctionnalites dont le paiement mobile sans contact en magasin cette offre n'est valable que quelques jours fin le 31 juilletl'equipe des devs android de lydiap s ni lydia ni ses devs android ne sont remuneres pour vous ecrire ce message vos « j'ai plus de place sur mon telephone » « le bluetooth ca use la batterie » « j'ai pas le sans contact » « j'ai pas la reconnaissance faciale » et la vision de votre vitre cassee sont autant de motivations offre reservee aux utilisateurs de lydia le das debit d'absorption specifique des telephones mobiles quantifie le niveau d'exposition maximal de l'utilisateur aux ondes electromagnetiques la reglementation francaise impose que le das ne depasse pas 2 wkg pour une utilisation a l'oreille l’utilisation d’un kit mains libres est recommandee lydia est concue par lydia solutions dans le sentier au coeur de pariscliquez ici pour ne plus recevoir ce type de mail\n",
      "nan\n",
      "\n",
      "\n",
      " logolydiapng bak aggregationpng plus besoin d’ouvrir l’app de votre banque consultez vos soldes faites tous vos virements et gerez vos ibans beneficiaires directement depuis lydia il suffit d'ajouter votre banque a l'application ajouter ma banque cet ajout sera gere et securise par budget insight notre partenaire agree par la banque de france pour la realisation de ce service aupres de lydia vos soldes depuis l'app avant chaque paiement consultez le montant disponible sur votre compte plus besoin de vous connecter a votre banque des virements bancaires comme on fait des lydia faites des virements bancaires depuis l'app pour payer toutes vos factures loyer impots… ou faire des transferts entre vos comptes vous pourrez meme rembourser les derniers allergiques aux nouvelles technologies depuis lydia tous vos ibans au meme endroit partagez facilement les numeros iban de vos comptes et si vous avez plusieurs banques plus besoin d’ajouter les ibans de vos contacts a chacune d’elles vous pourrez le faire directement depuis lydia en un clicbonne journeel'equipe lydia l'ajout de votre banque a lydia est gere par notre partenaire budget insight qui fournit ces memes services aux plus grandes banques francaises et qui dispose d'un agrement dsp2 de l'acpr organisme de la banque de france charge du controle des banques et des assurances disponible pour 12 banques actuellement lydia est concue par lydia solutions dans le sentier au coeur de parisce message fait partie d'une suite d'emails presentant les fonctionnalites de lydia cliquez ici pour vous en desabonner\n",
      "nan\n",
      "\n",
      "\n",
      " logolydiapng lydiaspaylifestylemockup 2jpg payez partout avec lydia grace a samsung pay avec lydia c'est devenu une evidence d'utiliser votre telephone pour rembourser vos amis ou regler nos partenaires c'est genial mais on a voulu aller beaucoup plus loin a partir de maintenant vous pouvez payer partout avec lydia et realiser tous vos achats en magasin ou en ligne avec votre telephone il vous suffit de configurer samsung pay c'est gratuit configurer samsung pay partout vous pouvez payer avec samsung pay dans tous les magasins qui disposent d’un terminal carte bancaire sans contact sans rien d'autre que votre telephone plus besoin de sortir votre portefeuille ni de taper un code approchez votre telephone du terminal carte bancaire et validez le paiement avec la reconnaissance d'empreinte ou d'iris sans limite de montant il n’y a pas de limite de montant a 30€ pour les paiements sans contact realises avec samsung pay car chaque transaction est securisee biometriquement contrairement au paiement par carte bancaire sans contact quelle que soit votre banque meme si votre banque n'est pas compatible avec samsung pay vous pouvez quand meme l'utiliser grace a lydia il vous suffit de creer une carte virtuelle depuis lydia puis de configurer samsung pay pour debiter votre solde lydia votre solde lydia est debite a chaque transaction samsung pay apres chaque paiement vous pouvez choisir de debiter l'une de vos cartes bancaires a la placeplus d’informations sur lydia et samsung pay bonne journeel'equipe lydia lydia est concue par lydia solutions dans le sentier au coeur de parisce message fait partie d'une suite d'emails presentant les fonctionnalites de lydia cliquez ici pour vous en desabonner\n",
      "nan\n",
      "\n",
      "\n",
      " 14870 € payes a charlotte de longeville 18052018 a 23h59 carte bancaire 49xxxxxxxxxx5707 identifiant edc8ac99789a2d9c6e76c5ee041ea681 aideznous a conquerir le monde donnez une note a l'application sur le store et invitez vos contacts a telecharger lydia support@lydiaappcom 0179754030 facebook twitter l'application lydia est concue dans le sentier au coeur de paris gerer mes notifications \n",
      "-148.7\n",
      "\n",
      "\n",
      " 1500 € payes a genevieve vigner 10042018 a 22h14 compte lydia identifiant 7b978553f880f9ba004e08e07d5e7f49 aideznous a conquerir le monde donnez une note a l'application sur le store et invitez vos contacts a telecharger lydia support@lydiaappcom 0179754030 facebook twitter l'application lydia est concue dans le sentier au coeur de paris gerer mes notifications \n",
      "-15.0\n",
      "\n",
      "\n",
      " 5921 € payes a clement chancel 10042018 a 13h01 compte lydia identifiant 677726aff61a6beb73b1605ef2e7660a aideznous a conquerir le monde donnez une note a l'application sur le store et invitez vos contacts a telecharger lydia support@lydiaappcom 0179754030 facebook twitter l'application lydia est concue dans le sentier au coeur de paris gerer mes notifications \n",
      "-59.21\n",
      "\n",
      "\n",
      " 1000 € payes a guillaume jomee 05042018 a 21h31 compte lydia identifiant b2fdd8b816a6aaa472f324927196f3d0 aideznous a conquerir le monde donnez une note a l'application sur le store et invitez vos contacts a telecharger lydia support@lydiaappcom 0179754030 facebook twitter l'application lydia est concue dans le sentier au coeur de paris gerer mes notifications \n",
      "-10.0\n",
      "\n",
      "\n",
      " logolydiapng metabancaire « et si on allait encore plus loin que le paiement mobile ? et si on repensait completement la facon dont on accede a son argent dont on voit ses comptes ? »il parait que la chance sourit aux audacieux alors on a pris les memes et on a recommence lydia devient metabancaire meta quoi ? meta ca veut dire “audessus de” “un niveau d’abstraction superieur” metabancaire signifie que le nouveau lydia se place audessus des banques dont elle remplace les interfacesl’idee est d’associer le meilleur de la fintech et de la banque dans une seule application complete simple et securisee pour l’ensemble des operations bancaires du quotidien nous ameliorerons donc l'experience bancaire sans changer les banquesla premiere etape de ce chantier c'est cette nouvelle version de l’application qui fait le plein de nouveautes mettez a jour lydia pour en profiter des maintenant plus complet nouveaute 1 on peut enregistrer tous ses iban rib et beneficiaires dans le nouvel ecran eponyme pour toujours les avoir sous la main lorsqu'il faut les envoyer ou les imprimer et oui il y a encore de gens qui demandent “c’est quoi ton rib ?”nouveaute 2 grace aux nouvelles connexions entre lydia et la plupart des banques francaises on peut importer automatiquement tous ses ibans et voir les associations banquebeneficiairessi le compte de belle maman n’est pas encore ajoute comme beneficiaire de votre compte perso d’un clic vous pouvez corriger cet oubli facheux saiton jamaisnouveaute 3 faire des virements bancaires comme on fait des lydia au moment de choisir un destinataire tous les ibans enregistres s’affichent desormais aux cotes de nos contacts retour vers le futur c’est moins rapide qu’un lydia pour arriver a destination mais ca permet de payer nos factures par virement avec la meme app qu’on aime tantnouveaute 4 lydia peut maintenant afficher les soldes de nos comptes bancaires pratique pour verifier l’etat de ses comptes avant de flamber faire un lydia ca a fait oublier a certains que c’etait du vrai argentnouveautes 5 6 7 et 8 encore plus complet avec lydia premium nous avons cree une version ++ de lydia lydia premium elle offre en plus une suite de fonctionnalites pour les plus geeks d’entre nous les utilisateurs intensifs les amateurs de simplicite extreme ceux dont le bleu est la couleur preferee les amoureux de lydia la famille les amis les multibancarises et les organisateurs de cagnottes compulsifs virements bancaires illimitespour vraiment faire toutes ses operations depuis lydia lydia recurrents et virements programmesla fonctionnalite tant attendue des habitues pour automatiser ce qui doit l’etre et ne jamais plus oublier nos obligations mensuelles spotify netflix cartes virtuellesdes numeros de carte jetables actives sur demande pour ne plus jamais faire un cheque en blanc a chaque fois que l'on donne ses numeros de carte souscomptes lydiacreer plusieurs comptes lydia pour organiser et donner vie a son argent cagnottes sans aucune commissionpour faire encore plus plaisir on peut depenser immediatement 100 de ce que l’on a collecte en ligne sans frais la carte mastercard devient universelleen option pour ceux qui ont trop de cartes dans leur portefeuille la carte lydia fait peau neuve et peut maintenant remplacer toutes les autres cartes grace a la fonctionnalite \"changer le moyen de paiement utilise \" pour le moment vous etes tous lydia freelydia premium c'est 299€ mois pour beneficier de toutes les nouvelles fonctionnalites sans limites decouvrir lydia premium toujours aussi simple l’action “demander” a rejoint “payer” sur l’ecran principalles ecrans “en cours” et “historique de paiement” ont ete fusionnes sur le second ecranle solde lydia a demenage du dernier au troisieme ecran dans le nouvel ecran “comptes” c’est d'ici que l’on connecte des banques a lydia et que l’on cree des souscomptes et des cagnottesau fait et pour virer l’argent a sa banque il faut soit cliquer sur son solde lydia soit faire un lydia vers son iban vous avez suivi ? mais si vous vous y ferez vite et ce n'est pas fini nous sommes encore loin d’etre arrives a bout de notre imagination et comme en plus nous avons les moyens de nos ambitions il faudra compter sur nous pour faire bouger les lignes de la banque du quotidiend'ailleurs nous avons trois autres superbes fonctionnalites dans les cartons que l’on sortira d'ici les vacances d’etenos conditions d’utilisation ont ete mises a jour pour refleter tous ces changements sans acceptation prealable de votre part elle prendront effet le 30 mai 2018nous vous souhaitons un joyeux weekend de paquesl'equipe lydiaplus motivee que jamaisps tout ca sent encore le neuf alors meme si on aime lorsque vous etes exigeants on espere que vous serez indulgentson vient juste de doubler la taille de l’equipe service clients au cas ou supportmailpng support@lydiaappcom supportpro@lydiaappcom supportfacebookpng facebook nous vous avons adresse ce message pour vous donner des nouvelles car vous avez utilise l'application lydia nous envoyons de temps en temps ce type de lettre que nous prenons plaisir a vous ecriresi vous n'avez aucun plaisir a nous lire cliquez ici pour vous retirer de notre liste de diffusion \"nouveautes\"si vous en avez tellement pris que vous voulez partager son contenu voici le bon lien lydia est concue par lydia solutions dans le sentier au cœur de paris\n",
      "nan\n",
      "\n",
      "\n",
      " lola moisset vous a regle 3000 € vous venez de recevoir 3000 € de la part de lola moisset l'argent a ete credite sur votre compte lydia ouvrir lydia virer a ma banque vous pouvez utiliser cet argent des maintenant pour payer avec lydia ou le virer sur votre compte bancaire sans frais mais il faudra alors attendre trois jours ouvres pour pouvoir l'utiliser comme un virement bancaire standard l'identifiant de cette transaction est b0c8c30fe3ce30d74fb654b6a2e98c5d l'application lydia est concue dans le sentier au coeur de paris support@lydiaappcom \n",
      "30.0\n",
      "\n",
      "\n",
      "  bonjour votre compte lydia est maintenant debloque voici maintenant les etapes a suivre pour reactiver votre compte 1 assurezvous que votre application lydia est bien a jour important 2 ouvrez l'application lydia 3 saisissez votre adresse email 4 cliquez sur « mot de passe oublie » et laissezvous guider bien a vous melanie [v0z2k4re78]\n",
      "nan\n",
      "\n",
      "\n",
      " debloquez votre compte lydia christophe par mesure de securite votre compte lydia vient d'etre bloque par notre systeme veuillez contacter notre support utilisateur par email ou par telephone pour le debloquer le systeme de securite des paiements mobiles lydia et son equipe analysent les transactions en temps reel les activites suspicieuses et les informations erronees peuvent entrainer le blocage temporaire d'un compte support@lydiaappcom 0179754030 facebook twitter l'application lydia est concue dans le sentier au coeur de paris gerer mes notifications \n",
      "nan\n",
      "\n",
      "\n",
      "votre justificatif d'achat rallye des vin0394 heures 2017 26eme edition le meilleur moyen de decouvrir le vignoble bordelais avec tes potes 1213 et 14 mai 530 etudiants et une dizaine de chateaux prestigieux recuperez grace au lien cidessous le justificatif de votre achat a aoc kedge bordeaux vous pouvez l'enregistrer sur votre telephone ou l'imprimer il peut vous etre demande pour justifier de votre achat telecharger le ticket contacter l'organisateur sandro15@mecom support@lydiaappcom 0179754030 facebook twitterl'application lydia est concue avec amour au coeur de paris par la societe lydia solutionsgerer mes notifications \n",
      "nan\n",
      "\n",
      "\n"
     ]
    }
   ],
   "source": [
    "for i in range(mails_lydia.shape[0]):\n",
    "    print(mails_lydia.iloc[i].body)\n",
    "    print(mails_lydia.iloc[i].montant)\n",
    "    print('\\n')"
   ]
  },
  {
   "cell_type": "code",
   "execution_count": 186,
   "metadata": {},
   "outputs": [
    {
     "data": {
      "text/plain": [
       "\" axel rochel vous a regle 826 € l'argent a ete credite sur votre compte solde lydia ouvrir lydia virer a ma banque vous pouvez egalement l'utiliser pour conserver votre argent sur lydia pas d'inquietude il sera bien garde regler un ami depuis l'application faire un achat sur internet ou dans une application avec la carte internet lydia payer un partenaire de lydia en generant un qr code sur votre telephone l'identifiant de cette transaction est 7039c84247307a9fc45f921813fdf440 \""
      ]
     },
     "execution_count": 186,
     "metadata": {},
     "output_type": "execute_result"
    }
   ],
   "source": [
    "mails_lydia.iloc[1].body"
   ]
  },
  {
   "cell_type": "code",
   "execution_count": null,
   "metadata": {},
   "outputs": [],
   "source": []
  },
  {
   "cell_type": "code",
   "execution_count": null,
   "metadata": {},
   "outputs": [],
   "source": []
  }
 ],
 "metadata": {
  "kernelspec": {
   "display_name": "Python 3",
   "language": "python",
   "name": "python3"
  },
  "language_info": {
   "codemirror_mode": {
    "name": "ipython",
    "version": 3
   },
   "file_extension": ".py",
   "mimetype": "text/x-python",
   "name": "python",
   "nbconvert_exporter": "python",
   "pygments_lexer": "ipython3",
   "version": "3.7.4"
  }
 },
 "nbformat": 4,
 "nbformat_minor": 2
}
