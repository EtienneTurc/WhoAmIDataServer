{
 "cells": [
  {
   "cell_type": "code",
   "execution_count": 175,
   "metadata": {},
   "outputs": [],
   "source": [
    "import pandas as pd\n",
    "import numpy as np\n",
    "\n",
    "import re"
   ]
  },
  {
   "cell_type": "code",
   "execution_count": 176,
   "metadata": {},
   "outputs": [],
   "source": [
    "df = pd.read_json(r'data/gmail_boetto.txt', encoding = 'utf-8')"
   ]
  },
  {
   "cell_type": "code",
   "execution_count": 177,
   "metadata": {},
   "outputs": [],
   "source": [
    "test = df.headers[0]"
   ]
  },
  {
   "cell_type": "code",
   "execution_count": 178,
   "metadata": {},
   "outputs": [
    {
     "data": {
      "text/plain": [
       "[{'name': 'Subject', 'value': 'Alerte de sécurité'},\n",
       " {'name': 'From', 'value': 'Google <no-reply@accounts.google.com>'},\n",
       " {'name': 'To', 'value': 'c.boettolegrain14@eabjm.org'}]"
      ]
     },
     "execution_count": 178,
     "metadata": {},
     "output_type": "execute_result"
    }
   ],
   "source": [
    "test"
   ]
  },
  {
   "cell_type": "code",
   "execution_count": 179,
   "metadata": {},
   "outputs": [],
   "source": [
    "comp_list = ['linkedin', 'facebook', 'lydia', 'spotify', 'sncf', 'twitter', 'tinder', 'deezer', \n",
    "             'itunes', 'apple', 'google','uber','ubereats','doctolib', 'instagram', 'amazon', ]"
   ]
  },
  {
   "cell_type": "code",
   "execution_count": 180,
   "metadata": {},
   "outputs": [],
   "source": [
    "def tag_mail(x):\n",
    "    for k in x:\n",
    "        if k['name'] == 'From':\n",
    "            L_cat = [el * (el in k['value']) for el in comp_list]\n",
    "            L_cat = list(filter(lambda x: x!='', L_cat))\n",
    "    if L_cat == None:\n",
    "        return('no_cat')\n",
    "    elif len(L_cat) > 2:\n",
    "        print(L_cat)\n",
    "        return L[cat[0]]\n",
    "    elif len(L_cat) == 1:\n",
    "        return L_cat[0]\n",
    "    else:\n",
    "        return 'no_cat'\n",
    "    return "
   ]
  },
  {
   "cell_type": "code",
   "execution_count": 181,
   "metadata": {},
   "outputs": [],
   "source": [
    "df['cat'] = df.headers.apply(tag_mail)"
   ]
  },
  {
   "cell_type": "code",
   "execution_count": 182,
   "metadata": {},
   "outputs": [
    {
     "data": {
      "text/html": [
       "<div>\n",
       "<style scoped>\n",
       "    .dataframe tbody tr th:only-of-type {\n",
       "        vertical-align: middle;\n",
       "    }\n",
       "\n",
       "    .dataframe tbody tr th {\n",
       "        vertical-align: top;\n",
       "    }\n",
       "\n",
       "    .dataframe thead th {\n",
       "        text-align: right;\n",
       "    }\n",
       "</style>\n",
       "<table border=\"1\" class=\"dataframe\">\n",
       "  <thead>\n",
       "    <tr style=\"text-align: right;\">\n",
       "      <th></th>\n",
       "      <th>snippet</th>\n",
       "      <th>status</th>\n",
       "      <th>date</th>\n",
       "      <th>headers</th>\n",
       "      <th>body</th>\n",
       "      <th>cat</th>\n",
       "    </tr>\n",
       "  </thead>\n",
       "  <tbody>\n",
       "    <tr>\n",
       "      <td>0</td>\n",
       "      <td>Connexion sur un nouvel appareil c.boettolegra...</td>\n",
       "      <td>received</td>\n",
       "      <td>2020-02-05 14:01:58</td>\n",
       "      <td>[{'name': 'Subject', 'value': 'Alerte de sécur...</td>\n",
       "      <td>[image google] connexion sur un nouvel appare...</td>\n",
       "      <td>google</td>\n",
       "    </tr>\n",
       "    <tr>\n",
       "      <td>1</td>\n",
       "      <td>Max .com replied to a comment in the following...</td>\n",
       "      <td>received</td>\n",
       "      <td>2020-02-05 09:00:03</td>\n",
       "      <td>[{'name': 'Subject', 'value': 'Maths IA - firs...</td>\n",
       "      <td>max com replied to a comment in the following...</td>\n",
       "      <td>google</td>\n",
       "    </tr>\n",
       "    <tr>\n",
       "      <td>2</td>\n",
       "      <td>Max .com added comments to the following docum...</td>\n",
       "      <td>received</td>\n",
       "      <td>2020-02-05 08:53:58</td>\n",
       "      <td>[{'name': 'Subject', 'value': 'Maths IA - firs...</td>\n",
       "      <td>max com added comments to the following docum...</td>\n",
       "      <td>google</td>\n",
       "    </tr>\n",
       "    <tr>\n",
       "      <td>3</td>\n",
       "      <td>Max .com replied to a comment in the following...</td>\n",
       "      <td>received</td>\n",
       "      <td>2020-02-05 07:52:13</td>\n",
       "      <td>[{'name': 'Subject', 'value': 'Maths IA - firs...</td>\n",
       "      <td>max com replied to a comment in the following...</td>\n",
       "      <td>google</td>\n",
       "    </tr>\n",
       "    <tr>\n",
       "      <td>4</td>\n",
       "      <td>... logo l&amp;#39;Association ENSTA ParisTech Alu...</td>\n",
       "      <td>received</td>\n",
       "      <td>2020-02-04 19:01:26</td>\n",
       "      <td>[{'name': 'To', 'value': 'christophe.boetto@en...</td>\n",
       "      <td>\\t\\t \\t\\t \\t\\t \\t\\t\\tbonjour \\t\\t\\t \\t\\t\\tl'a...</td>\n",
       "      <td>no_cat</td>\n",
       "    </tr>\n",
       "    <tr>\n",
       "      <td>...</td>\n",
       "      <td>...</td>\n",
       "      <td>...</td>\n",
       "      <td>...</td>\n",
       "      <td>...</td>\n",
       "      <td>...</td>\n",
       "      <td>...</td>\n",
       "    </tr>\n",
       "    <tr>\n",
       "      <td>3540</td>\n",
       "      <td>Salut,je peux bosser sur le ppt 4h30. Je suis ...</td>\n",
       "      <td>sent</td>\n",
       "      <td>2010-11-03 09:22:29</td>\n",
       "      <td>[{'name': 'Subject', 'value': 'ppt'}, {'name':...</td>\n",
       "      <td>salutje peux bosser sur le ppt 4h30 je suis a...</td>\n",
       "      <td>no_cat</td>\n",
       "    </tr>\n",
       "    <tr>\n",
       "      <td>3541</td>\n",
       "      <td>---------- Forwarded message ---------- From: ...</td>\n",
       "      <td>sent</td>\n",
       "      <td>2010-10-05 18:37:29</td>\n",
       "      <td>[{'name': 'Subject', 'value': 'Fwd: Delivery S...</td>\n",
       "      <td>forwarded message from mail delivery subsyst...</td>\n",
       "      <td>no_cat</td>\n",
       "    </tr>\n",
       "    <tr>\n",
       "      <td>3542</td>\n",
       "      <td>nbvgkugukwsbvukrsbvksw</td>\n",
       "      <td>sent</td>\n",
       "      <td>2010-10-05 18:32:40</td>\n",
       "      <td>[{'name': 'Subject', 'value': 'cdsuqhfqeisubrv...</td>\n",
       "      <td>nbvgkugukwsbvukrsbvksw</td>\n",
       "      <td>no_cat</td>\n",
       "    </tr>\n",
       "    <tr>\n",
       "      <td>3543</td>\n",
       "      <td>---------- Forwarded message ---------- From: ...</td>\n",
       "      <td>sent</td>\n",
       "      <td>2010-10-05 18:32:18</td>\n",
       "      <td>[{'name': 'Subject', 'value': 'Fwd: WWI Origin...</td>\n",
       "      <td></td>\n",
       "      <td>no_cat</td>\n",
       "    </tr>\n",
       "    <tr>\n",
       "      <td>3544</td>\n",
       "      <td>---------- Message transféré ---------- De : V...</td>\n",
       "      <td>sent</td>\n",
       "      <td>2010-10-05 18:29:10</td>\n",
       "      <td>[{'name': 'Subject', 'value': 'Fwd: Devoir de ...</td>\n",
       "      <td></td>\n",
       "      <td>no_cat</td>\n",
       "    </tr>\n",
       "  </tbody>\n",
       "</table>\n",
       "<p>3545 rows × 6 columns</p>\n",
       "</div>"
      ],
      "text/plain": [
       "                                                snippet    status  \\\n",
       "0     Connexion sur un nouvel appareil c.boettolegra...  received   \n",
       "1     Max .com replied to a comment in the following...  received   \n",
       "2     Max .com added comments to the following docum...  received   \n",
       "3     Max .com replied to a comment in the following...  received   \n",
       "4     ... logo l&#39;Association ENSTA ParisTech Alu...  received   \n",
       "...                                                 ...       ...   \n",
       "3540  Salut,je peux bosser sur le ppt 4h30. Je suis ...      sent   \n",
       "3541  ---------- Forwarded message ---------- From: ...      sent   \n",
       "3542                             nbvgkugukwsbvukrsbvksw      sent   \n",
       "3543  ---------- Forwarded message ---------- From: ...      sent   \n",
       "3544  ---------- Message transféré ---------- De : V...      sent   \n",
       "\n",
       "                    date                                            headers  \\\n",
       "0    2020-02-05 14:01:58  [{'name': 'Subject', 'value': 'Alerte de sécur...   \n",
       "1    2020-02-05 09:00:03  [{'name': 'Subject', 'value': 'Maths IA - firs...   \n",
       "2    2020-02-05 08:53:58  [{'name': 'Subject', 'value': 'Maths IA - firs...   \n",
       "3    2020-02-05 07:52:13  [{'name': 'Subject', 'value': 'Maths IA - firs...   \n",
       "4    2020-02-04 19:01:26  [{'name': 'To', 'value': 'christophe.boetto@en...   \n",
       "...                  ...                                                ...   \n",
       "3540 2010-11-03 09:22:29  [{'name': 'Subject', 'value': 'ppt'}, {'name':...   \n",
       "3541 2010-10-05 18:37:29  [{'name': 'Subject', 'value': 'Fwd: Delivery S...   \n",
       "3542 2010-10-05 18:32:40  [{'name': 'Subject', 'value': 'cdsuqhfqeisubrv...   \n",
       "3543 2010-10-05 18:32:18  [{'name': 'Subject', 'value': 'Fwd: WWI Origin...   \n",
       "3544 2010-10-05 18:29:10  [{'name': 'Subject', 'value': 'Fwd: Devoir de ...   \n",
       "\n",
       "                                                   body     cat  \n",
       "0      [image google] connexion sur un nouvel appare...  google  \n",
       "1      max com replied to a comment in the following...  google  \n",
       "2      max com added comments to the following docum...  google  \n",
       "3      max com replied to a comment in the following...  google  \n",
       "4      \\t\\t \\t\\t \\t\\t \\t\\t\\tbonjour \\t\\t\\t \\t\\t\\tl'a...  no_cat  \n",
       "...                                                 ...     ...  \n",
       "3540   salutje peux bosser sur le ppt 4h30 je suis a...  no_cat  \n",
       "3541    forwarded message from mail delivery subsyst...  no_cat  \n",
       "3542                            nbvgkugukwsbvukrsbvksw   no_cat  \n",
       "3543                                                     no_cat  \n",
       "3544                                                     no_cat  \n",
       "\n",
       "[3545 rows x 6 columns]"
      ]
     },
     "execution_count": 182,
     "metadata": {},
     "output_type": "execute_result"
    }
   ],
   "source": [
    "df"
   ]
  },
  {
   "cell_type": "code",
   "execution_count": 183,
   "metadata": {},
   "outputs": [],
   "source": [
    "mails_lydia = df.loc[df.cat=='lydia'][['date', 'body']]\n",
    "\n",
    "def find_price(x):\n",
    "    res1 = re.findall(r\"vous a regle \\d+ €\", x)\n",
    "    res2 = re.findall(r\" \\d+ € payes a\", x)\n",
    "    if len(res1) == 1:\n",
    "        return int(re.findall(r\"\\d+\", res1[0])[0])/100\n",
    "    elif len(res2) == 1:\n",
    "        return - int(re.findall(r\"\\d+\", res2[0])[0])/100\n",
    "    else:\n",
    "        return None\n",
    "\n",
    "mails_lydia['montant'] = mails_lydia.body.apply(find_price)\n",
    "\n",
    "mails_lydia['cumsum'] = mails_lydia.montant.cumsum()\n",
    "\n",
    "mails_lydia_cpy = mails_lydia.loc[mails_lydia.montant.isna() == False].copy()\n",
    "\n",
    "import plotly.express as px\n",
    "\n",
    "fig = px.line(mails_lydia_cpy, x='date', y='cumsum')\n",
    "fig.show()"
   ]
  },
  {
   "cell_type": "code",
   "execution_count": null,
   "metadata": {},
   "outputs": [],
   "source": []
  },
  {
   "cell_type": "code",
   "execution_count": null,
   "metadata": {},
   "outputs": [],
   "source": []
  }
 ],
 "metadata": {
  "kernelspec": {
   "display_name": "Python 3",
   "language": "python",
   "name": "python3"
  },
  "language_info": {
   "codemirror_mode": {
    "name": "ipython",
    "version": 3
   },
   "file_extension": ".py",
   "mimetype": "text/x-python",
   "name": "python",
   "nbconvert_exporter": "python",
   "pygments_lexer": "ipython3",
   "version": "3.7.4"
  }
 },
 "nbformat": 4,
 "nbformat_minor": 2
}
