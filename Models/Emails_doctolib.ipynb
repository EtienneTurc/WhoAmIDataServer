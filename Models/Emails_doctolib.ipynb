{
 "cells": [
  {
   "cell_type": "code",
   "execution_count": 5,
   "metadata": {},
   "outputs": [],
   "source": [
    "import pandas as pd\n",
    "import numpy as np\n",
    "\n",
    "import re\n",
    "\n",
    "from utils import tag_mail, format_mail"
   ]
  },
  {
   "cell_type": "code",
   "execution_count": 10,
   "metadata": {},
   "outputs": [],
   "source": [
    "df = pd.read_json(r'data/gmail_boetto_basic.txt', encoding = 'utf-8')"
   ]
  },
  {
   "cell_type": "code",
   "execution_count": 11,
   "metadata": {},
   "outputs": [
    {
     "data": {
      "text/html": [
       "<div>\n",
       "<style scoped>\n",
       "    .dataframe tbody tr th:only-of-type {\n",
       "        vertical-align: middle;\n",
       "    }\n",
       "\n",
       "    .dataframe tbody tr th {\n",
       "        vertical-align: top;\n",
       "    }\n",
       "\n",
       "    .dataframe thead th {\n",
       "        text-align: right;\n",
       "    }\n",
       "</style>\n",
       "<table border=\"1\" class=\"dataframe\">\n",
       "  <thead>\n",
       "    <tr style=\"text-align: right;\">\n",
       "      <th></th>\n",
       "      <th>snippet</th>\n",
       "      <th>date</th>\n",
       "      <th>headers</th>\n",
       "      <th>body</th>\n",
       "      <th>cat</th>\n",
       "    </tr>\n",
       "  </thead>\n",
       "  <tbody>\n",
       "    <tr>\n",
       "      <td>1228</td>\n",
       "      <td>Doctolib RDV confirmé Clinique Ostéopathique d...</td>\n",
       "      <td>2018-11-21 16:45:29</td>\n",
       "      <td>[{'name': 'From', 'value': 'Doctolib &lt;no-reply...</td>\n",
       "      <td></td>\n",
       "      <td>doctolib</td>\n",
       "    </tr>\n",
       "    <tr>\n",
       "      <td>1869</td>\n",
       "      <td>Doctolib Rappel : vous avez un rendez-vous dem...</td>\n",
       "      <td>2017-01-01 14:25:31</td>\n",
       "      <td>[{'name': 'From', 'value': 'Doctolib &lt;julia@do...</td>\n",
       "      <td>DoctolibVotre rendez-vousVotre rendez-vous \\n...</td>\n",
       "      <td>doctolib</td>\n",
       "    </tr>\n",
       "    <tr>\n",
       "      <td>1870</td>\n",
       "      <td>Doctolib Rappel : vous avez un rendez-vous le ...</td>\n",
       "      <td>2016-12-26 14:27:32</td>\n",
       "      <td>[{'name': 'From', 'value': 'Doctolib &lt;julia@do...</td>\n",
       "      <td>DoctolibVotre rendez-vousVotre rendez-vous \\n...</td>\n",
       "      <td>doctolib</td>\n",
       "    </tr>\n",
       "    <tr>\n",
       "      <td>1875</td>\n",
       "      <td>Doctolib Votre rendez-vous du lundi 02 janvier...</td>\n",
       "      <td>2016-12-22 10:58:22</td>\n",
       "      <td>[{'name': 'From', 'value': 'Doctolib &lt;julia@do...</td>\n",
       "      <td>DoctolibVotre rendez-vousVotre rendez-vous \\n...</td>\n",
       "      <td>doctolib</td>\n",
       "    </tr>\n",
       "  </tbody>\n",
       "</table>\n",
       "</div>"
      ],
      "text/plain": [
       "                                                snippet                date  \\\n",
       "1228  Doctolib RDV confirmé Clinique Ostéopathique d... 2018-11-21 16:45:29   \n",
       "1869  Doctolib Rappel : vous avez un rendez-vous dem... 2017-01-01 14:25:31   \n",
       "1870  Doctolib Rappel : vous avez un rendez-vous le ... 2016-12-26 14:27:32   \n",
       "1875  Doctolib Votre rendez-vous du lundi 02 janvier... 2016-12-22 10:58:22   \n",
       "\n",
       "                                                headers  \\\n",
       "1228  [{'name': 'From', 'value': 'Doctolib <no-reply...   \n",
       "1869  [{'name': 'From', 'value': 'Doctolib <julia@do...   \n",
       "1870  [{'name': 'From', 'value': 'Doctolib <julia@do...   \n",
       "1875  [{'name': 'From', 'value': 'Doctolib <julia@do...   \n",
       "\n",
       "                                                   body       cat  \n",
       "1228                                                     doctolib  \n",
       "1869   DoctolibVotre rendez-vousVotre rendez-vous \\n...  doctolib  \n",
       "1870   DoctolibVotre rendez-vousVotre rendez-vous \\n...  doctolib  \n",
       "1875   DoctolibVotre rendez-vousVotre rendez-vous \\n...  doctolib  "
      ]
     },
     "execution_count": 11,
     "metadata": {},
     "output_type": "execute_result"
    }
   ],
   "source": [
    "df['cat'] = df.headers.apply(tag_mail)\n",
    "\n",
    "df.loc[df.cat=='doctolib']"
   ]
  },
  {
   "cell_type": "code",
   "execution_count": 13,
   "metadata": {},
   "outputs": [
    {
     "name": "stdout",
     "output_type": "stream",
     "text": [
      "Doctolib RDV confirmé Clinique Ostéopathique de Paris Ostéopathe Samedi 24 novembre à 11h00 DÉPLACER RDV ANNULER RDV À lire avant le rendez-vous Les soins prodigués sont réalisés par des étudiants en\n",
      "\n",
      "\n",
      "\n",
      "#####################################################\n",
      "\n",
      "\n",
      "\n",
      "Doctolib Rappel : vous avez un rendez-vous demain à 10h30 Bonjour, Pour rappel, vous avez rendez-vous avec le Dr Geoffroy HICKMAN demain (2 janvier 2017) à 10h30. Bonne journée, L&#39;équipe Doctolib\n",
      "\n",
      "\n",
      "\n",
      "#####################################################\n",
      "\n",
      "\n",
      "\n",
      "Doctolib Rappel : vous avez un rendez-vous le lundi 02 janvier à 10h30 Bonjour, Pour rappel, vous avez rendez-vous avec le Dr Geoffroy HICKMAN le lundi 02 janvier 2017 à 10h30. Bonne journée, L&#39;\n",
      "\n",
      "\n",
      "\n",
      "#####################################################\n",
      "\n",
      "\n",
      "\n",
      "Doctolib Votre rendez-vous du lundi 02 janvier 2017 à 10h30 est confirmé Bonjour, Votre rendez-vous avec le Dr Geoffroy HICKMAN est confirmé. Le praticien est déjà informé du rendez-vous, vous n&#39;\n",
      "\n",
      "\n",
      "\n",
      "#####################################################\n",
      "\n",
      "\n",
      "\n"
     ]
    }
   ],
   "source": [
    "mails_sncf = df.loc[df.cat == 'doctolib']\n",
    "\n",
    "for el in mails_sncf.snippet:\n",
    "    print(el)\n",
    "    print('\\n\\n')\n",
    "    print('#####################################################')\n",
    "    print('\\n\\n')"
   ]
  },
  {
   "cell_type": "code",
   "execution_count": null,
   "metadata": {},
   "outputs": [],
   "source": []
  }
 ],
 "metadata": {
  "kernelspec": {
   "display_name": "Python 3",
   "language": "python",
   "name": "python3"
  },
  "language_info": {
   "codemirror_mode": {
    "name": "ipython",
    "version": 3
   },
   "file_extension": ".py",
   "mimetype": "text/x-python",
   "name": "python",
   "nbconvert_exporter": "python",
   "pygments_lexer": "ipython3",
   "version": "3.7.4"
  }
 },
 "nbformat": 4,
 "nbformat_minor": 2
}
