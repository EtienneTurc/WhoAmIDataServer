{
 "cells": [
  {
   "cell_type": "code",
   "execution_count": 178,
   "metadata": {},
   "outputs": [],
   "source": [
    "import pandas as pd\n",
    "\n",
    "import re"
   ]
  },
  {
   "cell_type": "code",
   "execution_count": 179,
   "metadata": {},
   "outputs": [],
   "source": [
    "with open('voca_sport.txt', 'r') as f:\n",
    "    vocab_sport = f.read().split('\\n')"
   ]
  },
  {
   "cell_type": "code",
   "execution_count": 180,
   "metadata": {},
   "outputs": [],
   "source": [
    "df = pd.read_json(r'gmail_boetto.txt').body.to_frame()"
   ]
  },
  {
   "cell_type": "code",
   "execution_count": 181,
   "metadata": {},
   "outputs": [
    {
     "data": {
      "text/html": [
       "<div>\n",
       "<style scoped>\n",
       "    .dataframe tbody tr th:only-of-type {\n",
       "        vertical-align: middle;\n",
       "    }\n",
       "\n",
       "    .dataframe tbody tr th {\n",
       "        vertical-align: top;\n",
       "    }\n",
       "\n",
       "    .dataframe thead th {\n",
       "        text-align: right;\n",
       "    }\n",
       "</style>\n",
       "<table border=\"1\" class=\"dataframe\">\n",
       "  <thead>\n",
       "    <tr style=\"text-align: right;\">\n",
       "      <th></th>\n",
       "      <th>body</th>\n",
       "    </tr>\n",
       "  </thead>\n",
       "  <tbody>\n",
       "    <tr>\n",
       "      <td>0</td>\n",
       "      <td>[image google] connexion sur un nouvel appare...</td>\n",
       "    </tr>\n",
       "    <tr>\n",
       "      <td>1</td>\n",
       "      <td>max com replied to a comment in the following...</td>\n",
       "    </tr>\n",
       "    <tr>\n",
       "      <td>2</td>\n",
       "      <td>max com added comments to the following docum...</td>\n",
       "    </tr>\n",
       "    <tr>\n",
       "      <td>3</td>\n",
       "      <td>max com replied to a comment in the following...</td>\n",
       "    </tr>\n",
       "    <tr>\n",
       "      <td>4</td>\n",
       "      <td>\\t\\t \\t\\t \\t\\t \\t\\t\\tbonjour \\t\\t\\t \\t\\t\\tl'a...</td>\n",
       "    </tr>\n",
       "    <tr>\n",
       "      <td>...</td>\n",
       "      <td>...</td>\n",
       "    </tr>\n",
       "    <tr>\n",
       "      <td>3540</td>\n",
       "      <td>salutje peux bosser sur le ppt 4h30 je suis a...</td>\n",
       "    </tr>\n",
       "    <tr>\n",
       "      <td>3541</td>\n",
       "      <td>forwarded message from mail delivery subsyst...</td>\n",
       "    </tr>\n",
       "    <tr>\n",
       "      <td>3542</td>\n",
       "      <td>nbvgkugukwsbvukrsbvksw</td>\n",
       "    </tr>\n",
       "    <tr>\n",
       "      <td>3543</td>\n",
       "      <td></td>\n",
       "    </tr>\n",
       "    <tr>\n",
       "      <td>3544</td>\n",
       "      <td></td>\n",
       "    </tr>\n",
       "  </tbody>\n",
       "</table>\n",
       "<p>3545 rows × 1 columns</p>\n",
       "</div>"
      ],
      "text/plain": [
       "                                                   body\n",
       "0      [image google] connexion sur un nouvel appare...\n",
       "1      max com replied to a comment in the following...\n",
       "2      max com added comments to the following docum...\n",
       "3      max com replied to a comment in the following...\n",
       "4      \\t\\t \\t\\t \\t\\t \\t\\t\\tbonjour \\t\\t\\t \\t\\t\\tl'a...\n",
       "...                                                 ...\n",
       "3540   salutje peux bosser sur le ppt 4h30 je suis a...\n",
       "3541    forwarded message from mail delivery subsyst...\n",
       "3542                            nbvgkugukwsbvukrsbvksw \n",
       "3543                                                   \n",
       "3544                                                   \n",
       "\n",
       "[3545 rows x 1 columns]"
      ]
     },
     "execution_count": 181,
     "metadata": {},
     "output_type": "execute_result"
    }
   ],
   "source": [
    "df"
   ]
  },
  {
   "cell_type": "code",
   "execution_count": 182,
   "metadata": {},
   "outputs": [],
   "source": [
    "def clean_and_tokenize(text):\n",
    "    \"\"\"\n",
    "    Cleaning a document with:\n",
    "        - Lowercase        \n",
    "        - Removing numbers with regular expressions\n",
    "        - Removing punctuation with regular expressions\n",
    "        - Removing other artifacts\n",
    "    And separate the document into words by simply splitting at spaces\n",
    "    Params:\n",
    "        text (string): a sentence or a document\n",
    "    Returns:\n",
    "        tokens (list of strings): the list of tokens (word units) forming the document\n",
    "    \"\"\"        \n",
    "    # Lowercase\n",
    "    text = text.lower()\n",
    "    # Remove numbers\n",
    "    text = re.sub(r\"[0-9]+\", \"\", text)\n",
    "    # Remove punctuation\n",
    "    REMOVE_PUNCT = re.compile(\"[.;:!\\'?,\\\"()\\[\\]]\")\n",
    "    text = REMOVE_PUNCT.sub(\"\", text)\n",
    "    # Remove small words (1 and 2 characters)\n",
    "    text = re.sub(r\"\\b\\w{1,2}\\b\", \"\", text)\n",
    "    # Remove HTML artifacts specific to the corpus we're going to work with\n",
    "    REPLACE_HTML = re.compile(\"(<br\\s*/><br\\s*/>)|(\\-)|(\\/)\")\n",
    "    text = REPLACE_HTML.sub(\" \", text)\n",
    "    \n",
    "    tokens = text.split()        \n",
    "    return tokens"
   ]
  },
  {
   "cell_type": "code",
   "execution_count": 183,
   "metadata": {},
   "outputs": [],
   "source": [
    "def lookup(list):\n",
    "    count = 0\n",
    "    for x in list:\n",
    "        if x in vocab_sport:\n",
    "            count += 1\n",
    "    return count"
   ]
  },
  {
   "cell_type": "code",
   "execution_count": 184,
   "metadata": {},
   "outputs": [],
   "source": [
    "df['clean_text_tok'] = df.body.apply(clean_and_tokenize)"
   ]
  },
  {
   "cell_type": "code",
   "execution_count": 185,
   "metadata": {},
   "outputs": [],
   "source": [
    "df['count'] = df['clean_text_tok'].apply(lookup)"
   ]
  },
  {
   "cell_type": "code",
   "execution_count": 186,
   "metadata": {},
   "outputs": [
    {
     "data": {
      "text/plain": [
       "count    3545.000000\n",
       "mean        0.333709\n",
       "std         1.090465\n",
       "min         0.000000\n",
       "25%         0.000000\n",
       "50%         0.000000\n",
       "75%         0.000000\n",
       "max        17.000000\n",
       "Name: count, dtype: float64"
      ]
     },
     "execution_count": 186,
     "metadata": {},
     "output_type": "execute_result"
    }
   ],
   "source": [
    "df['count'].describe()"
   ]
  },
  {
   "cell_type": "code",
   "execution_count": 187,
   "metadata": {},
   "outputs": [
    {
     "data": {
      "text/html": [
       "<div>\n",
       "<style scoped>\n",
       "    .dataframe tbody tr th:only-of-type {\n",
       "        vertical-align: middle;\n",
       "    }\n",
       "\n",
       "    .dataframe tbody tr th {\n",
       "        vertical-align: top;\n",
       "    }\n",
       "\n",
       "    .dataframe thead th {\n",
       "        text-align: right;\n",
       "    }\n",
       "</style>\n",
       "<table border=\"1\" class=\"dataframe\">\n",
       "  <thead>\n",
       "    <tr style=\"text-align: right;\">\n",
       "      <th></th>\n",
       "      <th>body</th>\n",
       "      <th>clean_text_tok</th>\n",
       "      <th>count</th>\n",
       "    </tr>\n",
       "  </thead>\n",
       "  <tbody>\n",
       "    <tr>\n",
       "      <td>1</td>\n",
       "      <td>max com replied to a comment in the following...</td>\n",
       "      <td>[max, com, replied, comment, the, following, d...</td>\n",
       "      <td>1</td>\n",
       "    </tr>\n",
       "    <tr>\n",
       "      <td>3</td>\n",
       "      <td>max com replied to a comment in the following...</td>\n",
       "      <td>[max, com, replied, comment, the, following, d...</td>\n",
       "      <td>1</td>\n",
       "    </tr>\n",
       "    <tr>\n",
       "      <td>9</td>\n",
       "      <td>l'europe a prix promo decouvrez l'europe a gr...</td>\n",
       "      <td>[leurope, prix, promo, decouvrez, leurope, gra...</td>\n",
       "      <td>1</td>\n",
       "    </tr>\n",
       "    <tr>\n",
       "      <td>14</td>\n",
       "      <td>airbnb a verone la maison de juliette vous ou...</td>\n",
       "      <td>[airbnb, verone, maison, juliette, vous, ouvre...</td>\n",
       "      <td>1</td>\n",
       "    </tr>\n",
       "    <tr>\n",
       "      <td>17</td>\n",
       "      <td>&gt; debut du message reexpedie &gt; &gt; de \"airbnb\"...</td>\n",
       "      <td>[&gt;, debut, message, reexpedie, &gt;, &gt;, airbnb, &lt;...</td>\n",
       "      <td>1</td>\n",
       "    </tr>\n",
       "    <tr>\n",
       "      <td>...</td>\n",
       "      <td>...</td>\n",
       "      <td>...</td>\n",
       "      <td>...</td>\n",
       "    </tr>\n",
       "    <tr>\n",
       "      <td>3375</td>\n",
       "      <td>thank you it helped me to reconsider some par...</td>\n",
       "      <td>[thank, you, helped, reconsider, some, parts, ...</td>\n",
       "      <td>1</td>\n",
       "    </tr>\n",
       "    <tr>\n",
       "      <td>3386</td>\n",
       "      <td>bonsoir voici notre pwp il en format prezi c'...</td>\n",
       "      <td>[bonsoir, voici, notre, pwp, format, prezi, ce...</td>\n",
       "      <td>1</td>\n",
       "    </tr>\n",
       "    <tr>\n",
       "      <td>3389</td>\n",
       "      <td>debut du message reexpedie &gt; de jerome giove...</td>\n",
       "      <td>[debut, message, reexpedie, &gt;, jerome, giovend...</td>\n",
       "      <td>1</td>\n",
       "    </tr>\n",
       "    <tr>\n",
       "      <td>3407</td>\n",
       "      <td>bonjour je m'excuse de vous deranger mais en ...</td>\n",
       "      <td>[bonjour, mexcuse, vous, deranger, mais, rempl...</td>\n",
       "      <td>1</td>\n",
       "    </tr>\n",
       "    <tr>\n",
       "      <td>3433</td>\n",
       "      <td>il faudrait que tu rediges le gros paragraphe...</td>\n",
       "      <td>[faudrait, que, rediges, gros, paragraphe, sur...</td>\n",
       "      <td>1</td>\n",
       "    </tr>\n",
       "  </tbody>\n",
       "</table>\n",
       "<p>394 rows × 3 columns</p>\n",
       "</div>"
      ],
      "text/plain": [
       "                                                   body  \\\n",
       "1      max com replied to a comment in the following...   \n",
       "3      max com replied to a comment in the following...   \n",
       "9      l'europe a prix promo decouvrez l'europe a gr...   \n",
       "14     airbnb a verone la maison de juliette vous ou...   \n",
       "17      > debut du message reexpedie > > de \"airbnb\"...   \n",
       "...                                                 ...   \n",
       "3375   thank you it helped me to reconsider some par...   \n",
       "3386   bonsoir voici notre pwp il en format prezi c'...   \n",
       "3389    debut du message reexpedie > de jerome giove...   \n",
       "3407   bonjour je m'excuse de vous deranger mais en ...   \n",
       "3433   il faudrait que tu rediges le gros paragraphe...   \n",
       "\n",
       "                                         clean_text_tok  count  \n",
       "1     [max, com, replied, comment, the, following, d...      1  \n",
       "3     [max, com, replied, comment, the, following, d...      1  \n",
       "9     [leurope, prix, promo, decouvrez, leurope, gra...      1  \n",
       "14    [airbnb, verone, maison, juliette, vous, ouvre...      1  \n",
       "17    [>, debut, message, reexpedie, >, >, airbnb, <...      1  \n",
       "...                                                 ...    ...  \n",
       "3375  [thank, you, helped, reconsider, some, parts, ...      1  \n",
       "3386  [bonsoir, voici, notre, pwp, format, prezi, ce...      1  \n",
       "3389  [debut, message, reexpedie, >, jerome, giovend...      1  \n",
       "3407  [bonjour, mexcuse, vous, deranger, mais, rempl...      1  \n",
       "3433  [faudrait, que, rediges, gros, paragraphe, sur...      1  \n",
       "\n",
       "[394 rows x 3 columns]"
      ]
     },
     "execution_count": 187,
     "metadata": {},
     "output_type": "execute_result"
    }
   ],
   "source": [
    "df.loc[df['count']==1]"
   ]
  },
  {
   "cell_type": "code",
   "execution_count": 188,
   "metadata": {},
   "outputs": [
    {
     "name": "stdout",
     "output_type": "stream",
     "text": [
      " google logo dear g suite for education user this is a followup to an email sent on july 26 2019 it has come to our attention that your user account cboettolegrain14@eabjmorg is the primary owner of a brand account brand accounts are not supported for g suite for education primarysecondary k12 school domains on july 10 2019 google suspended brand accounts whose primary owner is a g suite for education primarysecondary k12 school user if you and your school's g suite administrator take no action prior to 1159pm pst on november 1 2019 your brand account and all of its data will be deleted after november 15 2019 please review this email to understand your options which are also summarized in this support article what happened? brand accounts allow users to use certain google services with a separate identity eg a brand identity that is not publicly linked to their regular google account identity brand accounts are not currently supported for g suite for education primarysecondary k12 school domains on july 10 2019 google took the following actions on accounts not already granted an extension by their school's g suite admin google suspended brand accounts whose primary owner is a g suite for education primarysecondary k12 school user the action to suspend rather than delete brand accounts was done to give brand account owners a bit more time to take action google removed g suite for education primarysecondary k12 school users as members from any brand accounts they belonged to this is in accordance with what was previously communicated on may 9 2019 is my brand account affected? you are receiving this email because your g suite for education primarysecondary k12 school account is currently the primary owner of a brand account to see a list of brand accounts you are an owner or member of visit while logged in with your g suite for education account and look for your brand account in the section listed under the â€œyour brand accountsâ€� heading can my brand account be unsuspended? if you are a over the age of 18 and b not a primary or secondary k12 school student you may contact your school's g suite administrator to request an extension to unsuspend brand accounts you are the primary owner of with your k12 school account via this form which will remain open until 1159pm pst on november 1 2019 once your administrator's request has been processed the brand accounts you are the primary owner of will be unsuspended note that in general unsuspension of brand accounts may take approximately 710 business days to process after submission once unsuspended you may follow the steps outlined in the section below to preserve your data suspended brand accounts whose primary owners are not submitted by their g suite admin for an extension by 1159pm pst on november 1 2019 will be deleted after november 15 2019 note that even brand accounts that are submitted for an extension are still subject to deletion after july 15 2020 if the primary owner of the brand account is a g suite for education primary or secondary k12 school user as of july 15 2020 will my brand account be deleted? suspended accounts belonging to users that are not submitted for an extension by their school's g suite admin see below by 1159pm pst on november 1 2019 will be deleted after november 15 2019 even brand accounts belonging to users that are submitted for an extension are still subject to deletion after july 15 2020 g suite for education primarysecondary k12 school users will also be removed as a member from any remaining brand accounts they belong to after july 15 2020 note deletion of your brand account will not impact your ability to use g suite or other google products using your primary g suite for education account how will my brand account be impacted while suspended? while your brand account is suspended use of your brand account will be blocked on youtube google my business and photos you will still be able to access google services ie gmail drive classroom with your primary g suite for education account provided those services are enabled by your school's admin to access youtube you may need to switch to your primary account from your suspended brand account you can do this via the youtube channel switcher signingout andor clearing web browser cookies may also be necessary while your brand account is suspended brand account content such as posted youtube videos and photos uploaded to google photos may become hidden from you and others but will not be deleted while your brand account is suspended in some cases you may not be able to manage your google my business listings those listings will however remain visible you can tell if your brand account manages a google my business listing if 1 the account shows here under a â€œyour brand accountsâ€� heading and 2 upon clicking the listed brand account you then see the google my business logo in the â€œact as brand onâ€� section while your brand account is suspended you will not be able to access the â€œdownload your dataâ€� tool with your suspended brand account nor assign any new brand account owners or managers how can i preserve my brand account data? if your brand account is active ie becomes unsuspended or never was suspended one or more of the options below may be used to preserve some or all of your brand account data you can download your data while logged into the brand account prior to july 15 2020 to export the brand account's content you can transfer the primary ownership of the brand account to another user before july 15 2020 the new primary owner must either be a a g suite account holder that is not in a g suite for education primarysecondary k12 school domain or b a consumer account holder ie account@gmailcom note that even brand accounts belonging to users that have been submitted for an extension are still subject to deletion after july 15 2020 if the primary owner of the brand account is a g suite for education primary or secondary k12 school user as of july 15 2020 if you have any questions please contact the g suite administrator for your school sincerely the g suite team Â© 2019 google llc 1600 amphitheatre parkway mountain view ca 94043 you have received this important update about your google account because you designated this email address as a primary or secondary contact for mandatory service communications in your google admin console profile \n",
      "\n",
      "\n",
      "  l'association ensta paristech alumni Â  Â  Â  Â  bonjour il fera beau et il fera chaud samedi prochain si ce n'est pas deja fait il Â  Â  Â  Â  bonjour il fera beau et il fera chaud samedi prochain si ce n'est pas deja fait il te reste quelques jours pour t'inscrire auÂ  croco's day barbecue et tournoi sportif samedi 14 septembre de 12h00 a 19h00 ensta paris 828 boulevard des marechaux 91762 palaiseau cedex je souhaite m'inscrire eleve tu as envie de rencontrer des diplomes dans un cadre convivial et sportif ? diplome tu veux savoir ce qu'est devenue ton ancienne ecole et tester le niveau sportif des petits nouveaux ? le bde le bds et l'association des alumni organisent le croco's day nouvelle formule le samedi 14 septembre prochain sur le campus de l'ecole a palaiseau au programme un barbecue suivi drsquoun tournoi sportif le tout dans une ambiance festive 12h Â barbecuemerguez chipo brochettes salades menu vegetarienhellip 14h Â tournoi sportifvolley basket foot rugby petanque tennis de table animation gonflablehellip 18h Â fanfare et buffet gouterremise de prix qui remportera le tournoi ? inscription obligatoire en cliquant cidessus sur \"je souhaite m'inscrire\" dans un souci drsquoorganisation facilitation des commandes alimentaires eviter les absences une paf de 2 euros est demandee a chaque participant en cas de difficultes pour t'inscrire tu peux envoyer un mail a secretariat@enstaorgÂ  a bientot au croco's day Â Â  Â  tu recois ce mail car tu es inscrit sur le site de l'ensta paristech alumni wwwenstaorg conformement aux articles 39 et suivants de la loi du 6 janvier 1978 modifiee tu beneficies d'un droit d'acces et de rectification aux informations qui te concernent pour exercer ce droit connectetoi a ton espace prive ou adresse un mail a secretariat@enstaorg \n",
      "\n",
      "\n",
      "  l'association ensta paristech alumni Â  Â  Â  Â  bonjour si ce n'est pas deja fait il est encore temps de t'inscrire auÂ  croco's day Â  Â  Â  Â  bonjour si ce n'est pas deja fait il est encore temps de t'inscrire auÂ  croco's day barbecue et tournoi sportif samedi 14 septembre de 12h00 a 19h00 ensta paris 828 boulevard des marechaux 91762 palaiseau cedex je souhaite m'inscrire eleve tu as envie de rencontrer des diplomes dans un cadre convivial et sportif ? diplome tu veux savoir ce qu'est devenue ton ancienne ecole et tester le niveau sportif des petits nouveaux ? le bde le bds et l'association des alumni organisent le croco's day nouvelle formule le samedi 14 septembre prochain sur le campus de l'ecole a palaiseau au programme un barbecue suivi drsquoun tournoi sportif le tout dans une ambiance festive 12h Â barbecuemerguez chipo brochettes salades menu vegetarienhellip 14h Â tournoi sportifvolley basket foot rugby petanque tennis de table animation gonflablehellip 18h Â fanfare et buffet gouterremise de prix qui remportera le tournoi ? inscription obligatoire en cliquant cidessus sur \"je souhaite m'inscrire\" dans un souci drsquoorganisation facilitation des commandes alimentaires eviter les absences une paf de 2 euros est demandee a chaque participant en cas de difficultes pour t'inscrire tu peux envoyer un mail a secretariat@enstaorgÂ  a bientot au croco's day Â Â  Â  tu recois ce mail car tu es inscrit sur le site de l'ensta paristech alumni wwwenstaorg conformement aux articles 39 et suivants de la loi du 6 janvier 1978 modifiee tu beneficies d'un droit d'acces et de rectification aux informations qui te concernent pour exercer ce droit connectetoi a ton espace prive ou adresse un mail a secretariat@enstaorg \n",
      "\n",
      "\n",
      "  l'association ensta paristech alumni Â  Â  Â  Â  bonjour pour rappel l'ensta paristech alumni te propose de participer au croco's day Â  Â  Â  Â  bonjour pour rappel l'ensta paristech alumni te propose de participer au croco's day barbecue et tournoi sportif samedi 14 septembre de 12h00 a 19h00 ensta paris 828 boulevard des marechaux 91762 palaiseau cedex je souhaite m'inscrire eleve tu as envie de rencontrer des diplomes dans un cadre convivial et sportif ? diplome tu veux savoir ce qu'est devenue ton ancienne ecole et tester le niveau sportif des petits nouveaux ? le bde le bds et l'association des alumni organisent le croco's day nouvelle formule le samedi 14 septembre prochain sur le campus de l'ecole a palaiseau au programme un barbecue suivi drsquoun tournoi sportif le tout dans une ambiance festive 12h Â barbecuemerguez chipo brochettes salades menu vegetarienhellip 14h Â tournoi sportifvolley basket foot rugby petanque tennis de table animation gonflablehellip 18h Â fanfare et buffet gouterremise de prix qui remportera le tournoi ? inscription obligatoire en cliquant cidessus sur \"je souhaite m'inscrire\" dans un souci drsquoorganisation facilitation des commandes alimentaires eviter les absences une paf de 2 euros est demandee a chaque participant en cas de difficultes pour t'inscrire tu peux envoyer un mail a secretariat@enstaorgÂ  a bientot au croco's day Â Â  Â  tu recois ce mail car tu es inscrit sur le site de l'ensta paristech alumni wwwenstaorg conformement aux articles 39 et suivants de la loi du 6 janvier 1978 modifiee tu beneficies d'un droit d'acces et de rectification aux informations qui te concernent pour exercer ce droit connectetoi a ton espace prive ou adresse un mail a secretariat@enstaorg \n",
      "\n",
      "\n",
      "  Â  bonjour christophe apres \"4 matelots pleins d'energie\" restons dans le domaine maritime focussi vous n'arrivez pas a lire cet email cliquez ici Â  bonjour christophe apres \"4 matelots pleins d'energie\" restons dans le domaine maritime focus sur l'hydrocontest subventionne par l'ensta paristech alumni dans le cadre de l'appel a projets \"faitesnous rever\" Â  \" lrsquohydrocontest une aventure bien singuliere Â  cette annee comme les deux precedentes lrsquoensta paris srsquoassocie a lrsquoecole polytechnique afin de creer une equipe de quinze etudiants dans le but de participer a lrsquohydrocontest cette competition etudiante centree sur lrsquoinnovation dans le domaine maritime a ete organisee par la fondation hydros durant cinq annees consecutives en 2019 les equipes ayant participe aux editions precedentes reprennent le flambeau et organisent avec le soutien de la fondation leur propre competition lrsquohydrocontestx Â  mais au fait en quoi consiste lrsquohydrocontest ? Â  crsquoest une competition rassemblant 28 equipes en 2018 drsquoune quinzaine de nationalites distinctes afin qursquoelles comparent et mesurent les performances de bateaux qursquoelles ont concu le but ? aller plus vite avec moins drsquoenergie toutes les equipes se voient ainsi fournir un meme moteur electrique une meme batterie et une meme contrainte pour les dimensions de leurs bateaux elles ont ensuite carte blanche pour concevoir un bateau efficace et econome elles ont meme le loisir de participer a plusieurs courses selon le poids que peut supporter leur bateau nous avons choisi pour la 3eme annee consecutive de participer a la competition avec deux bateaux lrsquoun figurant le transport de masse et pouvant supporter 200 kg lrsquoautre figurant le transport de personnes et pouvant supporter 20 kg Â  notre equipe Â  pour participer a cette edition 2019 de la competition nous avons constitue une equipe de cinq etudiants polytechniciens et dix etudiants de lrsquoensta paris de toutes les promotions Â  pole gestion et management thierry marques benjamain briat et leo couturier sont charges de guider lrsquoequipe dans ses choix financiers et techniques ainsi que de motiver les troupes a lrsquoapproche de la competition tresorerie tengxiang ren a lrsquoimportant role de gestion des finances de lrsquoequipe il approuve et autorise les depenses des differents poles en fonction des sponsors et des subventions recues par lrsquoequipe pole bateau lourd tengxiang ren antide duraffour jeanbaptiste roustan louisvincent bouthier et nicolas gys sont les cinq membres charges de la conception et de la fabrication de notre bateau lourd ce dernier a fait lrsquoobjet drsquoun redesign complet par rapport aux annees precedentes en passant a un monocoque long de plus de 3 metres en mousse etanche et strate a lrsquoaide de fibre de verre pour augmenter lrsquoimpermeabilite et lrsquohydrodynamisme pole coques du bateau leger hugues de premares thierry marques et romain de gabory ont eu pour mission de concevoir les deux coques en contreplaque du bateau leger ainsi que de les fabriquer puis les strater pole structure du bateau leger leo couturier pierregweanael perves et arthur blanc ont quant a eux concu une structure originale en bambous et pieces imprimees en 3d afin de reunir les deux coques et de supporter le safran et le boitier de commande du bateau pole helices romain de gabory et thiago borges ont grace a un algorithme mis au point specialement pour lrsquooccasion determine les helices optimales pour chaque bateau et ont teste plusieurs methodes de fabrication pour nous offrir la meilleure propulsion possible pole electronique leo couturier charles dampeyrou mathilde dutreuilh et gregoire roussel ont eu lrsquoimportante charge de construire les boitiers de commande de chaque bateau ces boitiers contiennent la batterie qui alimente les deux moteurs moteur de propulsion et moteur de direction et tous les elements permettant la communication entre le pilote et le bateau pole communication mathilde dutreuilh et benjamin briat ont enfin eu pour mission de relayer lrsquoavancement du projet aupres du public et des entreprises qui nous supportent les pages facebook et linkedin et le site de l'equipe sont ainsi nos principaux supports de communication Â  nos sponsors Â  pour nous soutenir dans cette competition nous avons sollicite tant les entreprises que nos ecoles respectives nous pouvons ainsi compter sur le soutien de l'ensta paris de lrsquoecole polytechnique et de l'association des alumni de l'ensta via l'appel a projets \"faitesnous rever\" mais comme nous le soulignerons dans la suite notre projet ambitieux a egalement requis la participation d'entreprises exterieures Â  nous avons ainsi pu beneficier de la generosite de fisher connector rls et stmicroelectronics pour le materiel electronique et les connecteurs etanches de nos boitiers de commande de heidenhain pour la machine qui nous a servi a usiner des pieces de transmission tres specifiques mais aussi pour la peinture de nos coques de faulhaber pour nos moteurs Â  notre projet Â  comme nous l'avons dit plus haut nous avons eu cette annee un projet ambitieux nous avons en effet choisi de concevoir entierement un nouveau bateau lourd et de reconstruire un bateau leger en gardant la forme des annees precedentes Â  notre bateau leger est donc un bateau a deux coques de contreplaque reliees par un assemblage leger en bambous il a conserve ses deux foils fixes a l'avant qui lorsqu'il atteint sa vitesse de croisiere lui permettent de s'elever au dessus de l'eau et reduire ainsi sa resistance a l'avancement enfin son safran est equipe de plans porteurs ces deux ailettes horizontales permettent de regler l'assiette et la stabilite du bateau lorsqu'il est en vol Â  quant a lui notre bateau lourd est devenu un monocoque il a ete creuse dans un bloc de mousse etanche ce qui lui donne l'avantage d'etre relativement leger au lieu de voir les poids reglementaires qui simulent une masse de 200 kg poses sur la surface du bateau ils sont ainsi deposes dans la cale du bateau et nrsquoopposent plus de resistance aerodynamique supplementaire Â  la competition en 2019 Â  en novembre 2018 la fondation hydros nous annoncait qursquoelle nrsquoassurerait pas lrsquoorganisation de la competition en 2019 quel coup dur mais les etudiants participants ne se sont pas laisse abattre et ont choisi drsquoorganiser leur propre concours en se basant sur le modele de lrsquohydrocontest touchee par cet elan solidaire pour les etudiants qui avaient fait de lrsquohydrocontest lrsquoun de leurs projets drsquoetudes la fondation nous a soutenu dans cette initiative crsquoest ainsi que nous vous donnons rendezvous du 2 au 8 septembre prochain pour nous supporter dans cette competition \" Â  enstamicalementl'ensta paristech alumni828 bd des marechaux 91762 palaiseau 0181872150 wwwenstaorg secretariat@enstaorg tu recois ce mail car tu es inscrit sur le site de l'ensta paristech alumni wwwenstaorg conformement aux articles 39 et suivants de la loi du 6 janvier 1978 modifiee tu beneficies d'un droit d'acces et de rectification aux informations qui te concernent pour exercer ce droit connectetoi a ton espace prive ou adresse un mail a secretariat@enstaorg \n",
      "\n",
      "\n",
      " g suite logo dear g suite for education user this is a followup to an email sent on may 9 2019 it has come to our attention that your user account cboettolegrain14@eabjmorg is the owner or manager of a brand account rather than deleting your brand account on july 10 as was previously communicated we have instead suspended it to give you a bit more time to take action please review this email to understand your options which are also summarized in this support article what happened? brand accounts allow users to use certain google services with a separate identity eg a brand identity that is not publicly linked to their regular google account identity brand accounts are not currently supported for g suite for education primarysecondary k12 school domains on july 10 2019 google took the following actions on accounts not already granted an extension by their school's g suite admin google suspended brand accounts whose primary owner is a g suite for education primarysecondary k12 school user the action to suspend rather than delete brand accounts was done to give brand account owners a bit more time to take action google removed g suite for education primarysecondary k12 school users as members from any brand accounts they belonged to this is in accordance with what was previously communicated on may 9 2019 is my brand account affected? you are receiving this email because you are currently the owner or manager of a brand account you can see a list of brand accounts you are an owner or member of at while logged in with your g suite for education account and looking for a â€œyour brand accountsâ€� heading note that you may also receive a separate email from youtube related to this same suspension can my brand account be unsuspended? if you are a over the age of 18 and b not a primary or secondary k12 school student you may contact your school's g suite administrator to request an extension to unsuspend brand accounts you are the primary owner of with your k12 school account via this form which will remain open until november 1 2019 once processed this will cause brand accounts you are the primary owner of to become unsuspended note that processing times will vary but may take up to several weeks once unsuspended you may follow the steps outlined in the section below to preserve your data suspended brand accounts whose primary owners are not submitted by their g suite admin for an extension will be deleted after november 15 2019 note that even brand accounts that are submitted for an extension are still subject to deletion after july 15 2020 if the primary owner of the brand account is a g suite for education primary or secondary k12 school user as of july 15 2020 will my brand account be deleted? suspended accounts belonging to users that are not submitted for an extension by their school's g suite admin see below by november 1 2019 will be deleted after november 15 2019 even brand accounts belonging to users that are submitted for an extension are still subject to deletion after july 15 2020 g suite for education primarysecondary k12 school users will also be removed as a member from any remaining brand accounts they belong to after july 15 2020 note deletion of your brand account will not impact your ability to use g suite or other google products using your primary g suite for education account how will my brand account be impacted while suspended? while your brand account is suspended use of your brand account will be blocked on youtube google my business and photos you will still be able to access google services ie gmail drive classroom with your primary g suite for education account provided those services are enabled by your school's admin to access youtube you may need to switch to your primary account from your suspended brand account you can do this via the youtube channel switcher signingout andor clearing web browser cookies may also be necessary while your brand account is suspended brand account content such as posted youtube videos and photos uploaded to google photos may become hidden from you and others but will not be deleted while your brand account is suspended in some cases you may not be able to manage your google my business listings those listings will however remain visible you can tell if your brand account manages a google my business listing if 1 the account shows here under a â€œyour brand accountsâ€� heading and 2 upon clicking the listed brand account you then see the google my business logo in the â€œact as brand onâ€� section while your brand account is suspended you will not be able to access the â€œdownload your dataâ€� tool with your suspended brand account nor assign any new brand account owners or managers how can i preserve my brand account data? if your brand account is active ie becomes unsuspended or never was suspended one or more of the options below may be used to preserve some or all of your brand account data you can download your data while logged into the brand account prior to july 15 2020 to export the brand account's content you can transfer the primary ownership of the brand account to another user before july 15 2020 the new primary owner must either be a a g suite account holder that is not in a g suite for education primarysecondary k12 school domain or b a consumer account holder ie account@gmailcom note that even brand accounts belonging to users that have been submitted for an extension are still subject to deletion after july 15 2020 if the primary owner of the brand account is a g suite for education primary or secondary k12 school user as of july 15 2020 if you have any questions please contact the g suite administrator for your school sincerely the g suite team Â© 2019 google llc 1600 amphitheatre parkway mountain view ca 94043 you have received this mandatory service announcement to update you about important information regarding google services you use \n",
      "\n",
      "\n",
      "  l'association ensta paristech alumni Â  Â  Â  Â  bonjour pour rappel l'ensta paristech alumni te propose de participer au croco's day Â  Â  Â  Â  bonjour pour rappel l'ensta paristech alumni te propose de participer au croco's day barbecue et tournoi sportif samedi 14 septembre de 12h00 a 19h00 ensta paris 828 boulevard des marechaux 91762 palaiseau cedex je souhaite m'inscrire eleve tu as envie de rencontrer des diplomes dans un cadre convivial et sportif ? diplome tu veux savoir ce qu'est devenue ton ancienne ecole et tester le niveau sportif des petits nouveaux ? le bde le bds et l'association des alumni organisent le croco's day nouvelle formule le samedi 14 septembre prochain sur le campus de l'ecole a palaiseau au programme un barbecue suivi drsquoun tournoi sportif le tout dans une ambiance festive 12h Â barbecuemerguez chipo brochettes salades menu vegetarienhellip 14h Â tournoi sportifvolley basket foot rugby petanque tennis de table animation gonflablehellip 18h Â fanfare et buffet gouterremise de prix qui remportera le tournoi ? inscription obligatoire en cliquant cidessus sur \"je souhaite m'inscrire\" dans un souci drsquoorganisation facilitation des commandes alimentaires eviter les absences une paf de 2 euros est demandee a chaque participant en cas de difficultes pour t'inscrire tu peux envoyer un mail a secretariat@enstaorgÂ  a bientot au croco's day Â Â  Â  tu recois ce mail car tu es inscrit sur le site de l'ensta paristech alumni wwwenstaorg conformement aux articles 39 et suivants de la loi du 6 janvier 1978 modifiee tu beneficies d'un droit d'acces et de rectification aux informations qui te concernent pour exercer ce droit connectetoi a ton espace prive ou adresse un mail a secretariat@enstaorg \n",
      "\n",
      "\n",
      "  Â  bonjour christophe Â  apres \"voile technologies\" l'ensta paristech alumni continue sa tournee Â  bonjour christophe Â  apres \"voile technologies\" l'ensta paristech alumni continue sa tournee d'ete \"faitesnous rever\" et te propose de jouer avec negi Â  qursquoest que negiÂ ? Â  negi est une plateforme en ligne gratuite sur le theme de l'esport lrsquoesport est la pratique competitive drsquoun jeu video seul ou en equipe Â  negi permet bull de suivre facilement les competitions drsquoesport bull d'avoir acces a de nombreuses statistiques avancees notamment pour mieux comprendre le deroulement drsquoune competitionÂ  bull de defier la communaute sur un jeu de pronostics ludique et competitif le but etant de gagner le maximum de points et drsquoatteindre la tete du classement en pronostiquant correctement les matchs d'esport les plus talentueux sont bien entendu recompenses Â  negi a pour vocation d'etre une reference pour tous ceux inities ou non qui souhaitent suivre le monde de l'esport de pres ou de loin et quel que soit le jeu Â  pour srsquoinscrire sur negi il suffit de cliquerÂ ici et de creer un compte gratuitement ou de se connecter via discord ou twitch Â  Â  pourquoi negiÂ ? Â  lrsquoidee derriere negi vient du constat que les competitions drsquoesport sont compliquees a suivre malgre un acces facilite Â  tout drsquoabord il est difficile pour un noninitie de comprendre le deroulement drsquoun match les commentateurs nrsquoont pas le temps de reexpliquer a chaque match les differents elements et les diffuseurs ne mettent pas assez en lumiere les evenements car cela generait le suivi pour les plus inities Â  de plus etant donne la faible mediatisation des competitions drsquoesport la grande diversite et le grand nombre de matchs il nrsquoest pas simple de savoir quand les prochains matchs auront lieu la plupart du temps les gens doivent aller chercher ces informations souvent a plusieurs endroitsÂ crsquoest pour pallier a ces contraintes que 3 eleves ingenieurs de lrsquoensta fans drsquoesport ont decide de developper negi grace a twitter et a des echanges avec des commentateurs francais la plateforme negigg a ete lancee en version beta pour les competitions du jeu video overwatchÂ  overwatch est un jeu de tir qui se joue en equipe en 6 contre 6 avec un objectif a realiser Â  quels pronostics pour negiÂ ? Â  depuis son lancement il y a 6 mois 150 personnes sont inscrites sur la plateforme negi Â  negi est en constante evolution une refonte graphique a deja ete effectuee un module de statistiques et un lecteur twitch pour regarder les matchs en direct ont ete ajoutes Â  le prochain objectif de lrsquoequipe negi consiste a donner acces aux utilisateurs a des statistiques encore plus poussees afin drsquoattirer plus de public connaisseur sur le site et drsquoobtenir ses premiers sponsors elle a pour ambition de passer du projet a la startup le plus rapidement possibleÂ  Â  \"nrsquohesitez pas a nous contacter si vous souhaitez participer au projet nous aider ou nous donner vos impressions et conseils \" Â  Â  Â  Â  Â  Â  Â  Â  enstamicalementl'ensta paristech alumni828 bd des marechaux 91762 palaiseau 0181872150 wwwenstaorg secretariat@enstaorg Â  tu recois ce mail car tu es inscrit sur le site de l'ensta paristech alumni wwwenstaorg conformement aux articles 39 et suivants de la loi du 6 janvier 1978 modifiee tu beneficies d'un droit d'acces et de rectification aux informations qui te concernent pour exercer ce droit connectetoi a ton espace prive ou adresse un mail a secretariat@enstaorg \n",
      "\n",
      "\n",
      " \t\t \t\t \t\t \t\t\tbonjour \t\t\t \t\t\tl'association ensta paristech alumni te propose de participer a un nouvel eacuteveacutenement \t\t\t \t\t \t\t \t\t \t\t\t \t\t\t \t \t\t\t\t \t\t\t\t \t\t\t\t \t [ensta pta] croco's day barbecue et tournoi sportif\t\t\t\t \t\t\t\t \t\t\t\t \t\t\t\t \t\t\t\t \t\t\t\t \t samedi 14 septembre de 12h00 agrave 19h00\t\t\t\t\t \t\t\t\t\t \t ensta paris\t\t\t\t \t\t\t\t\t 828 boulevard des marechaux 91762 palaiseau cedex\t\t\t\t\t\t \t\t\t\t\t\t \t\t\t\t\t \t\t\t\t \t\t\t\t \t\t\t\t \t\t\t \t\t\t \t \t\t\t\t \t\t \t\t\t \t\t\t \t\t\t\t \t\t\t\t\t \t\t\t\t\t \t\t\t\t\t \t\t\t\t\t\t \t\t\t\t\t\t je souhaite m'inscrire \t\t\t\t\t\t \t\t\t\t\t\t \t\t\t\t\t \t\t\t\t\t \t\t\t\t \t\t\t \t\t \t\t\t \t\t \t\t \t\t\t\t \t \t\t\t eacutelegraveve tu as envie de rencontrer des diplocircmeacutes dans un cadre convivial et sportif ? diplocircmeacute tu veux savoir ce qu'est devenue ton ancienne eacutecole et tester le niveau sportif des petits nouveaux ? le bde le bds et l'association des alumni organisent le croco's day nouvelle formule le samedi 14 septembre prochain sur le campus de l'eacutecole agrave palaiseau au programme un barbecue suivi drsquoun tournoi sportif le tout dans une ambiance festive 12h nbspbarbecuemerguez chipo brochettes salades menu veacutegeacutetarienhellip 14h nbsptournoi sportifvolley basket foot rugby peacutetanque tennis de table animation gonflablehellip 18h nbspfanfare et buffet goucircterremise de prix qui remportera le tournoi ? inscription obligatoire en cliquant en haut agrave droite sur \"je m'inscris\" dans un souci drsquoorganisation facilitation des commandes alimentaires eacuteviter les absences une paf de 2 euros est demandeacutee agrave chaque participant en cas de difficulteacutes pour t'inscrire tu peux envoyer un mail agrave secretariat@enstaorgnbsp agrave bientocirct au croco's day nbspnbsp\t\t\t \t \t\t \t\t \t\t \n",
      "\n",
      "\n",
      "  mail transfere deÂ  mariegaelle gourio <mggourio@yahoofr> aÂ  \"balkisdebalincourt@gmailcom\" <balkisdebalincourt@gmailcom> \"thomascharpentier@hotmailfr\" <thomascharpentier@hotmailfr> \"mathiastoussaint@freefr\" <mathiastoussaint@freefr> \"cboettolegrain14@eabjinorg\" <cboettolegrain14@eabjinorg> \"turnerlouise01@gmailcom\" <turnerlouise01@gmailcom> envoye le jeudi 17 octobre 2013 20h30 objetÂ  ateliers du lundi du patro la toussaint mail transfere deÂ  \"plclouet@freefr\" <plclouet@freefr> aÂ  mariegaelle gourio <mggourio@yahoofr> envoye le mercredi 16 octobre 2013 18h05 objetÂ  re ateliers manuels de la toussaint coucou je n ai pas l adresse mail de tout le monde donc pourrais tu leur envoyer se mail avec le deroulement de lundi merci pierre louis lundi > >Â  Â  petite scaÂ©nette du matin > > il y a 4 personnages un troubadour louis 8 blanche de castille et st > louis > > le troubadour conte l'histoire de st louis pendant qu il raconte leur > histoire les autre personnages mime ce qu'il dit > > > >Â  Â  daÂ©but du grand jeu de l aprass midi introduction > > un chevalier annonce aÂ  blanche de castille que son mari est mort elle > appelle donc les jeunes aÂ  venir l aider aÂ  daÂ©fendre son royaume qui est > attaquaÂ© de toute part car il ne possasde plus de roi car st louis est trop > jeune pour raÂ©gner > > > le jeu il y a deux aÂ©quipes qui ont chacune 1 drapeau dans leur camp leur > but est d'aller chercher le drapeau de laaÂ©quipe adverse sans se faire > capturer le sien > ils ont tous un foulard dans le dos et ne doivent pas se le faire piquer > sinon il doivent retourner dans leur base pour pouvoir repartirune fois > qu'ils sont dans la base ennemie ils sont invincibles jusqu'aÂ  qu'ils en > ressortentlorsque quelqu'un perd son foulard et qu'il avait le drapeau il > est donnaÂ© aÂ  celui qui lui a pris son foulard > la premiasre aÂ©quipe qui a rapportaÂ© le drapeau de l'aÂ©quipe adverse gagne > il peut y avoir plusieurs manches si le jeu ne dure pas assez longtemps > > > >Â  Â  fin du grand jeu de l aprass midi conclusion > blanche de castille dit vous vous aÂªtes bien battus le royaume est sain et > sauf > > > > > > > voila une idaÂ©e des personnages que l on pourrait avoir pendant la semaine si > cela vous convient > > troubadour mathias > blanche de castille balkis > louis 8christophe > st louis pierre louis > chevalier secouristethomas > cuistot du royaume louise > assistant cuistot christopheune fois que louis 8 est mortpuis philippe le > bel > marguerite de provence mariegaaÂ«lle > > > > mardi apres midi plusieurs jeu sportif a leur proposer tout en restant dans l'imaginaire le jeu du pecheur cela consiste a faire deux equipe chez les enfants les pecheurs et les poissons les pecheurs se mettent en cercle puis se donne un chiffre entre eux puis ils compte tous ensemble pendant ce temps les poissons passent dans le cercle et ressortent arriver au chiffre de depart les pecheurs ferment le cercle et tous les poissons restant dans le cercle sont capture le but etant de ne pas se faire capturer on peut adapter ce jeu en disant que cela est un entrainement des soldats et que le jeu est une etape ou ils se sont fait capturer une balle au prisonnier on connait tous le principe et le rapport avec l'imaginaire serait justement apres la capture l'evasion toujours en restant dans cet entrainement special une araignee c'est le meme principe qu'un epervier sauf que les personne touchee pendant un passage sont captures par l'araignee et mise aleatoirement sur le terrain comme la toile de l'araignee si les enfants non touche par l'araignee touche la toile ils sont captures par la toile le rapport avec l'imaginaire est apres l'evasion il y a la fuite a la fin au gouter on donnerait des medaille aux enfants se referent aux activites de l'apres midi ceux qui ont fait cuisine auront une medaille marque cuistot dessus ceux qui ont fait couture auront une medaille de couturier etc jeudi on a eu l'idee d'une petite scenette avant le depart des enfant en sortie par exemple le personnage de saint louis explique pourquoi estce qu'on part etc enfin vendredi on voulait aire une autre scenette pour la mort du roi et on finirait par le roi est mort vive le roi philippe lebel et donc il y aurait une fete en son honneur kermesse mail original de \"mariegaelle gourio\" <mggourio@yahoofr> a plclouet@freefr envoye mardi 15 octobre 2013 182649 objet re ateliers manuels de la toussaint je suis desolee mais c'est deja pris en revanche les autres ateliers sont toujours libres bon courage pour la preparation mariegaelle de \"plclouet@freefr\" <plclouet@freefr> a mariegaelle gourio <mggourio@yahoofr> envoye le mardi 15 octobre 2013 16h58 objet re ateliers manuels de la toussaint bonjour moi je veux bien prendre l atelier pate a sel pierre louis mail original de \"mariegaelle gourio\" < mggourio@yahoofr > a balkisdebalincourt@gmailcom \"thomas charpentier\" < thomascharpentier@hotmailfr > plclouet@freefr mathiastoussaint@freefr \"c boettolegrain14\" < cboettolegrain14@eabjinorg > turnerlouise01@gmailcom envoye lundi 14 octobre 2013 211915 objet ateliers manuels de la toussaint bonsoir a tous voici les differents ateliers manuels pour les activites du matin merci de me dire celui que vous prenez et de vous occuper du materiel fabrication de son blason sur papier cartonne ou autre cf le dossier st louis realisation de la maquette proposee dans le dossier atelier calligraphie ou les enfants ecriraient leur nom dont l'alphabet utilise sous st louis se trouve en piece jointe atelier pate a sel pour realiser un bougeoir ou autre louise prend l'atelier de realisation de couronnes et de chapeaux et moi celui de la realisation d'un livre anime racontant une histoire en lien avec le moyenage voila j'espere que cela vous va si vous avez une autre idee d'activite et que vous la preferez allezy les ateliers proposes ici ne sont pas fixes mais tenezmoi au courant s'il vous plait bonne semaine mariegaelle \n",
      "\n",
      "\n",
      " chers eleves vous trouverez cidessous un message de m damon bonne journee a tous aurelie perraut secretariat des premieres et terminales tel 0153952880 dear 1ere and terminale students i am starting up a new club in school this year for 2nde 1ere and terminale students the creative computing club if you are interested there is a full description at the end of this email since we have a limited number of computers the number of places available for students is also limited the club will meet on friday afternoons after class but this club will require a certain amount of \"homework\" project work that you will spend time on during your own time so i am looking for super motivated students important this club is meeting at the same time as the robotics club and the debate club so choose wisely if you think you are interested talk to your parents and send me an email so i know that you want to be in the club to be sure you get a space fill out the registration form instructions below and bring it to mme melchior with the check the cost is â‚¬250 for the year mme melchior is in charge of all the extracurricular activities at school and she can be found in the staff room across from s24 put the form and the check in an envelope with \"creative computing club\" written on the front along with your name if by any chance we run out of space and you give us your envelope too late we will return it to you and you will need to find another activity i'm looking forward to an exciting new year mr damon adamon@eabjmnet to access the registration sheet on the school's web site 1 log in as a student or parent on eabjmorg 2 in the horizontal blue menu bar go to \"secondary secondaire\" then \"extracurricular extrascolaire\" 3 on that page scroll to the bottom to find the registration sheet to print out if that doesn't work email me creative computing club with mr damon in the creative computing club students will create interactive complex projects that will be visually impressive fun and useful students are encouraged to be creative and to challenge themselves and will go far beyond the usual word power point level participants do not have to already be experts with computers but they do have to feel comfortable trying new software and they have to show patience and perseverance possible skills students would acquire or perfect include the following â€¢ photo retouching â€¢ video editing â€¢ 3d vector graphics â€¢ audio editing â€¢ simple animations â€¢ simple programming â€¢ designing and writing apps for iphone android â€¢ designing and writing simple video games students who participate in this club will be preparing well for their future since the job they will have when they get out of university probably does not exist yet but that job will most likely involve using computers of some sort and employers are always looking for innovative creative people who are willing to attack a project with an open mind and a cando attitude ecole active bilinuge jeannine manuel terms of use the contents of this electronic message and any attachments are solely intended for the recipient if you have received this message and or an attachment by error please delete the message and or the attachment and send a notification of the error by return mail this message or any attachments should not be forwarded to a third party without the consent of the author \n",
      "\n",
      "\n"
     ]
    }
   ],
   "source": [
    "for el in df.loc[df['count']>8].body:\n",
    "    print(el)\n",
    "    print('\\n')"
   ]
  },
  {
   "cell_type": "code",
   "execution_count": 189,
   "metadata": {},
   "outputs": [],
   "source": [
    "def see_words(text):\n",
    "    L = []\n",
    "    for el in text:\n",
    "        if el in vocab_sport:\n",
    "            L+=[el]\n",
    "    return L"
   ]
  },
  {
   "cell_type": "code",
   "execution_count": 190,
   "metadata": {},
   "outputs": [],
   "source": [
    "df['words'] = df['clean_text_tok'].apply(see_words)"
   ]
  },
  {
   "cell_type": "code",
   "execution_count": 191,
   "metadata": {},
   "outputs": [
    {
     "name": "stdout",
     "output_type": "stream",
     "text": [
      "['education', 'education', 'education', 'education', 'education', 'education', 'education', 'education', 'education', 'education', 'education', 'education', 'education', 'education']\n",
      "['tournoi', 'sportif', 'sportif', 'sportif', 'formule', 'tournoi', 'sportif', 'tournoi', 'basket', 'rugby', 'petanque', 'tennis', 'tournoi']\n",
      "['tournoi', 'sportif', 'sportif', 'sportif', 'formule', 'tournoi', 'sportif', 'tournoi', 'basket', 'rugby', 'petanque', 'tennis', 'tournoi']\n",
      "['tournoi', 'sportif', 'sportif', 'sportif', 'formule', 'tournoi', 'sportif', 'tournoi', 'basket', 'rugby', 'petanque', 'tennis', 'tournoi']\n",
      "['equipe', 'competition', 'competition', 'competition', 'loisir', 'competition', 'equipe', 'competition', 'equipe', 'competition', 'competition', 'forme', 'vitesse', 'equipe', 'competition', 'competition', 'competition']\n",
      "['education', 'education', 'education', 'education', 'education', 'education', 'education', 'education', 'education', 'education', 'education']\n",
      "['tournoi', 'sportif', 'sportif', 'sportif', 'formule', 'tournoi', 'sportif', 'tournoi', 'basket', 'rugby', 'petanque', 'tennis', 'tournoi']\n",
      "['jeu', 'equipe', 'jeu', 'jeu', 'match', 'match', 'jeu', 'jeu', 'equipe', 'direct']\n",
      "['tournoi', 'sportif', 'sportif', 'sportif', 'formule', 'tournoi', 'sportif', 'basket', 'rugby', 'tennis', 'tournoi']\n",
      "['jeu', 'jeu', 'jeu', 'jeu', 'jeu', 'sportif', 'jeu', 'equipe', 'jeu', 'entrainement', 'jeu', 'entrainement', 'terrain', 'touche', 'touche']\n",
      "['club', 'club', 'club', 'club', 'club', 'club', 'club', 'club', 'club', 'club', 'club', 'club']\n"
     ]
    }
   ],
   "source": [
    "for el in df.loc[df['count']>8].words:\n",
    "    print(el)"
   ]
  },
  {
   "cell_type": "code",
   "execution_count": null,
   "metadata": {},
   "outputs": [],
   "source": []
  }
 ],
 "metadata": {
  "kernelspec": {
   "display_name": "Python 3",
   "language": "python",
   "name": "python3"
  },
  "language_info": {
   "codemirror_mode": {
    "name": "ipython",
    "version": 3
   },
   "file_extension": ".py",
   "mimetype": "text/x-python",
   "name": "python",
   "nbconvert_exporter": "python",
   "pygments_lexer": "ipython3",
   "version": "3.7.4"
  }
 },
 "nbformat": 4,
 "nbformat_minor": 2
}
