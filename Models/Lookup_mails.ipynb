{
 "cells": [
  {
   "cell_type": "code",
   "execution_count": 1,
   "metadata": {},
   "outputs": [],
   "source": [
    "import pandas as pd\n",
    "\n",
    "import re"
   ]
  },
  {
   "cell_type": "code",
   "execution_count": 147,
   "metadata": {},
   "outputs": [],
   "source": [
    "cat = 'politique'"
   ]
  },
  {
   "cell_type": "code",
   "execution_count": 148,
   "metadata": {},
   "outputs": [],
   "source": [
    "with open('vocabulary/clean/'+cat+'.txt', 'r') as f:\n",
    "    vocab_sport = f.read().split('\\n')"
   ]
  },
  {
   "cell_type": "code",
   "execution_count": 149,
   "metadata": {},
   "outputs": [],
   "source": [
    "df = pd.read_json(r'data/gmail_turc_no_url.txt', encoding = 'utf-8').body.to_frame()"
   ]
  },
  {
   "cell_type": "code",
   "execution_count": 150,
   "metadata": {},
   "outputs": [],
   "source": [
    "def clean_and_tokenize(text):\n",
    "    \"\"\"\n",
    "    Cleaning a document with:\n",
    "        - Lowercase        \n",
    "        - Removing numbers with regular expressions\n",
    "        - Removing punctuation with regular expressions\n",
    "        - Removing other artifacts\n",
    "    And separate the document into words by simply splitting at spaces\n",
    "    Params:\n",
    "        text (string): a sentence or a document\n",
    "    Returns:\n",
    "        tokens (list of strings): the list of tokens (word units) forming the document\n",
    "    \"\"\"        \n",
    "    # Lowercase\n",
    "    text = text.lower()\n",
    "    # Remove numbers\n",
    "    text = re.sub(r\"[0-9]+\", \"\", text)\n",
    "    # Remove punctuation\n",
    "    REMOVE_PUNCT = re.compile(\"[.;:!\\'?,\\\"()\\[\\]]\")\n",
    "    text = REMOVE_PUNCT.sub(\"\", text)\n",
    "    # Remove small words (1 and 2 characters)\n",
    "    text = re.sub(r\"\\b\\w{1,2}\\b\", \"\", text)\n",
    "    # Remove HTML artifacts specific to the corpus we're going to work with\n",
    "    REPLACE_HTML = re.compile(\"(<br\\s*/><br\\s*/>)|(\\-)|(\\/)\")\n",
    "    text = REPLACE_HTML.sub(\" \", text)\n",
    "    \n",
    "    tokens = text.split()\n",
    "    return tokens"
   ]
  },
  {
   "cell_type": "code",
   "execution_count": 151,
   "metadata": {},
   "outputs": [],
   "source": [
    "def lookup(list):\n",
    "    count = 0\n",
    "    for x in list:\n",
    "        if x in vocab_sport:\n",
    "            count += 20\n",
    "    return count / len(list)"
   ]
  },
  {
   "cell_type": "code",
   "execution_count": 152,
   "metadata": {},
   "outputs": [],
   "source": [
    "df['clean_text_tok'] = df.body.apply(clean_and_tokenize)"
   ]
  },
  {
   "cell_type": "code",
   "execution_count": 153,
   "metadata": {},
   "outputs": [],
   "source": [
    "cols_to_drop = [ i for i,el in enumerate(df['clean_text_tok']) if el == []]\n",
    "df.drop(axis=0, labels=cols_to_drop, inplace=True, errors='raise')"
   ]
  },
  {
   "cell_type": "code",
   "execution_count": 154,
   "metadata": {},
   "outputs": [],
   "source": [
    "df['count'] = df['clean_text_tok'].apply(lookup)"
   ]
  },
  {
   "cell_type": "code",
   "execution_count": 155,
   "metadata": {},
   "outputs": [
    {
     "data": {
      "text/plain": [
       "count    9125.000000\n",
       "mean        0.044577\n",
       "std         0.133437\n",
       "min         0.000000\n",
       "25%         0.000000\n",
       "50%         0.000000\n",
       "75%         0.000000\n",
       "max         1.818182\n",
       "Name: count, dtype: float64"
      ]
     },
     "execution_count": 155,
     "metadata": {},
     "output_type": "execute_result"
    }
   ],
   "source": [
    "df['count'].describe()"
   ]
  },
  {
   "cell_type": "code",
   "execution_count": 156,
   "metadata": {},
   "outputs": [
    {
     "data": {
      "text/plain": [
       "Series([], Name: body, dtype: object)"
      ]
     },
     "execution_count": 156,
     "metadata": {},
     "output_type": "execute_result"
    }
   ],
   "source": [
    "df.loc[df['count']==1].body"
   ]
  },
  {
   "cell_type": "code",
   "execution_count": 157,
   "metadata": {
    "scrolled": false
   },
   "outputs": [
    {
     "name": "stdout",
     "output_type": "stream",
     "text": [
      " ======================================== Programmer un évènement ======================================== Bonjour Etienne, Aidez Data Ensta, Florian St et 11 autres personnes à fêter leur anniversaire    Data Ensta Écrire sur son journal    Florian St Écrire sur son journal    TAdaima Ensta Écrire sur son journal    Lë Baroudeur Écrire sur son journal    TAsse Ensta Écrire sur son journal    Taep Ensta ParisTech Écrire sur son journal    Best Ensta Écrire sur son journal    Coup Detat Écrire sur son journal    Enstaquet Voile Ensta Écrire sur son journal    Liste Bde N'tertain Écrire sur son journal    TAmosphère Environnement Écrire sur son journal    Bds Spartan Écrivez sur son journal    Bda Havan'art Écrivez sur son journal Merci, L’équipe Facebook ======================================== Ce message a été envoyé à etienne.turc@gmail.com. Si vous ne souhaitez plus recevoir ces messages de la part de Facebook, veuillez suivre le lien ci-dessous pour annuler votre abonnement. Facebook Ireland Ltd., Attention: Community Operations, 4 Grand Canal Square, Dublin 2, Ireland Pour contribuer à la protection de votre compte, veuillez ne pas transférer cet e-mail. Suivez le lien ci-dessous pour en savoir plus. \n",
      "\n",
      "\n",
      "\n",
      "\n",
      "\n",
      " Hi, knut.reinert@fu-berlin.de wants to share Template for Nucleic Acids Research (NAR) journal with you. View project: Regards, The Overleaf Team - \n",
      "\n",
      "\n",
      "\n",
      "\n",
      "\n",
      "Votre fidélité compte : vous avez cumulé 279 Points Statut Si vous ne visualisez pas cet email, cliquez iciTURC ETIENNEStatut : Grand VoyageurN° de carte : 29090109534539704 Vos données personnelles Bonjour Monsieur ETIENNE, Bonne nouvelle ! Vous avez cumulé 279 Points Statut grâce à vos achats SNCF. Les Points Statut(1) déterminent votre statut au sein du programme de fidélité SNCF. Ils sont remis à zéro chaque année à votre date anniversaire soit le 21 MAI 2020 ou lorsque vous passez au statut supérieur(1). À chaque achat SNCF, renseigner votre n° de carte de fidélité : 29090109534539704 vous permet de cumuler des Points Statut (1€ dépensé = 1 Point Statut(1)) et des Points Monnaie (Consulter le Barème). Votre carte Grand Voyageur disponible aussi sur votre mobile. Vos Points Monnaie à échanger en billets de train ou cadeaux. Vos points de contact dédiés. > en savoir plus > en savoir plus > en savoir plus VOTRE PROGRAMME VOS RÉCOMPENSESBESOIN D'AIDEVOS INFOS(1) Les Points Statut sont comptabilisés sous réserve de présentation de la carte de fidélité au moment de l'achat d'un billet de train sur des trajets effectués par le porteur de la carte de fidélité. Les Points Statut sont cumulés sur les trajets (hors TER, Transilien, iDTGV, OUIGO et sur certains trains internationaux dont la liste est disponible dans l'annexe 2 des Conditions d'Utilisation) d'un montant supérieur à 9€ ou au tarif forfait. Les points sont comptabilisés 7 jours après la date de voyage s'il s'agit d'un aller simple, 7 jours après la date du retour s'il s'agit d'un aller/retour et 7 jours après le début de validité pour les cartes de réduction et abonnements SNCF. Les Points Statut sont comptabilisés sur une période d'un an. Le solde est remis à zéro à chaque date anniversaire d'entrée dans le statut. (2) Hors jours fériés et vacances de Noël et d’été. Vous recevez ce message car vous êtes inscrit au programme de fidélité SNCF. Conformément aux conditions générales d'utilisation du programme de fidélité, les communications relatives à la gestion du Programme Voyageur se font par email. Si vous souhaitez vous désinscrire et ne plus faire partie de ce programme, contactez le Service Relation Client Programme Voyageur en cliquant ici. Cette communication vous est envoyée par CRMServices, filiale de SNCF en charge du programme de fidélité de cette dernière- SAS au capital de 500 000 euros - RCS Nanterre B 477 909 436 - 2 place de la Défense - CNIT 1 - BP440 - 92053 Paris La Défense Cedex. Conformément aux articles 39 et suivants de la loi du 6 janvier 1978 relative à l'informatique, aux fichiers et aux libertés, vous pouvez exercer votre droit d'accès, de rectification, de suppression et d'opposition au traitement des données vous concernant en adressant un message électronique à partir de la rubrique Accéder à l'aide en ligne ou par courrier en indiquant vos nom, prénom et numéro de fidélité au service « Relation Client Programme VOYAGEUR » à l'adresse suivante : TSA 30444 – 62973 ARRAS CEDEX 9. Ce message est envoyé par un automate, merci de ne pas y répondre. Votre réponse ne pourra être traitée. REC_FID_GV_0_REL_CDVA_BienvenueStatutH4 \n",
      "\n",
      "\n",
      "\n",
      "\n",
      "\n",
      "Le Statut Grand Voyageur vous permet d’accéder à de nouveaux services Si vous ne visualisez pas cet email, cliquez iciTURC ETIENNEStatut : Grand VoyageurN° de carte : 29090109534539704 Vos données personnelles Bonjour Monsieur ETIENNE, Avec votre nouveau statut Grand Voyageur, accédez à de nouveaux services pensés pour faciliter tous vos déplacements. Obtenez des informations sur le programme Echangez vos billets et effectuez des demandes d'après-voyages Gagnez du temps en gare : échangez ou achetez vos billets pour des départs immédiats Echangez vos Points Monnaie contre des billets de train ou des cadeaux(2) Rendez-vous prochainement pour plus d’information sur votre statut Grand Voyageur VOTRE PROGRAMME VOS RÉCOMPENSESBESOIN D'AIDEVOS INFOS(1) (2) Les Points Monnaie sont échangeables contre des billets primes train et des cadeaux du catalogue du programme selon disponibilités. Les Billets Prime sont des primes payables en Points Monnaie ou en Points Monnaie + euros, conformément au barème en vigueur. Vous recevez ce message, car vous êtes inscrit(e) au programme de fidélité SNCF. Conformément aux conditions générales d’utilisation du programme de fidélité, les communications relatives à la gestion du Programme Voyageur se font par email. Si vous souhaitez vous désinscrire et ne plus faire partie de ce programme, contactez le Service Relation Client Programme Voyageur en cliquant ici. Cette communication vous est envoyée par CRMServices, filiale de SNCF en charge du programme de fidélité de cette dernière- SAS au capital de 500 000 euros - RCS Nanterre B 477 909 436 - 2 place de la Défense - CNIT 1 - BP440 - 92053 Paris La Défense Cedex. Conformément aux articles 39 et suivants de la loi du 6 janvier 1978 relative à l'informatique, aux fichiers et aux libertés, vous pouvez exercer votre droit d'accès, de rectification, de suppression et d'opposition au traitement des données vous concernant en adressant un message électronique à partir de la rubrique Accéder à l'aide en ligne ou par courrier en indiquant vos nom, prénom et numéro de fidélité au service « Relation Client Programme VOYAGEUR » à l'adresse suivante : TSA 30444 – 62973 ARRAS CEDEX 9. Ce message est envoyé par un automate, merci de ne pas y répondre. Votre réponse ne pourra être traitée. REC_FID_GV_0_REL_CDVA_BienvenueStatutH3 \n",
      "\n",
      "\n",
      "\n",
      "\n",
      "\n",
      " ======================================== Programmer un évènement ======================================== Bonjour Etienne, Aidez Maxime Dessertaine et Liste Bde Mentawai à fêter leur anniversaire.    Maxime Dessertaine Écrire sur son journal    Liste Bde Mentawai Écrire sur son journal Merci, L’équipe Facebook ======================================== Ce message a été envoyé à etienne.turc@gmail.com. Si vous ne souhaitez plus recevoir ces messages de la part de Facebook, veuillez suivre le lien ci-dessous pour annuler votre abonnement. Facebook Ireland Ltd., Attention: Community Operations, 4 Grand Canal Square, Dublin 2, Ireland Pour contribuer à la protection de votre compte, veuillez ne pas transférer cet e-mail. Suivez le lien ci-dessous pour en savoir plus. \n",
      "\n",
      "\n",
      "\n",
      "\n",
      "\n",
      " Inscription à Supercell ID terminée Et voilà ! Votre compte de jeu est connecté à votre nouvel identifiant Supercell. Vous pouvez accéder à Supercell ID à tout moment dans les paramètres du jeu. --- Conditions d'utilisation Politique de confidentialité \n",
      "\n",
      "\n",
      "\n",
      "\n",
      "\n",
      " ======================================== Accédez à Facebook Programmer un évènement ======================================== Bonjour Etienne, Aidez Florian St, Liste Bde N'tertain et 8 autres personnes à fêter leur anniversaire [ Florian St[ Écrire sur son journal [ Liste Bde N'tertain[ Écrire sur son journal [ Taep Ensta ParisTech[ Écrire sur son journal [ Data Ensta[ Écrire sur son journal [ Coup Detat[ Écrire sur son journal [ Bds Spartan[ Écrivez sur son journal [ Enstaquet Voile Ensta[ Écrire sur son journal [ Best Ensta[ Écrire sur son journal [ TAmosphère Environnement[ Écrire sur son journal [ Boom Ensta ParisTech[ Écrire sur son journal Merci, L’équipe Facebook ======================================== Ce message a été envoyé à etienne.turc@gmail.com. Si vous ne souhaitez plus recevoir ces messages de la part de Facebook, veuillez suivre le lien ci-dessous pour annuler votre abonnement. Facebook Ireland Ltd., Attention: Community Operations, 4 Grand Canal Square, Dublin 2, Ireland Pour contribuer à la protection de votre compte, veuillez ne pas transférer cet e-mail. Suivez le lien ci-dessous pour en savoir plus. \n",
      "\n",
      "\n",
      "\n",
      "\n",
      "\n",
      " Compte Microsoft Vérifiez votre adresse e-mail Utilisez ce code de sécurité pour ajouter etienne.turc@gmail.com au compte Skype  : 2244 Si vous n'avez pas demandé ce code, vous pouvez ignorer ce message. Il se peut qu'un autre utilisateur ait saisi votre adresse e-mail par erreur. Merci, Microsoft \n",
      "\n",
      "\n",
      "\n",
      "\n",
      "\n",
      " ======================================== Accédez à Facebook Programmer un évènement ======================================== Bonjour Etienne, Aidez Maxime Dessertaine et Liste Bde Mentawai à fêter leur anniversaire. [ Maxime Dessertaine[ Écrire sur son journal [ Liste Bde Mentawai[ Écrire sur son journal Merci, L’équipe Facebook ======================================== Ce message a été envoyé à etienne.turc@gmail.com. Si vous ne souhaitez plus recevoir ces messages de la part de Facebook, veuillez suivre le lien ci-dessous pour annuler votre abonnement. Facebook, Inc., Attention: Community Support, 1 Hacker Way, Menlo Park, CA 94025 \n",
      "\n",
      "\n",
      "\n",
      "\n",
      "\n",
      " Nouveau : retrouvez votre espace Fidélité sur moncompte.sncf.com Si vous ne visualisez pas cet email,  cliquez ici ETIENNE TURC N° de carte : 29090109094409462 Vos données personnelles Monsieur TURC, Nous avons le plaisir de vous donner rendez-vous sur votre nouvelle adresse fidélité moncompte.sncf.com  . Un site pensé pour vous faciliter l’accès à vos informations voyages, vos avantages fidélité ainsi qu’à vos informations personnelles. Nous vous souhaitons une belle découverte lors de votre première navigation. L’équipe du Programme Voyageur. Utiliser mes Codes avantage sur de prochaines réservationsConsulter les actualités du programmeRetrouver les justificatifs de mes voyages ASTUCE Pour un accès plus simple, j'ajoute cette nouvelle adresse à MES FAVORIS INTERNET ! VOTRE PROGRAMME VOS RÉCOMPENSES BESOIN D'AIDE VOS INFOS Vous recevez ce message car vous êtes inscrit(e) au programme de fidélité SNCF. Conformément aux conditions générales d'utilisation du programme de fidélité, les communications relatives à la gestion du Programme Voyageur se font par email. Si vous souhaitez vous désinscrire et ne plus faire partie de ce programme, contactez le Service Relation Client Programme Voyageur en cliquant ici . Cette communication vous est envoyée par CRMServices, filiale de SNCF en charge du programme de fidélité de cette dernière- SAS au capital de 500 000 euros - RCS Nanterre B 477 909 436 - 2 place de la Défense - CNIT 1 - BP440 - 92053 Paris La Défense Cedex. Conformément aux articles 39 et suivants de la loi du 6 janvier 1978 relative à l'informatique, aux fichiers et aux libertés, vous pouvez exercer votre droit d'accès, de rectification, de suppression et d'opposition au traitement des données vous concernant en adressant un message électronique à partir de la rubrique Accéder à l'aide en ligne ou par courrier en indiquant vos noms, prénoms et numéro de fidélité au service « Relation Client Programme VOYAGEUR » à l'adresse suivante : TSA 30444 - 62973 ARRAS CEDEX 9. Ce message est envoyé par un automate, merci de ne pas y répondre. Votre réponse ne pourra être traitée. 1611_FID_MIXFID_0_REL_MANU_loi-connect-V0 \n",
      "\n",
      "\n",
      "\n",
      "\n",
      "\n",
      " Bonjour M. TURC Etienne, Voici votre code d'activation : 6e462i Des informations confidentielles et urgentes peuvent vous être envoyées par mail à cette adresse. Vous devez activer cette adresse pour qu'elle soit valide. Cordialement.\n",
      "\n",
      "\n",
      "\n",
      "\n",
      "\n",
      " LE PLUS GRAND ÉVÈNEMENT DE SPORT ÉLECTRONIQUE Suivez les 14 meilleures équipes professionnelles dans leur bataille pour la gloire mondiale et 300,000$ de récompense ! Assistez à la première finale de la league Wargaming.net GAGNEZ D'INCROYABLES RÉCOMPENSES : ALIENWARE : ORDINATEURS DE JEU et PRIX RAZER : CODE BONUS et PÉRIPHÉRIQUES DE JEU \n",
      "\n",
      "\n",
      "\n",
      "\n",
      "\n",
      " Bonjour, je vous contacte car je souhaite mettre à jour mon adresse. J'habite actuellement à: \n",
      "\n",
      "\n",
      "\n",
      "\n",
      "\n",
      " Le texte avec voltaire faut faire les questions ou l'analyse de texte et en allemand c quoi le dialogue sur la musique \n",
      "\n",
      "\n",
      "\n",
      "\n",
      "\n"
     ]
    }
   ],
   "source": [
    "for el in df.loc[df['count']>1].body:\n",
    "    print(el)\n",
    "    print('\\n\\n\\n\\n')"
   ]
  },
  {
   "cell_type": "code",
   "execution_count": 158,
   "metadata": {},
   "outputs": [],
   "source": [
    "def see_words(text):\n",
    "    L = []\n",
    "    for el in text:\n",
    "        if el in vocab_sport:\n",
    "            L+=[el]\n",
    "    return L"
   ]
  },
  {
   "cell_type": "code",
   "execution_count": 159,
   "metadata": {},
   "outputs": [],
   "source": [
    "df['words'] = df['clean_text_tok'].apply(see_words)"
   ]
  },
  {
   "cell_type": "code",
   "execution_count": 160,
   "metadata": {},
   "outputs": [
    {
     "name": "stdout",
     "output_type": "stream",
     "text": [
      "['journal', 'journal', 'journal', 'journal', 'journal', 'journal', 'journal', 'journal', 'journal', 'journal', 'journal', 'journal', 'journal']\n",
      "['journal']\n",
      "['statut', 'statut', 'statut', 'statut', 'programme', 'statut', 'statut', 'statut', 'programme', 'statut', 'statut', 'statut', 'statut', 'programme', 'programme', 'programme', 'programme', 'programme', 'programme', 'programme']\n",
      "['statut', 'statut', 'programme', 'statut', 'programme', 'programme', 'programme', 'programme', 'programme', 'programme', 'programme', 'programme', 'programme']\n",
      "['maxime', 'maxime', 'journal', 'journal']\n",
      "['jeu', 'jeu']\n",
      "['journal', 'journal', 'journal', 'journal', 'journal', 'journal', 'journal', 'journal', 'journal', 'journal']\n",
      "['adresse', 'adresse']\n",
      "['maxime', 'maxime', 'journal', 'journal']\n",
      "['adresse', 'programme', 'astuce', 'adresse', 'programme', 'programme', 'programme', 'programme', 'programme', 'programme', 'programme', 'programme']\n",
      "['adresse', 'adresse']\n",
      "['jeu', 'jeu']\n",
      "['adresse']\n",
      "['dialogue']\n"
     ]
    }
   ],
   "source": [
    "for el in df.loc[df['count']>1].words:\n",
    "    print(el)"
   ]
  },
  {
   "cell_type": "code",
   "execution_count": null,
   "metadata": {},
   "outputs": [],
   "source": []
  }
 ],
 "metadata": {
  "kernelspec": {
   "display_name": "Python 3",
   "language": "python",
   "name": "python3"
  },
  "language_info": {
   "codemirror_mode": {
    "name": "ipython",
    "version": 3
   },
   "file_extension": ".py",
   "mimetype": "text/x-python",
   "name": "python",
   "nbconvert_exporter": "python",
   "pygments_lexer": "ipython3",
   "version": "3.7.4"
  }
 },
 "nbformat": 4,
 "nbformat_minor": 2
}
