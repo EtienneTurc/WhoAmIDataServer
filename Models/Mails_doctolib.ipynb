{
 "cells": [
  {
   "cell_type": "code",
   "execution_count": 99,
   "metadata": {},
   "outputs": [],
   "source": [
    "import pandas as pd\n",
    "import numpy as np\n",
    "\n",
    "from datetime import datetime\n",
    "\n",
    "import re\n",
    "\n",
    "from utils import tag_mail, format_mail"
   ]
  },
  {
   "cell_type": "code",
   "execution_count": 142,
   "metadata": {},
   "outputs": [],
   "source": [
    "df = pd.read_json(r'data/gmail_boetto_basic.txt', encoding = 'utf-8')"
   ]
  },
  {
   "cell_type": "code",
   "execution_count": 143,
   "metadata": {},
   "outputs": [
    {
     "data": {
      "text/html": [
       "<div>\n",
       "<style scoped>\n",
       "    .dataframe tbody tr th:only-of-type {\n",
       "        vertical-align: middle;\n",
       "    }\n",
       "\n",
       "    .dataframe tbody tr th {\n",
       "        vertical-align: top;\n",
       "    }\n",
       "\n",
       "    .dataframe thead th {\n",
       "        text-align: right;\n",
       "    }\n",
       "</style>\n",
       "<table border=\"1\" class=\"dataframe\">\n",
       "  <thead>\n",
       "    <tr style=\"text-align: right;\">\n",
       "      <th></th>\n",
       "      <th>snippet</th>\n",
       "      <th>date</th>\n",
       "      <th>headers</th>\n",
       "      <th>body</th>\n",
       "      <th>cat</th>\n",
       "    </tr>\n",
       "  </thead>\n",
       "  <tbody>\n",
       "    <tr>\n",
       "      <td>1228</td>\n",
       "      <td>Doctolib RDV confirmé Clinique Ostéopathique d...</td>\n",
       "      <td>2018-11-21 16:45:29</td>\n",
       "      <td>[{'name': 'From', 'value': 'Doctolib &lt;no-reply...</td>\n",
       "      <td></td>\n",
       "      <td>doctolib</td>\n",
       "    </tr>\n",
       "    <tr>\n",
       "      <td>1869</td>\n",
       "      <td>Doctolib Rappel : vous avez un rendez-vous dem...</td>\n",
       "      <td>2017-01-01 14:25:31</td>\n",
       "      <td>[{'name': 'From', 'value': 'Doctolib &lt;julia@do...</td>\n",
       "      <td>DoctolibVotre rendez-vousVotre rendez-vous \\n...</td>\n",
       "      <td>doctolib</td>\n",
       "    </tr>\n",
       "    <tr>\n",
       "      <td>1870</td>\n",
       "      <td>Doctolib Rappel : vous avez un rendez-vous le ...</td>\n",
       "      <td>2016-12-26 14:27:32</td>\n",
       "      <td>[{'name': 'From', 'value': 'Doctolib &lt;julia@do...</td>\n",
       "      <td>DoctolibVotre rendez-vousVotre rendez-vous \\n...</td>\n",
       "      <td>doctolib</td>\n",
       "    </tr>\n",
       "    <tr>\n",
       "      <td>1875</td>\n",
       "      <td>Doctolib Votre rendez-vous du lundi 02 janvier...</td>\n",
       "      <td>2016-12-22 10:58:22</td>\n",
       "      <td>[{'name': 'From', 'value': 'Doctolib &lt;julia@do...</td>\n",
       "      <td>DoctolibVotre rendez-vousVotre rendez-vous \\n...</td>\n",
       "      <td>doctolib</td>\n",
       "    </tr>\n",
       "  </tbody>\n",
       "</table>\n",
       "</div>"
      ],
      "text/plain": [
       "                                                snippet                date  \\\n",
       "1228  Doctolib RDV confirmé Clinique Ostéopathique d... 2018-11-21 16:45:29   \n",
       "1869  Doctolib Rappel : vous avez un rendez-vous dem... 2017-01-01 14:25:31   \n",
       "1870  Doctolib Rappel : vous avez un rendez-vous le ... 2016-12-26 14:27:32   \n",
       "1875  Doctolib Votre rendez-vous du lundi 02 janvier... 2016-12-22 10:58:22   \n",
       "\n",
       "                                                headers  \\\n",
       "1228  [{'name': 'From', 'value': 'Doctolib <no-reply...   \n",
       "1869  [{'name': 'From', 'value': 'Doctolib <julia@do...   \n",
       "1870  [{'name': 'From', 'value': 'Doctolib <julia@do...   \n",
       "1875  [{'name': 'From', 'value': 'Doctolib <julia@do...   \n",
       "\n",
       "                                                   body       cat  \n",
       "1228                                                     doctolib  \n",
       "1869   DoctolibVotre rendez-vousVotre rendez-vous \\n...  doctolib  \n",
       "1870   DoctolibVotre rendez-vousVotre rendez-vous \\n...  doctolib  \n",
       "1875   DoctolibVotre rendez-vousVotre rendez-vous \\n...  doctolib  "
      ]
     },
     "execution_count": 143,
     "metadata": {},
     "output_type": "execute_result"
    }
   ],
   "source": [
    "df['cat'] = df.headers.apply(tag_mail)\n",
    "\n",
    "df.loc[df.cat=='doctolib']"
   ]
  },
  {
   "cell_type": "code",
   "execution_count": 150,
   "metadata": {},
   "outputs": [],
   "source": [
    "import locale\n",
    "locale.setlocale(locale.LC_TIME, \"fr_FR\")\n",
    "\n",
    "mails_doc = df.loc[df.cat == 'doctolib']\n",
    "mails_doc = mails_doc.loc[mails_doc.snippet.str.contains(\"confirmé\")]\n",
    "\n",
    "reg_weekdays = re.compile(r' Lundi|Mardi|Mercredi|Jeudi|Vendredi|Samedi|Dimanche')\n",
    "\n",
    "mails_doc['appointment'] = mails_doc.snippet.apply(lambda x: reg_weekdays.split(x.split('confirmé ')[1])[0] )\n",
    "\n",
    "def get_date(x):\n",
    "    tmp = x['snippet']\n",
    "    tmp = tmp.split(x['appointment'])[1]\n",
    "    tmp = tmp.split(' DÉPLACER')[0]\n",
    "    try:\n",
    "        date = datetime.strptime(tmp, '%A %d %B à %Hh%M')\n",
    "        date = date.replace(year = x['date'].year)\n",
    "    except:\n",
    "        date = None\n",
    "    return date\n",
    "    \n",
    "mails_doc['cons_date'] = mails_doc[['snippet', 'date', 'appointment']].apply(get_date, axis = 1) \n",
    "\n",
    "mails_doc = mails_doc.loc[mails_doc['cons_date'].isna() == False]"
   ]
  },
  {
   "cell_type": "code",
   "execution_count": 145,
   "metadata": {},
   "outputs": [
    {
     "data": {
      "text/html": [
       "<div>\n",
       "<style scoped>\n",
       "    .dataframe tbody tr th:only-of-type {\n",
       "        vertical-align: middle;\n",
       "    }\n",
       "\n",
       "    .dataframe tbody tr th {\n",
       "        vertical-align: top;\n",
       "    }\n",
       "\n",
       "    .dataframe thead th {\n",
       "        text-align: right;\n",
       "    }\n",
       "</style>\n",
       "<table border=\"1\" class=\"dataframe\">\n",
       "  <thead>\n",
       "    <tr style=\"text-align: right;\">\n",
       "      <th></th>\n",
       "      <th>snippet</th>\n",
       "      <th>date</th>\n",
       "      <th>headers</th>\n",
       "      <th>body</th>\n",
       "      <th>cat</th>\n",
       "      <th>docteur</th>\n",
       "      <th>cons_date</th>\n",
       "    </tr>\n",
       "  </thead>\n",
       "  <tbody>\n",
       "    <tr>\n",
       "      <td>1228</td>\n",
       "      <td>Doctolib RDV confirmé Clinique Ostéopathique d...</td>\n",
       "      <td>2018-11-21 16:45:29</td>\n",
       "      <td>[{'name': 'From', 'value': 'Doctolib &lt;no-reply...</td>\n",
       "      <td></td>\n",
       "      <td>doctolib</td>\n",
       "      <td>Clinique Ostéopathique de Paris Ostéopathe</td>\n",
       "      <td>2018-11-24 11:00:00</td>\n",
       "    </tr>\n",
       "  </tbody>\n",
       "</table>\n",
       "</div>"
      ],
      "text/plain": [
       "                                                snippet                date  \\\n",
       "1228  Doctolib RDV confirmé Clinique Ostéopathique d... 2018-11-21 16:45:29   \n",
       "\n",
       "                                                headers body       cat  \\\n",
       "1228  [{'name': 'From', 'value': 'Doctolib <no-reply...       doctolib   \n",
       "\n",
       "                                          docteur           cons_date  \n",
       "1228  Clinique Ostéopathique de Paris Ostéopathe  2018-11-24 11:00:00  "
      ]
     },
     "execution_count": 145,
     "metadata": {},
     "output_type": "execute_result"
    }
   ],
   "source": [
    "mails_doc"
   ]
  },
  {
   "cell_type": "code",
   "execution_count": 121,
   "metadata": {
    "scrolled": true
   },
   "outputs": [
    {
     "data": {
      "text/plain": [
       "155   2020-01-09 18:45:00\n",
       "399   2019-10-16 09:15:00\n",
       "418   2019-10-09 11:15:00\n",
       "dtype: datetime64[ns]"
      ]
     },
     "execution_count": 121,
     "metadata": {},
     "output_type": "execute_result"
    }
   ],
   "source": [
    "def get_date(x):\n",
    "    tmp = x['snippet']\n",
    "    tmp = tmp.split(x['docteur'])[1]\n",
    "    tmp = tmp.split(' DÉPLACER')[0]\n",
    "    \n",
    "    date = datetime.strptime(tmp, '%A %d %B à %Hh%M')\n",
    "    date = date.replace(year = x['date'].year)\n",
    "    return date\n",
    "    \n",
    "mails_doc[['snippet', 'date', 'docteur']].apply(get_date, axis = 1) "
   ]
  },
  {
   "cell_type": "code",
   "execution_count": 146,
   "metadata": {},
   "outputs": [],
   "source": [
    "import locale"
   ]
  },
  {
   "cell_type": "code",
   "execution_count": 147,
   "metadata": {},
   "outputs": [
    {
     "ename": "TypeError",
     "evalue": "an integer is required (got type str)",
     "output_type": "error",
     "traceback": [
      "\u001b[1;31m---------------------------------------------------------------------------\u001b[0m",
      "\u001b[1;31mTypeError\u001b[0m                                 Traceback (most recent call last)",
      "\u001b[1;32m<ipython-input-147-479a541f4fb6>\u001b[0m in \u001b[0;36m<module>\u001b[1;34m\u001b[0m\n\u001b[1;32m----> 1\u001b[1;33m \u001b[0mlocale\u001b[0m\u001b[1;33m.\u001b[0m\u001b[0msetlocale\u001b[0m\u001b[1;33m(\u001b[0m\u001b[1;34m'fr_FR'\u001b[0m\u001b[1;33m)\u001b[0m\u001b[1;33m\u001b[0m\u001b[1;33m\u001b[0m\u001b[0m\n\u001b[0m",
      "\u001b[1;32m~\\Anaconda3\\lib\\locale.py\u001b[0m in \u001b[0;36msetlocale\u001b[1;34m(category, locale)\u001b[0m\n\u001b[0;32m    602\u001b[0m         \u001b[1;31m# convert to string\u001b[0m\u001b[1;33m\u001b[0m\u001b[1;33m\u001b[0m\u001b[1;33m\u001b[0m\u001b[0m\n\u001b[0;32m    603\u001b[0m         \u001b[0mlocale\u001b[0m \u001b[1;33m=\u001b[0m \u001b[0mnormalize\u001b[0m\u001b[1;33m(\u001b[0m\u001b[0m_build_localename\u001b[0m\u001b[1;33m(\u001b[0m\u001b[0mlocale\u001b[0m\u001b[1;33m)\u001b[0m\u001b[1;33m)\u001b[0m\u001b[1;33m\u001b[0m\u001b[1;33m\u001b[0m\u001b[0m\n\u001b[1;32m--> 604\u001b[1;33m     \u001b[1;32mreturn\u001b[0m \u001b[0m_setlocale\u001b[0m\u001b[1;33m(\u001b[0m\u001b[0mcategory\u001b[0m\u001b[1;33m,\u001b[0m \u001b[0mlocale\u001b[0m\u001b[1;33m)\u001b[0m\u001b[1;33m\u001b[0m\u001b[1;33m\u001b[0m\u001b[0m\n\u001b[0m\u001b[0;32m    605\u001b[0m \u001b[1;33m\u001b[0m\u001b[0m\n\u001b[0;32m    606\u001b[0m \u001b[1;32mdef\u001b[0m \u001b[0mresetlocale\u001b[0m\u001b[1;33m(\u001b[0m\u001b[0mcategory\u001b[0m\u001b[1;33m=\u001b[0m\u001b[0mLC_ALL\u001b[0m\u001b[1;33m)\u001b[0m\u001b[1;33m:\u001b[0m\u001b[1;33m\u001b[0m\u001b[1;33m\u001b[0m\u001b[0m\n",
      "\u001b[1;31mTypeError\u001b[0m: an integer is required (got type str)"
     ]
    }
   ],
   "source": [
    "locale.setlocale('fr_FR')"
   ]
  },
  {
   "cell_type": "code",
   "execution_count": null,
   "metadata": {},
   "outputs": [],
   "source": [
    "import locale\n",
    "locale.setlocale(locale.LC_TIME, \"fr_FR\")"
   ]
  }
 ],
 "metadata": {
  "kernelspec": {
   "display_name": "Python 3",
   "language": "python",
   "name": "python3"
  },
  "language_info": {
   "codemirror_mode": {
    "name": "ipython",
    "version": 3
   },
   "file_extension": ".py",
   "mimetype": "text/x-python",
   "name": "python",
   "nbconvert_exporter": "python",
   "pygments_lexer": "ipython3",
   "version": "3.7.4"
  }
 },
 "nbformat": 4,
 "nbformat_minor": 2
}
