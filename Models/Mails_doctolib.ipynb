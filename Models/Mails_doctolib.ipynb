{
 "cells": [
  {
   "cell_type": "code",
   "execution_count": 99,
   "metadata": {},
   "outputs": [],
   "source": [
    "import pandas as pd\n",
    "import numpy as np\n",
    "\n",
    "from datetime import datetime\n",
    "\n",
    "import re\n",
    "\n",
    "from utils import tag_mail, format_mail"
   ]
  },
  {
   "cell_type": "code",
   "execution_count": 142,
   "metadata": {},
   "outputs": [],
   "source": [
    "df = pd.read_json(r'data/gmail_boetto_basic.txt', encoding = 'utf-8')"
   ]
  },
  {
   "cell_type": "code",
   "execution_count": 143,
   "metadata": {},
   "outputs": [
    {
     "data": {
      "text/html": [
       "<div>\n",
       "<style scoped>\n",
       "    .dataframe tbody tr th:only-of-type {\n",
       "        vertical-align: middle;\n",
       "    }\n",
       "\n",
       "    .dataframe tbody tr th {\n",
       "        vertical-align: top;\n",
       "    }\n",
       "\n",
       "    .dataframe thead th {\n",
       "        text-align: right;\n",
       "    }\n",
       "</style>\n",
       "<table border=\"1\" class=\"dataframe\">\n",
       "  <thead>\n",
       "    <tr style=\"text-align: right;\">\n",
       "      <th></th>\n",
       "      <th>snippet</th>\n",
       "      <th>date</th>\n",
       "      <th>headers</th>\n",
       "      <th>body</th>\n",
       "      <th>cat</th>\n",
       "    </tr>\n",
       "  </thead>\n",
       "  <tbody>\n",
       "    <tr>\n",
       "      <td>1228</td>\n",
       "      <td>Doctolib RDV confirmé Clinique Ostéopathique d...</td>\n",
       "      <td>2018-11-21 16:45:29</td>\n",
       "      <td>[{'name': 'From', 'value': 'Doctolib &lt;no-reply...</td>\n",
       "      <td></td>\n",
       "      <td>doctolib</td>\n",
       "    </tr>\n",
       "    <tr>\n",
       "      <td>1869</td>\n",
       "      <td>Doctolib Rappel : vous avez un rendez-vous dem...</td>\n",
       "      <td>2017-01-01 14:25:31</td>\n",
       "      <td>[{'name': 'From', 'value': 'Doctolib &lt;julia@do...</td>\n",
       "      <td>DoctolibVotre rendez-vousVotre rendez-vous \\n...</td>\n",
       "      <td>doctolib</td>\n",
       "    </tr>\n",
       "    <tr>\n",
       "      <td>1870</td>\n",
       "      <td>Doctolib Rappel : vous avez un rendez-vous le ...</td>\n",
       "      <td>2016-12-26 14:27:32</td>\n",
       "      <td>[{'name': 'From', 'value': 'Doctolib &lt;julia@do...</td>\n",
       "      <td>DoctolibVotre rendez-vousVotre rendez-vous \\n...</td>\n",
       "      <td>doctolib</td>\n",
       "    </tr>\n",
       "    <tr>\n",
       "      <td>1875</td>\n",
       "      <td>Doctolib Votre rendez-vous du lundi 02 janvier...</td>\n",
       "      <td>2016-12-22 10:58:22</td>\n",
       "      <td>[{'name': 'From', 'value': 'Doctolib &lt;julia@do...</td>\n",
       "      <td>DoctolibVotre rendez-vousVotre rendez-vous \\n...</td>\n",
       "      <td>doctolib</td>\n",
       "    </tr>\n",
       "  </tbody>\n",
       "</table>\n",
       "</div>"
      ],
      "text/plain": [
       "                                                snippet                date  \\\n",
       "1228  Doctolib RDV confirmé Clinique Ostéopathique d... 2018-11-21 16:45:29   \n",
       "1869  Doctolib Rappel : vous avez un rendez-vous dem... 2017-01-01 14:25:31   \n",
       "1870  Doctolib Rappel : vous avez un rendez-vous le ... 2016-12-26 14:27:32   \n",
       "1875  Doctolib Votre rendez-vous du lundi 02 janvier... 2016-12-22 10:58:22   \n",
       "\n",
       "                                                headers  \\\n",
       "1228  [{'name': 'From', 'value': 'Doctolib <no-reply...   \n",
       "1869  [{'name': 'From', 'value': 'Doctolib <julia@do...   \n",
       "1870  [{'name': 'From', 'value': 'Doctolib <julia@do...   \n",
       "1875  [{'name': 'From', 'value': 'Doctolib <julia@do...   \n",
       "\n",
       "                                                   body       cat  \n",
       "1228                                                     doctolib  \n",
       "1869   DoctolibVotre rendez-vousVotre rendez-vous \\n...  doctolib  \n",
       "1870   DoctolibVotre rendez-vousVotre rendez-vous \\n...  doctolib  \n",
       "1875   DoctolibVotre rendez-vousVotre rendez-vous \\n...  doctolib  "
      ]
     },
     "execution_count": 143,
     "metadata": {},
     "output_type": "execute_result"
    }
   ],
   "source": [
    "df['cat'] = df.headers.apply(tag_mail)\n",
    "\n",
    "df.loc[df.cat=='doctolib']"
   ]
  },
  {
   "cell_type": "code",
   "execution_count": 153,
   "metadata": {},
   "outputs": [
    {
     "name": "stdout",
     "output_type": "stream",
     "text": [
      " \n",
      "\n",
      "\n",
      "\n",
      "#####################################################\n",
      "\n",
      "\n",
      "\n",
      " DoctolibVotre rendez-vousVotre rendez-vous \n",
      " \n",
      "lundi 02 janvier 2017 à 10h30Ajouter ce rendez-vous à votre \n",
      "agendaOutlook \n",
      "Outlook ( )iCal \n",
      "iCal ( )Google \n",
      "Google ( \n",
      "chez Dr Geoffroy HICKMAN \n",
      "&dates=20170102T093000Z/20170102T094500Z&details=Informations+pratiques+%3A%0A%2A+Au+Rez-de-chauss%C3%A9e%0A%2A+Sans+ascenseur%0A%2A+Sans+acc%C3%A8s+handicap%C3%A9%0A%2A+Code+1+%3A+13A59%0A%2A+Code+%3A+7425A%0A%0AAutres+informations+%3A%0A%2A+Avancez+au+fond+du+passage+apr%C3%A8s+la+grille%2C+%C3%A0+gauche.%0A%0AVia+Doctolib&location=86 \n",
      "Rue du Faubourg Saint-Denis, 75010 Paris ) ( )Annuler le RDVAdresseAdresse \n",
      " \n",
      "86 Rue du Faubourg Saint-Denis \n",
      "75010 Paris \n",
      "Téléphone : 01 44 91 94 26 \n",
      "Rez-de-chaussée \n",
      "Digicode 1 : 13A59 \n",
      "Digicode 2 : 7425A \n",
      "Autres informations : Avancez au fond du passage après la grille, \n",
      "à gauche.Lieu du RDV ( )Moyens de paiementMoyens de paiement \n",
      " \n",
      "EspècesChèquesCarte BancaireInformations \n",
      " \n",
      "Carte VitaleBesoin d'aide ? ( ) ( ) ( )\n",
      "\n",
      "\n",
      "\n",
      "#####################################################\n",
      "\n",
      "\n",
      "\n",
      " DoctolibVotre rendez-vousVotre rendez-vous \n",
      " \n",
      "lundi 02 janvier 2017 à 10h30Ajouter ce rendez-vous à votre \n",
      "agendaOutlook \n",
      "Outlook ( )iCal \n",
      "iCal ( )Google \n",
      "Google ( \n",
      "chez Dr Geoffroy HICKMAN \n",
      "&dates=20170102T093000Z/20170102T094500Z&details=Informations+pratiques+%3A%0A%2A+Au+Rez-de-chauss%C3%A9e%0A%2A+Sans+ascenseur%0A%2A+Sans+acc%C3%A8s+handicap%C3%A9%0A%2A+Code+1+%3A+13A59%0A%2A+Code+%3A+7425A%0A%0AAutres+informations+%3A%0A%2A+Avancez+au+fond+du+passage+apr%C3%A8s+la+grille%2C+%C3%A0+gauche.%0A%0AVia+Doctolib&location=86 \n",
      "Rue du Faubourg Saint-Denis, 75010 Paris ) ( )Annuler le RDVAdresseAdresse \n",
      " \n",
      "86 Rue du Faubourg Saint-Denis \n",
      "75010 Paris \n",
      "Téléphone : 01 44 91 94 26 \n",
      "Rez-de-chaussée \n",
      "Digicode 1 : 13A59 \n",
      "Digicode 2 : 7425A \n",
      "Autres informations : Avancez au fond du passage après la grille, \n",
      "à gauche.Lieu du RDV ( )Moyens de paiementMoyens de paiement \n",
      " \n",
      "EspècesChèquesCarte BancaireInformations \n",
      " \n",
      "Carte VitaleBesoin d'aide ? ( ) ( ) ( )\n",
      "\n",
      "\n",
      "\n",
      "#####################################################\n",
      "\n",
      "\n",
      "\n",
      " DoctolibVotre rendez-vousVotre rendez-vous \n",
      " \n",
      "lundi 02 janvier 2017 à 10h30Ajouter ce rendez-vous à votre \n",
      "agendaOutlook \n",
      "Outlook ( )iCal \n",
      "iCal ( )Google \n",
      "Google ( \n",
      "chez Dr Geoffroy HICKMAN \n",
      "&dates=20170102T093000Z/20170102T094500Z&details=Informations+pratiques+%3A%0A%2A+Au+Rez-de-chauss%C3%A9e%0A%2A+Sans+ascenseur%0A%2A+Sans+acc%C3%A8s+handicap%C3%A9%0A%2A+Code+1+%3A+13A59%0A%2A+Code+%3A+7425A%0A%0AAutres+informations+%3A%0A%2A+Avancez+au+fond+du+passage+apr%C3%A8s+la+grille%2C+%C3%A0+gauche.%0A%0AVia+Doctolib&location=86 \n",
      "Rue du Faubourg Saint-Denis, 75010 Paris ) ( )Annuler le RDVAdresseAdresse \n",
      " \n",
      "86 Rue du Faubourg Saint-Denis \n",
      "75010 Paris \n",
      "Téléphone : 01 44 91 94 26 \n",
      "Rez-de-chaussée \n",
      "Digicode 1 : 13A59 \n",
      "Digicode 2 : 7425A \n",
      "Autres informations : Avancez au fond du passage après la grille, \n",
      "à gauche.Lieu du RDV ( )Moyens de paiementMoyens de paiement \n",
      " \n",
      "EspècesChèquesCarte BancaireInformations \n",
      " \n",
      "Carte VitaleBesoin d'aide ? ( ) ( ) ( )\n",
      "\n",
      "\n",
      "\n",
      "#####################################################\n",
      "\n",
      "\n",
      "\n"
     ]
    }
   ],
   "source": [
    "import locale\n",
    "locale.setlocale(locale.LC_TIME, \"fr_FR\")\n",
    "\n",
    "mails_doc = df.loc[df.cat == 'doctolib']\n",
    "for el in mails_doc.body:\n",
    "    print(el)\n",
    "    print('\\n\\n')\n",
    "    print('#####################################################')\n",
    "    print('\\n\\n')\n",
    "mails_doc = mails_doc.loc[mails_doc.snippet.str.contains(\"confirmé\")]\n",
    "\n",
    "reg_weekdays = re.compile(r' Lundi|Mardi|Mercredi|Jeudi|Vendredi|Samedi|Dimanche')\n",
    "\n",
    "mails_doc['appointment'] = mails_doc.snippet.apply(lambda x: reg_weekdays.split(x.split('confirmé ')[1])[0] )\n",
    "\n",
    "def get_date(x):\n",
    "    tmp = x['snippet']\n",
    "    tmp = tmp.split(x['appointment'])[1]\n",
    "    tmp = tmp.split(' DÉPLACER')[0]\n",
    "    try:\n",
    "        date = datetime.strptime(tmp, '%A %d %B à %Hh%M')\n",
    "        date = date.replace(year = x['date'].year)\n",
    "    except:\n",
    "        date = None\n",
    "    return date\n",
    "    \n",
    "mails_doc['cons_date'] = mails_doc[['snippet', 'date', 'appointment']].apply(get_date, axis = 1) \n",
    "\n",
    "mails_doc = mails_doc.loc[mails_doc['cons_date'].isna() == False]"
   ]
  },
  {
   "cell_type": "code",
   "execution_count": 145,
   "metadata": {
    "scrolled": true
   },
   "outputs": [
    {
     "data": {
      "text/html": [
       "<div>\n",
       "<style scoped>\n",
       "    .dataframe tbody tr th:only-of-type {\n",
       "        vertical-align: middle;\n",
       "    }\n",
       "\n",
       "    .dataframe tbody tr th {\n",
       "        vertical-align: top;\n",
       "    }\n",
       "\n",
       "    .dataframe thead th {\n",
       "        text-align: right;\n",
       "    }\n",
       "</style>\n",
       "<table border=\"1\" class=\"dataframe\">\n",
       "  <thead>\n",
       "    <tr style=\"text-align: right;\">\n",
       "      <th></th>\n",
       "      <th>snippet</th>\n",
       "      <th>date</th>\n",
       "      <th>headers</th>\n",
       "      <th>body</th>\n",
       "      <th>cat</th>\n",
       "      <th>docteur</th>\n",
       "      <th>cons_date</th>\n",
       "    </tr>\n",
       "  </thead>\n",
       "  <tbody>\n",
       "    <tr>\n",
       "      <td>1228</td>\n",
       "      <td>Doctolib RDV confirmé Clinique Ostéopathique d...</td>\n",
       "      <td>2018-11-21 16:45:29</td>\n",
       "      <td>[{'name': 'From', 'value': 'Doctolib &lt;no-reply...</td>\n",
       "      <td></td>\n",
       "      <td>doctolib</td>\n",
       "      <td>Clinique Ostéopathique de Paris Ostéopathe</td>\n",
       "      <td>2018-11-24 11:00:00</td>\n",
       "    </tr>\n",
       "  </tbody>\n",
       "</table>\n",
       "</div>"
      ],
      "text/plain": [
       "                                                snippet                date  \\\n",
       "1228  Doctolib RDV confirmé Clinique Ostéopathique d... 2018-11-21 16:45:29   \n",
       "\n",
       "                                                headers body       cat  \\\n",
       "1228  [{'name': 'From', 'value': 'Doctolib <no-reply...       doctolib   \n",
       "\n",
       "                                          docteur           cons_date  \n",
       "1228  Clinique Ostéopathique de Paris Ostéopathe  2018-11-24 11:00:00  "
      ]
     },
     "execution_count": 145,
     "metadata": {},
     "output_type": "execute_result"
    }
   ],
   "source": [
    "mails_doc"
   ]
  },
  {
   "cell_type": "code",
   "execution_count": 152,
   "metadata": {},
   "outputs": [
    {
     "name": "stdout",
     "output_type": "stream",
     "text": [
      " \n",
      "\n",
      "\n",
      "\n",
      "#####################################################\n",
      "\n",
      "\n",
      "\n"
     ]
    }
   ],
   "source": [
    "for el in mails_doc.body:\n",
    "    print(el)\n",
    "    print('\\n\\n')\n",
    "    print('#####################################################')\n",
    "    print('\\n\\n')"
   ]
  },
  {
   "cell_type": "code",
   "execution_count": 121,
   "metadata": {
    "scrolled": true
   },
   "outputs": [
    {
     "data": {
      "text/plain": [
       "155   2020-01-09 18:45:00\n",
       "399   2019-10-16 09:15:00\n",
       "418   2019-10-09 11:15:00\n",
       "dtype: datetime64[ns]"
      ]
     },
     "execution_count": 121,
     "metadata": {},
     "output_type": "execute_result"
    }
   ],
   "source": [
    "def get_date(x):\n",
    "    tmp = x['snippet']\n",
    "    tmp = tmp.split(x['docteur'])[1]\n",
    "    tmp = tmp.split(' DÉPLACER')[0]\n",
    "    \n",
    "    date = datetime.strptime(tmp, '%A %d %B à %Hh%M')\n",
    "    date = date.replace(year = x['date'].year)\n",
    "    return date\n",
    "    \n",
    "mails_doc[['snippet', 'date', 'docteur']].apply(get_date, axis = 1) "
   ]
  }
 ],
 "metadata": {
  "kernelspec": {
   "display_name": "Python 3",
   "language": "python",
   "name": "python3"
  },
  "language_info": {
   "codemirror_mode": {
    "name": "ipython",
    "version": 3
   },
   "file_extension": ".py",
   "mimetype": "text/x-python",
   "name": "python",
   "nbconvert_exporter": "python",
   "pygments_lexer": "ipython3",
   "version": "3.7.4"
  }
 },
 "nbformat": 4,
 "nbformat_minor": 2
}
