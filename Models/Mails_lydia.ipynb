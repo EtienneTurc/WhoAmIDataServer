{
 "cells": [
  {
   "cell_type": "code",
   "execution_count": 55,
   "metadata": {},
   "outputs": [],
   "source": [
    "import pandas as pd\n",
    "import numpy as np\n",
    "\n",
    "import re\n",
    "\n",
    "from utils import tag_mail"
   ]
  },
  {
   "cell_type": "code",
   "execution_count": 56,
   "metadata": {},
   "outputs": [],
   "source": [
    "df = pd.read_json(r'data/gmail_boetto_basic.txt', encoding = 'utf-8')"
   ]
  },
  {
   "cell_type": "code",
   "execution_count": 57,
   "metadata": {
    "scrolled": true
   },
   "outputs": [
    {
     "data": {
      "text/html": [
       "<div>\n",
       "<style scoped>\n",
       "    .dataframe tbody tr th:only-of-type {\n",
       "        vertical-align: middle;\n",
       "    }\n",
       "\n",
       "    .dataframe tbody tr th {\n",
       "        vertical-align: top;\n",
       "    }\n",
       "\n",
       "    .dataframe thead th {\n",
       "        text-align: right;\n",
       "    }\n",
       "</style>\n",
       "<table border=\"1\" class=\"dataframe\">\n",
       "  <thead>\n",
       "    <tr style=\"text-align: right;\">\n",
       "      <th></th>\n",
       "      <th>snippet</th>\n",
       "      <th>date</th>\n",
       "      <th>headers</th>\n",
       "      <th>body</th>\n",
       "      <th>cat</th>\n",
       "    </tr>\n",
       "  </thead>\n",
       "  <tbody>\n",
       "    <tr>\n",
       "      <td>5</td>\n",
       "      <td>Vous avez réglé 61,45 € à Claire Ren à Claire ...</td>\n",
       "      <td>2020-02-24 10:31:17</td>\n",
       "      <td>[{'name': 'To', 'value': 'c.boettolegrain14@ea...</td>\n",
       "      <td>\\nVOUS AVEZ RÉGLÉ 61,45 €\\nÀ CLAIRE REN \\nà C...</td>\n",
       "      <td>lydia</td>\n",
       "    </tr>\n",
       "    <tr>\n",
       "      <td>43</td>\n",
       "      <td>44,23 € payé(s) à Niels Enslen 08/02/2020 à 22...</td>\n",
       "      <td>2020-02-08 21:04:43</td>\n",
       "      <td>[{'name': 'To', 'value': 'c.boettolegrain14@ea...</td>\n",
       "      <td>\\n44,23 € PAYÉ(S)\\nà Niels Enslen \\n\\n \\n\\n08...</td>\n",
       "      <td>lydia</td>\n",
       "    </tr>\n",
       "    <tr>\n",
       "      <td>53</td>\n",
       "      <td>10,00 € payé(s) à Tanin oenologie 06/02/2020 à...</td>\n",
       "      <td>2020-02-06 19:02:26</td>\n",
       "      <td>[{'name': 'To', 'value': 'c.boettolegrain14@ea...</td>\n",
       "      <td>\\n10,00 € PAYÉ(S)\\nà Tanin oenologie \\n\\n \\n\\...</td>\n",
       "      <td>lydia</td>\n",
       "    </tr>\n",
       "    <tr>\n",
       "      <td>74</td>\n",
       "      <td>Votre justificatif d&amp;#39;achat : Gala de prest...</td>\n",
       "      <td>2020-02-01 23:42:10</td>\n",
       "      <td>[{'name': 'To', 'value': 'c.boettolegrain14@ea...</td>\n",
       "      <td>VOTRE JUSTIFICATIF D'ACHAT : GALA DE PRESTIGE ...</td>\n",
       "      <td>lydia</td>\n",
       "    </tr>\n",
       "    <tr>\n",
       "      <td>82</td>\n",
       "      <td>Axel Rochel vous a réglé 8,26 € L&amp;#39;argent a...</td>\n",
       "      <td>2020-01-29 07:51:29</td>\n",
       "      <td>[{'name': 'To', 'value': 'c.boettolegrain14@ea...</td>\n",
       "      <td>AXEL ROCHEL VOUS A RÉGLÉ 8,26 €\\nL'argent a é...</td>\n",
       "      <td>lydia</td>\n",
       "    </tr>\n",
       "    <tr>\n",
       "      <td>...</td>\n",
       "      <td>...</td>\n",
       "      <td>...</td>\n",
       "      <td>...</td>\n",
       "      <td>...</td>\n",
       "      <td>...</td>\n",
       "    </tr>\n",
       "    <tr>\n",
       "      <td>1562</td>\n",
       "      <td>« Et si on allait encore plus loin que le paie...</td>\n",
       "      <td>2018-04-01 08:56:23</td>\n",
       "      <td>[{'name': 'To', 'value': 'c.boettolegrain14@ea...</td>\n",
       "      <td>logo-lydia.png \\n \\nMetabancaire « Et si on a...</td>\n",
       "      <td>lydia</td>\n",
       "    </tr>\n",
       "    <tr>\n",
       "      <td>1606</td>\n",
       "      <td>Lola Moisset vous a réglé 30,00 € Vous venez d...</td>\n",
       "      <td>2018-02-02 21:30:53</td>\n",
       "      <td>[{'name': 'To', 'value': 'c.boettolegrain14@ea...</td>\n",
       "      <td>LOLA MOISSET VOUS A RÉGLÉ 30,00 € \\nVous vene...</td>\n",
       "      <td>lydia</td>\n",
       "    </tr>\n",
       "    <tr>\n",
       "      <td>1608</td>\n",
       "      <td>#################### Bonjour, Votre compte Lyd...</td>\n",
       "      <td>2018-02-02 15:57:36</td>\n",
       "      <td>[{'name': 'From', 'value': 'Lydia app &lt;support...</td>\n",
       "      <td>#################### \\n \\n \\nBonjour, \\n \\nVo...</td>\n",
       "      <td>lydia</td>\n",
       "    </tr>\n",
       "    <tr>\n",
       "      <td>1611</td>\n",
       "      <td>Débloquez votre compte Lydia Christophe, par m...</td>\n",
       "      <td>2018-01-31 21:36:14</td>\n",
       "      <td>[{'name': 'To', 'value': 'c.boettolegrain14@ea...</td>\n",
       "      <td>DÉBLOQUEZ VOTRE COMPTE LYDIA\\nChristophe, par...</td>\n",
       "      <td>lydia</td>\n",
       "    </tr>\n",
       "    <tr>\n",
       "      <td>1822</td>\n",
       "      <td>Votre justificatif d&amp;#39;achat : Rallye des Vi...</td>\n",
       "      <td>2017-05-04 20:57:20</td>\n",
       "      <td>[{'name': 'To', 'value': 'c.boettolegrain14@ea...</td>\n",
       "      <td>VOTRE JUSTIFICATIF D'ACHAT : RALLYE DES VIN&amp;#0...</td>\n",
       "      <td>lydia</td>\n",
       "    </tr>\n",
       "  </tbody>\n",
       "</table>\n",
       "<p>108 rows × 5 columns</p>\n",
       "</div>"
      ],
      "text/plain": [
       "                                                snippet                date  \\\n",
       "5     Vous avez réglé 61,45 € à Claire Ren à Claire ... 2020-02-24 10:31:17   \n",
       "43    44,23 € payé(s) à Niels Enslen 08/02/2020 à 22... 2020-02-08 21:04:43   \n",
       "53    10,00 € payé(s) à Tanin oenologie 06/02/2020 à... 2020-02-06 19:02:26   \n",
       "74    Votre justificatif d&#39;achat : Gala de prest... 2020-02-01 23:42:10   \n",
       "82    Axel Rochel vous a réglé 8,26 € L&#39;argent a... 2020-01-29 07:51:29   \n",
       "...                                                 ...                 ...   \n",
       "1562  « Et si on allait encore plus loin que le paie... 2018-04-01 08:56:23   \n",
       "1606  Lola Moisset vous a réglé 30,00 € Vous venez d... 2018-02-02 21:30:53   \n",
       "1608  #################### Bonjour, Votre compte Lyd... 2018-02-02 15:57:36   \n",
       "1611  Débloquez votre compte Lydia Christophe, par m... 2018-01-31 21:36:14   \n",
       "1822  Votre justificatif d&#39;achat : Rallye des Vi... 2017-05-04 20:57:20   \n",
       "\n",
       "                                                headers  \\\n",
       "5     [{'name': 'To', 'value': 'c.boettolegrain14@ea...   \n",
       "43    [{'name': 'To', 'value': 'c.boettolegrain14@ea...   \n",
       "53    [{'name': 'To', 'value': 'c.boettolegrain14@ea...   \n",
       "74    [{'name': 'To', 'value': 'c.boettolegrain14@ea...   \n",
       "82    [{'name': 'To', 'value': 'c.boettolegrain14@ea...   \n",
       "...                                                 ...   \n",
       "1562  [{'name': 'To', 'value': 'c.boettolegrain14@ea...   \n",
       "1606  [{'name': 'To', 'value': 'c.boettolegrain14@ea...   \n",
       "1608  [{'name': 'From', 'value': 'Lydia app <support...   \n",
       "1611  [{'name': 'To', 'value': 'c.boettolegrain14@ea...   \n",
       "1822  [{'name': 'To', 'value': 'c.boettolegrain14@ea...   \n",
       "\n",
       "                                                   body    cat  \n",
       "5      \\nVOUS AVEZ RÉGLÉ 61,45 €\\nÀ CLAIRE REN \\nà C...  lydia  \n",
       "43     \\n44,23 € PAYÉ(S)\\nà Niels Enslen \\n\\n \\n\\n08...  lydia  \n",
       "53     \\n10,00 € PAYÉ(S)\\nà Tanin oenologie \\n\\n \\n\\...  lydia  \n",
       "74    VOTRE JUSTIFICATIF D'ACHAT : GALA DE PRESTIGE ...  lydia  \n",
       "82     AXEL ROCHEL VOUS A RÉGLÉ 8,26 €\\nL'argent a é...  lydia  \n",
       "...                                                 ...    ...  \n",
       "1562   logo-lydia.png \\n \\nMetabancaire « Et si on a...  lydia  \n",
       "1606   LOLA MOISSET VOUS A RÉGLÉ 30,00 € \\nVous vene...  lydia  \n",
       "1608   #################### \\n \\n \\nBonjour, \\n \\nVo...  lydia  \n",
       "1611   DÉBLOQUEZ VOTRE COMPTE LYDIA\\nChristophe, par...  lydia  \n",
       "1822  VOTRE JUSTIFICATIF D'ACHAT : RALLYE DES VIN&#0...  lydia  \n",
       "\n",
       "[108 rows x 5 columns]"
      ]
     },
     "execution_count": 57,
     "metadata": {},
     "output_type": "execute_result"
    }
   ],
   "source": [
    "df['cat'] = df.headers.apply(tag_mail)\n",
    "\n",
    "df.loc[df.cat == 'lydia']"
   ]
  },
  {
   "cell_type": "code",
   "execution_count": 43,
   "metadata": {},
   "outputs": [
    {
     "data": {
      "application/vnd.plotly.v1+json": {
       "config": {
        "plotlyServerURL": "https://plot.ly"
       },
       "data": [
        {
         "hoverlabel": {
          "namelength": 0
         },
         "hovertemplate": "date=%{x}<br>cumsum=%{y}",
         "legendgroup": "",
         "line": {
          "color": "#636efa",
          "dash": "solid"
         },
         "mode": "lines",
         "name": "",
         "showlegend": false,
         "type": "scatter",
         "x": [
          "2020-02-08T21:04:43",
          "2020-02-06T19:02:26",
          "2020-01-29T07:51:29",
          "2020-01-28T20:14:52",
          "2020-01-28T20:14:26",
          "2020-01-28T20:12:37",
          "2020-01-24T23:47:12",
          "2020-01-09T10:25:17",
          "2020-01-07T20:19:26",
          "2020-01-06T08:54:43",
          "2020-01-03T17:19:05",
          "2019-12-31T22:28:30",
          "2019-12-31T20:32:02",
          "2019-12-31T20:26:09",
          "2019-12-19T21:54:50",
          "2019-12-03T21:56:11",
          "2019-12-03T20:51:19",
          "2019-12-03T20:49:09",
          "2019-11-28T23:13:21",
          "2019-11-28T22:18:50",
          "2019-11-28T21:43:28",
          "2019-11-28T21:41:56",
          "2019-11-28T21:41:35",
          "2019-11-28T21:40:34",
          "2019-11-28T21:40:35",
          "2019-11-28T21:40:21",
          "2019-11-28T21:39:36",
          "2019-11-25T22:19:09",
          "2019-11-25T20:08:57",
          "2019-11-25T20:03:52",
          "2019-11-25T20:03:39",
          "2019-11-25T20:01:49",
          "2019-11-25T19:58:05",
          "2019-11-25T19:56:33",
          "2019-11-25T19:17:14",
          "2019-11-22T18:16:53",
          "2019-11-12T21:19:56",
          "2019-11-12T21:18:05",
          "2019-11-12T19:49:54",
          "2019-11-12T19:45:37",
          "2019-11-12T19:44:35",
          "2019-11-12T19:44:18",
          "2019-11-12T19:43:46",
          "2019-11-06T21:37:12",
          "2019-10-27T18:31:25",
          "2019-10-25T15:19:26",
          "2019-10-23T20:54:01",
          "2019-10-23T17:24:37",
          "2019-10-18T12:20:10",
          "2019-10-18T12:17:46",
          "2019-10-18T12:17:22",
          "2019-10-18T07:30:28",
          "2019-10-13T19:22:24",
          "2019-10-12T21:05:27",
          "2019-10-09T21:42:54",
          "2019-09-30T22:37:16",
          "2019-09-29T16:57:20",
          "2019-09-29T15:31:40",
          "2019-09-27T21:25:31",
          "2019-09-25T09:34:44",
          "2019-09-25T09:34:21",
          "2019-09-18T21:35:23",
          "2019-09-18T21:34:19",
          "2019-09-18T21:33:54",
          "2019-09-18T20:38:27",
          "2019-09-18T20:12:16",
          "2019-09-18T11:52:38",
          "2019-09-17T19:29:17",
          "2019-09-16T10:41:54",
          "2019-09-09T21:41:16",
          "2019-09-09T19:44:35",
          "2019-09-06T21:40:55",
          "2019-08-25T17:37:37",
          "2019-08-25T17:37:36",
          "2019-08-25T15:54:48",
          "2019-02-07T09:57:07",
          "2019-02-07T09:53:27",
          "2018-12-20T21:59:49",
          "2018-12-20T16:10:53",
          "2018-12-20T16:04:21",
          "2018-12-20T15:07:21",
          "2018-12-20T12:34:05",
          "2018-12-20T11:52:36",
          "2018-11-15T23:13:13",
          "2018-11-15T23:13:12",
          "2018-05-18T22:00:40",
          "2018-04-10T20:15:09",
          "2018-04-10T11:02:10",
          "2018-04-05T19:32:23",
          "2018-02-02T21:30:53"
         ],
         "xaxis": "x",
         "y": [
          -44.23,
          -54.23,
          -45.97,
          -37.47,
          -29.21,
          -20.91,
          -39.91,
          -139.91,
          -146.81,
          -105.81,
          -112.81,
          -219.63,
          -112.81,
          -5.990000000000009,
          21.00999999999999,
          29.80999999999999,
          40.80999999999999,
          50.80999999999999,
          57.65999999999999,
          64.66,
          71.50999999999999,
          80.85999999999999,
          87.70999999999998,
          94.55999999999997,
          101.40999999999997,
          108.30999999999997,
          115.15999999999997,
          105.15999999999997,
          114.65999999999997,
          126.05999999999997,
          136.65999999999997,
          145.65999999999997,
          157.05999999999997,
          165.85999999999999,
          155.85999999999999,
          140.85999999999999,
          92.85999999999999,
          100.85999999999999,
          108.85999999999999,
          118.35999999999999,
          127.85999999999999,
          137.35999999999999,
          146.85999999999999,
          139.35999999999999,
          159.26,
          155.45999999999998,
          144.26,
          125.25999999999999,
          133.76,
          125.25999999999999,
          116.75999999999999,
          106.75999999999999,
          81.75999999999999,
          66.75999999999999,
          75.00999999999999,
          63.60999999999999,
          59.00999999999999,
          77.80999999999999,
          68.80999999999999,
          77.10999999999999,
          85.40999999999998,
          87.90999999999998,
          85.40999999999998,
          82.90999999999998,
          80.90999999999998,
          78.40999999999998,
          87.90999999999998,
          96.40999999999998,
          91.40999999999998,
          106.40999999999998,
          91.50999999999998,
          100.00999999999998,
          94.12999999999998,
          88.24999999999999,
          68.87999999999998,
          74.87999999999998,
          80.87999999999998,
          85.87999999999998,
          92.87999999999998,
          100.87999999999998,
          105.87999999999998,
          115.87999999999998,
          120.87999999999998,
          115.87999999999998,
          110.87999999999998,
          -37.82000000000001,
          -52.82000000000001,
          -112.03,
          -122.03,
          -92.03
         ],
         "yaxis": "y"
        }
       ],
       "layout": {
        "legend": {
         "tracegroupgap": 0
        },
        "margin": {
         "t": 60
        },
        "template": {
         "data": {
          "bar": [
           {
            "error_x": {
             "color": "#2a3f5f"
            },
            "error_y": {
             "color": "#2a3f5f"
            },
            "marker": {
             "line": {
              "color": "#E5ECF6",
              "width": 0.5
             }
            },
            "type": "bar"
           }
          ],
          "barpolar": [
           {
            "marker": {
             "line": {
              "color": "#E5ECF6",
              "width": 0.5
             }
            },
            "type": "barpolar"
           }
          ],
          "carpet": [
           {
            "aaxis": {
             "endlinecolor": "#2a3f5f",
             "gridcolor": "white",
             "linecolor": "white",
             "minorgridcolor": "white",
             "startlinecolor": "#2a3f5f"
            },
            "baxis": {
             "endlinecolor": "#2a3f5f",
             "gridcolor": "white",
             "linecolor": "white",
             "minorgridcolor": "white",
             "startlinecolor": "#2a3f5f"
            },
            "type": "carpet"
           }
          ],
          "choropleth": [
           {
            "colorbar": {
             "outlinewidth": 0,
             "ticks": ""
            },
            "type": "choropleth"
           }
          ],
          "contour": [
           {
            "colorbar": {
             "outlinewidth": 0,
             "ticks": ""
            },
            "colorscale": [
             [
              0,
              "#0d0887"
             ],
             [
              0.1111111111111111,
              "#46039f"
             ],
             [
              0.2222222222222222,
              "#7201a8"
             ],
             [
              0.3333333333333333,
              "#9c179e"
             ],
             [
              0.4444444444444444,
              "#bd3786"
             ],
             [
              0.5555555555555556,
              "#d8576b"
             ],
             [
              0.6666666666666666,
              "#ed7953"
             ],
             [
              0.7777777777777778,
              "#fb9f3a"
             ],
             [
              0.8888888888888888,
              "#fdca26"
             ],
             [
              1,
              "#f0f921"
             ]
            ],
            "type": "contour"
           }
          ],
          "contourcarpet": [
           {
            "colorbar": {
             "outlinewidth": 0,
             "ticks": ""
            },
            "type": "contourcarpet"
           }
          ],
          "heatmap": [
           {
            "colorbar": {
             "outlinewidth": 0,
             "ticks": ""
            },
            "colorscale": [
             [
              0,
              "#0d0887"
             ],
             [
              0.1111111111111111,
              "#46039f"
             ],
             [
              0.2222222222222222,
              "#7201a8"
             ],
             [
              0.3333333333333333,
              "#9c179e"
             ],
             [
              0.4444444444444444,
              "#bd3786"
             ],
             [
              0.5555555555555556,
              "#d8576b"
             ],
             [
              0.6666666666666666,
              "#ed7953"
             ],
             [
              0.7777777777777778,
              "#fb9f3a"
             ],
             [
              0.8888888888888888,
              "#fdca26"
             ],
             [
              1,
              "#f0f921"
             ]
            ],
            "type": "heatmap"
           }
          ],
          "heatmapgl": [
           {
            "colorbar": {
             "outlinewidth": 0,
             "ticks": ""
            },
            "colorscale": [
             [
              0,
              "#0d0887"
             ],
             [
              0.1111111111111111,
              "#46039f"
             ],
             [
              0.2222222222222222,
              "#7201a8"
             ],
             [
              0.3333333333333333,
              "#9c179e"
             ],
             [
              0.4444444444444444,
              "#bd3786"
             ],
             [
              0.5555555555555556,
              "#d8576b"
             ],
             [
              0.6666666666666666,
              "#ed7953"
             ],
             [
              0.7777777777777778,
              "#fb9f3a"
             ],
             [
              0.8888888888888888,
              "#fdca26"
             ],
             [
              1,
              "#f0f921"
             ]
            ],
            "type": "heatmapgl"
           }
          ],
          "histogram": [
           {
            "marker": {
             "colorbar": {
              "outlinewidth": 0,
              "ticks": ""
             }
            },
            "type": "histogram"
           }
          ],
          "histogram2d": [
           {
            "colorbar": {
             "outlinewidth": 0,
             "ticks": ""
            },
            "colorscale": [
             [
              0,
              "#0d0887"
             ],
             [
              0.1111111111111111,
              "#46039f"
             ],
             [
              0.2222222222222222,
              "#7201a8"
             ],
             [
              0.3333333333333333,
              "#9c179e"
             ],
             [
              0.4444444444444444,
              "#bd3786"
             ],
             [
              0.5555555555555556,
              "#d8576b"
             ],
             [
              0.6666666666666666,
              "#ed7953"
             ],
             [
              0.7777777777777778,
              "#fb9f3a"
             ],
             [
              0.8888888888888888,
              "#fdca26"
             ],
             [
              1,
              "#f0f921"
             ]
            ],
            "type": "histogram2d"
           }
          ],
          "histogram2dcontour": [
           {
            "colorbar": {
             "outlinewidth": 0,
             "ticks": ""
            },
            "colorscale": [
             [
              0,
              "#0d0887"
             ],
             [
              0.1111111111111111,
              "#46039f"
             ],
             [
              0.2222222222222222,
              "#7201a8"
             ],
             [
              0.3333333333333333,
              "#9c179e"
             ],
             [
              0.4444444444444444,
              "#bd3786"
             ],
             [
              0.5555555555555556,
              "#d8576b"
             ],
             [
              0.6666666666666666,
              "#ed7953"
             ],
             [
              0.7777777777777778,
              "#fb9f3a"
             ],
             [
              0.8888888888888888,
              "#fdca26"
             ],
             [
              1,
              "#f0f921"
             ]
            ],
            "type": "histogram2dcontour"
           }
          ],
          "mesh3d": [
           {
            "colorbar": {
             "outlinewidth": 0,
             "ticks": ""
            },
            "type": "mesh3d"
           }
          ],
          "parcoords": [
           {
            "line": {
             "colorbar": {
              "outlinewidth": 0,
              "ticks": ""
             }
            },
            "type": "parcoords"
           }
          ],
          "pie": [
           {
            "automargin": true,
            "type": "pie"
           }
          ],
          "scatter": [
           {
            "marker": {
             "colorbar": {
              "outlinewidth": 0,
              "ticks": ""
             }
            },
            "type": "scatter"
           }
          ],
          "scatter3d": [
           {
            "line": {
             "colorbar": {
              "outlinewidth": 0,
              "ticks": ""
             }
            },
            "marker": {
             "colorbar": {
              "outlinewidth": 0,
              "ticks": ""
             }
            },
            "type": "scatter3d"
           }
          ],
          "scattercarpet": [
           {
            "marker": {
             "colorbar": {
              "outlinewidth": 0,
              "ticks": ""
             }
            },
            "type": "scattercarpet"
           }
          ],
          "scattergeo": [
           {
            "marker": {
             "colorbar": {
              "outlinewidth": 0,
              "ticks": ""
             }
            },
            "type": "scattergeo"
           }
          ],
          "scattergl": [
           {
            "marker": {
             "colorbar": {
              "outlinewidth": 0,
              "ticks": ""
             }
            },
            "type": "scattergl"
           }
          ],
          "scattermapbox": [
           {
            "marker": {
             "colorbar": {
              "outlinewidth": 0,
              "ticks": ""
             }
            },
            "type": "scattermapbox"
           }
          ],
          "scatterpolar": [
           {
            "marker": {
             "colorbar": {
              "outlinewidth": 0,
              "ticks": ""
             }
            },
            "type": "scatterpolar"
           }
          ],
          "scatterpolargl": [
           {
            "marker": {
             "colorbar": {
              "outlinewidth": 0,
              "ticks": ""
             }
            },
            "type": "scatterpolargl"
           }
          ],
          "scatterternary": [
           {
            "marker": {
             "colorbar": {
              "outlinewidth": 0,
              "ticks": ""
             }
            },
            "type": "scatterternary"
           }
          ],
          "surface": [
           {
            "colorbar": {
             "outlinewidth": 0,
             "ticks": ""
            },
            "colorscale": [
             [
              0,
              "#0d0887"
             ],
             [
              0.1111111111111111,
              "#46039f"
             ],
             [
              0.2222222222222222,
              "#7201a8"
             ],
             [
              0.3333333333333333,
              "#9c179e"
             ],
             [
              0.4444444444444444,
              "#bd3786"
             ],
             [
              0.5555555555555556,
              "#d8576b"
             ],
             [
              0.6666666666666666,
              "#ed7953"
             ],
             [
              0.7777777777777778,
              "#fb9f3a"
             ],
             [
              0.8888888888888888,
              "#fdca26"
             ],
             [
              1,
              "#f0f921"
             ]
            ],
            "type": "surface"
           }
          ],
          "table": [
           {
            "cells": {
             "fill": {
              "color": "#EBF0F8"
             },
             "line": {
              "color": "white"
             }
            },
            "header": {
             "fill": {
              "color": "#C8D4E3"
             },
             "line": {
              "color": "white"
             }
            },
            "type": "table"
           }
          ]
         },
         "layout": {
          "annotationdefaults": {
           "arrowcolor": "#2a3f5f",
           "arrowhead": 0,
           "arrowwidth": 1
          },
          "coloraxis": {
           "colorbar": {
            "outlinewidth": 0,
            "ticks": ""
           }
          },
          "colorscale": {
           "diverging": [
            [
             0,
             "#8e0152"
            ],
            [
             0.1,
             "#c51b7d"
            ],
            [
             0.2,
             "#de77ae"
            ],
            [
             0.3,
             "#f1b6da"
            ],
            [
             0.4,
             "#fde0ef"
            ],
            [
             0.5,
             "#f7f7f7"
            ],
            [
             0.6,
             "#e6f5d0"
            ],
            [
             0.7,
             "#b8e186"
            ],
            [
             0.8,
             "#7fbc41"
            ],
            [
             0.9,
             "#4d9221"
            ],
            [
             1,
             "#276419"
            ]
           ],
           "sequential": [
            [
             0,
             "#0d0887"
            ],
            [
             0.1111111111111111,
             "#46039f"
            ],
            [
             0.2222222222222222,
             "#7201a8"
            ],
            [
             0.3333333333333333,
             "#9c179e"
            ],
            [
             0.4444444444444444,
             "#bd3786"
            ],
            [
             0.5555555555555556,
             "#d8576b"
            ],
            [
             0.6666666666666666,
             "#ed7953"
            ],
            [
             0.7777777777777778,
             "#fb9f3a"
            ],
            [
             0.8888888888888888,
             "#fdca26"
            ],
            [
             1,
             "#f0f921"
            ]
           ],
           "sequentialminus": [
            [
             0,
             "#0d0887"
            ],
            [
             0.1111111111111111,
             "#46039f"
            ],
            [
             0.2222222222222222,
             "#7201a8"
            ],
            [
             0.3333333333333333,
             "#9c179e"
            ],
            [
             0.4444444444444444,
             "#bd3786"
            ],
            [
             0.5555555555555556,
             "#d8576b"
            ],
            [
             0.6666666666666666,
             "#ed7953"
            ],
            [
             0.7777777777777778,
             "#fb9f3a"
            ],
            [
             0.8888888888888888,
             "#fdca26"
            ],
            [
             1,
             "#f0f921"
            ]
           ]
          },
          "colorway": [
           "#636efa",
           "#EF553B",
           "#00cc96",
           "#ab63fa",
           "#FFA15A",
           "#19d3f3",
           "#FF6692",
           "#B6E880",
           "#FF97FF",
           "#FECB52"
          ],
          "font": {
           "color": "#2a3f5f"
          },
          "geo": {
           "bgcolor": "white",
           "lakecolor": "white",
           "landcolor": "#E5ECF6",
           "showlakes": true,
           "showland": true,
           "subunitcolor": "white"
          },
          "hoverlabel": {
           "align": "left"
          },
          "hovermode": "closest",
          "mapbox": {
           "style": "light"
          },
          "paper_bgcolor": "white",
          "plot_bgcolor": "#E5ECF6",
          "polar": {
           "angularaxis": {
            "gridcolor": "white",
            "linecolor": "white",
            "ticks": ""
           },
           "bgcolor": "#E5ECF6",
           "radialaxis": {
            "gridcolor": "white",
            "linecolor": "white",
            "ticks": ""
           }
          },
          "scene": {
           "xaxis": {
            "backgroundcolor": "#E5ECF6",
            "gridcolor": "white",
            "gridwidth": 2,
            "linecolor": "white",
            "showbackground": true,
            "ticks": "",
            "zerolinecolor": "white"
           },
           "yaxis": {
            "backgroundcolor": "#E5ECF6",
            "gridcolor": "white",
            "gridwidth": 2,
            "linecolor": "white",
            "showbackground": true,
            "ticks": "",
            "zerolinecolor": "white"
           },
           "zaxis": {
            "backgroundcolor": "#E5ECF6",
            "gridcolor": "white",
            "gridwidth": 2,
            "linecolor": "white",
            "showbackground": true,
            "ticks": "",
            "zerolinecolor": "white"
           }
          },
          "shapedefaults": {
           "line": {
            "color": "#2a3f5f"
           }
          },
          "ternary": {
           "aaxis": {
            "gridcolor": "white",
            "linecolor": "white",
            "ticks": ""
           },
           "baxis": {
            "gridcolor": "white",
            "linecolor": "white",
            "ticks": ""
           },
           "bgcolor": "#E5ECF6",
           "caxis": {
            "gridcolor": "white",
            "linecolor": "white",
            "ticks": ""
           }
          },
          "title": {
           "x": 0.05
          },
          "xaxis": {
           "automargin": true,
           "gridcolor": "white",
           "linecolor": "white",
           "ticks": "",
           "title": {
            "standoff": 15
           },
           "zerolinecolor": "white",
           "zerolinewidth": 2
          },
          "yaxis": {
           "automargin": true,
           "gridcolor": "white",
           "linecolor": "white",
           "ticks": "",
           "title": {
            "standoff": 15
           },
           "zerolinecolor": "white",
           "zerolinewidth": 2
          }
         }
        },
        "xaxis": {
         "anchor": "y",
         "domain": [
          0,
          1
         ],
         "title": {
          "text": "date"
         }
        },
        "yaxis": {
         "anchor": "x",
         "domain": [
          0,
          1
         ],
         "title": {
          "text": "cumsum"
         }
        }
       }
      },
      "text/html": [
       "<div>\n",
       "        \n",
       "        \n",
       "            <div id=\"496494be-a47a-4231-8556-9430eda0a1eb\" class=\"plotly-graph-div\" style=\"height:525px; width:100%;\"></div>\n",
       "            <script type=\"text/javascript\">\n",
       "                require([\"plotly\"], function(Plotly) {\n",
       "                    window.PLOTLYENV=window.PLOTLYENV || {};\n",
       "                    \n",
       "                if (document.getElementById(\"496494be-a47a-4231-8556-9430eda0a1eb\")) {\n",
       "                    Plotly.newPlot(\n",
       "                        '496494be-a47a-4231-8556-9430eda0a1eb',\n",
       "                        [{\"hoverlabel\": {\"namelength\": 0}, \"hovertemplate\": \"date=%{x}<br>cumsum=%{y}\", \"legendgroup\": \"\", \"line\": {\"color\": \"#636efa\", \"dash\": \"solid\"}, \"mode\": \"lines\", \"name\": \"\", \"showlegend\": false, \"type\": \"scatter\", \"x\": [\"2020-02-08T21:04:43\", \"2020-02-06T19:02:26\", \"2020-01-29T07:51:29\", \"2020-01-28T20:14:52\", \"2020-01-28T20:14:26\", \"2020-01-28T20:12:37\", \"2020-01-24T23:47:12\", \"2020-01-09T10:25:17\", \"2020-01-07T20:19:26\", \"2020-01-06T08:54:43\", \"2020-01-03T17:19:05\", \"2019-12-31T22:28:30\", \"2019-12-31T20:32:02\", \"2019-12-31T20:26:09\", \"2019-12-19T21:54:50\", \"2019-12-03T21:56:11\", \"2019-12-03T20:51:19\", \"2019-12-03T20:49:09\", \"2019-11-28T23:13:21\", \"2019-11-28T22:18:50\", \"2019-11-28T21:43:28\", \"2019-11-28T21:41:56\", \"2019-11-28T21:41:35\", \"2019-11-28T21:40:34\", \"2019-11-28T21:40:35\", \"2019-11-28T21:40:21\", \"2019-11-28T21:39:36\", \"2019-11-25T22:19:09\", \"2019-11-25T20:08:57\", \"2019-11-25T20:03:52\", \"2019-11-25T20:03:39\", \"2019-11-25T20:01:49\", \"2019-11-25T19:58:05\", \"2019-11-25T19:56:33\", \"2019-11-25T19:17:14\", \"2019-11-22T18:16:53\", \"2019-11-12T21:19:56\", \"2019-11-12T21:18:05\", \"2019-11-12T19:49:54\", \"2019-11-12T19:45:37\", \"2019-11-12T19:44:35\", \"2019-11-12T19:44:18\", \"2019-11-12T19:43:46\", \"2019-11-06T21:37:12\", \"2019-10-27T18:31:25\", \"2019-10-25T15:19:26\", \"2019-10-23T20:54:01\", \"2019-10-23T17:24:37\", \"2019-10-18T12:20:10\", \"2019-10-18T12:17:46\", \"2019-10-18T12:17:22\", \"2019-10-18T07:30:28\", \"2019-10-13T19:22:24\", \"2019-10-12T21:05:27\", \"2019-10-09T21:42:54\", \"2019-09-30T22:37:16\", \"2019-09-29T16:57:20\", \"2019-09-29T15:31:40\", \"2019-09-27T21:25:31\", \"2019-09-25T09:34:44\", \"2019-09-25T09:34:21\", \"2019-09-18T21:35:23\", \"2019-09-18T21:34:19\", \"2019-09-18T21:33:54\", \"2019-09-18T20:38:27\", \"2019-09-18T20:12:16\", \"2019-09-18T11:52:38\", \"2019-09-17T19:29:17\", \"2019-09-16T10:41:54\", \"2019-09-09T21:41:16\", \"2019-09-09T19:44:35\", \"2019-09-06T21:40:55\", \"2019-08-25T17:37:37\", \"2019-08-25T17:37:36\", \"2019-08-25T15:54:48\", \"2019-02-07T09:57:07\", \"2019-02-07T09:53:27\", \"2018-12-20T21:59:49\", \"2018-12-20T16:10:53\", \"2018-12-20T16:04:21\", \"2018-12-20T15:07:21\", \"2018-12-20T12:34:05\", \"2018-12-20T11:52:36\", \"2018-11-15T23:13:13\", \"2018-11-15T23:13:12\", \"2018-05-18T22:00:40\", \"2018-04-10T20:15:09\", \"2018-04-10T11:02:10\", \"2018-04-05T19:32:23\", \"2018-02-02T21:30:53\"], \"xaxis\": \"x\", \"y\": [-44.23, -54.23, -45.97, -37.47, -29.21, -20.91, -39.91, -139.91, -146.81, -105.81, -112.81, -219.63, -112.81, -5.990000000000009, 21.00999999999999, 29.80999999999999, 40.80999999999999, 50.80999999999999, 57.65999999999999, 64.66, 71.50999999999999, 80.85999999999999, 87.70999999999998, 94.55999999999997, 101.40999999999997, 108.30999999999997, 115.15999999999997, 105.15999999999997, 114.65999999999997, 126.05999999999997, 136.65999999999997, 145.65999999999997, 157.05999999999997, 165.85999999999999, 155.85999999999999, 140.85999999999999, 92.85999999999999, 100.85999999999999, 108.85999999999999, 118.35999999999999, 127.85999999999999, 137.35999999999999, 146.85999999999999, 139.35999999999999, 159.26, 155.45999999999998, 144.26, 125.25999999999999, 133.76, 125.25999999999999, 116.75999999999999, 106.75999999999999, 81.75999999999999, 66.75999999999999, 75.00999999999999, 63.60999999999999, 59.00999999999999, 77.80999999999999, 68.80999999999999, 77.10999999999999, 85.40999999999998, 87.90999999999998, 85.40999999999998, 82.90999999999998, 80.90999999999998, 78.40999999999998, 87.90999999999998, 96.40999999999998, 91.40999999999998, 106.40999999999998, 91.50999999999998, 100.00999999999998, 94.12999999999998, 88.24999999999999, 68.87999999999998, 74.87999999999998, 80.87999999999998, 85.87999999999998, 92.87999999999998, 100.87999999999998, 105.87999999999998, 115.87999999999998, 120.87999999999998, 115.87999999999998, 110.87999999999998, -37.82000000000001, -52.82000000000001, -112.03, -122.03, -92.03], \"yaxis\": \"y\"}],\n",
       "                        {\"legend\": {\"tracegroupgap\": 0}, \"margin\": {\"t\": 60}, \"template\": {\"data\": {\"bar\": [{\"error_x\": {\"color\": \"#2a3f5f\"}, \"error_y\": {\"color\": \"#2a3f5f\"}, \"marker\": {\"line\": {\"color\": \"#E5ECF6\", \"width\": 0.5}}, \"type\": \"bar\"}], \"barpolar\": [{\"marker\": {\"line\": {\"color\": \"#E5ECF6\", \"width\": 0.5}}, \"type\": \"barpolar\"}], \"carpet\": [{\"aaxis\": {\"endlinecolor\": \"#2a3f5f\", \"gridcolor\": \"white\", \"linecolor\": \"white\", \"minorgridcolor\": \"white\", \"startlinecolor\": \"#2a3f5f\"}, \"baxis\": {\"endlinecolor\": \"#2a3f5f\", \"gridcolor\": \"white\", \"linecolor\": \"white\", \"minorgridcolor\": \"white\", \"startlinecolor\": \"#2a3f5f\"}, \"type\": \"carpet\"}], \"choropleth\": [{\"colorbar\": {\"outlinewidth\": 0, \"ticks\": \"\"}, \"type\": \"choropleth\"}], \"contour\": [{\"colorbar\": {\"outlinewidth\": 0, \"ticks\": \"\"}, \"colorscale\": [[0.0, \"#0d0887\"], [0.1111111111111111, \"#46039f\"], [0.2222222222222222, \"#7201a8\"], [0.3333333333333333, \"#9c179e\"], [0.4444444444444444, \"#bd3786\"], [0.5555555555555556, \"#d8576b\"], [0.6666666666666666, \"#ed7953\"], [0.7777777777777778, \"#fb9f3a\"], [0.8888888888888888, \"#fdca26\"], [1.0, \"#f0f921\"]], \"type\": \"contour\"}], \"contourcarpet\": [{\"colorbar\": {\"outlinewidth\": 0, \"ticks\": \"\"}, \"type\": \"contourcarpet\"}], \"heatmap\": [{\"colorbar\": {\"outlinewidth\": 0, \"ticks\": \"\"}, \"colorscale\": [[0.0, \"#0d0887\"], [0.1111111111111111, \"#46039f\"], [0.2222222222222222, \"#7201a8\"], [0.3333333333333333, \"#9c179e\"], [0.4444444444444444, \"#bd3786\"], [0.5555555555555556, \"#d8576b\"], [0.6666666666666666, \"#ed7953\"], [0.7777777777777778, \"#fb9f3a\"], [0.8888888888888888, \"#fdca26\"], [1.0, \"#f0f921\"]], \"type\": \"heatmap\"}], \"heatmapgl\": [{\"colorbar\": {\"outlinewidth\": 0, \"ticks\": \"\"}, \"colorscale\": [[0.0, \"#0d0887\"], [0.1111111111111111, \"#46039f\"], [0.2222222222222222, \"#7201a8\"], [0.3333333333333333, \"#9c179e\"], [0.4444444444444444, \"#bd3786\"], [0.5555555555555556, \"#d8576b\"], [0.6666666666666666, \"#ed7953\"], [0.7777777777777778, \"#fb9f3a\"], [0.8888888888888888, \"#fdca26\"], [1.0, \"#f0f921\"]], \"type\": \"heatmapgl\"}], \"histogram\": [{\"marker\": {\"colorbar\": {\"outlinewidth\": 0, \"ticks\": \"\"}}, \"type\": \"histogram\"}], \"histogram2d\": [{\"colorbar\": {\"outlinewidth\": 0, \"ticks\": \"\"}, \"colorscale\": [[0.0, \"#0d0887\"], [0.1111111111111111, \"#46039f\"], [0.2222222222222222, \"#7201a8\"], [0.3333333333333333, \"#9c179e\"], [0.4444444444444444, \"#bd3786\"], [0.5555555555555556, \"#d8576b\"], [0.6666666666666666, \"#ed7953\"], [0.7777777777777778, \"#fb9f3a\"], [0.8888888888888888, \"#fdca26\"], [1.0, \"#f0f921\"]], \"type\": \"histogram2d\"}], \"histogram2dcontour\": [{\"colorbar\": {\"outlinewidth\": 0, \"ticks\": \"\"}, \"colorscale\": [[0.0, \"#0d0887\"], [0.1111111111111111, \"#46039f\"], [0.2222222222222222, \"#7201a8\"], [0.3333333333333333, \"#9c179e\"], [0.4444444444444444, \"#bd3786\"], [0.5555555555555556, \"#d8576b\"], [0.6666666666666666, \"#ed7953\"], [0.7777777777777778, \"#fb9f3a\"], [0.8888888888888888, \"#fdca26\"], [1.0, \"#f0f921\"]], \"type\": \"histogram2dcontour\"}], \"mesh3d\": [{\"colorbar\": {\"outlinewidth\": 0, \"ticks\": \"\"}, \"type\": \"mesh3d\"}], \"parcoords\": [{\"line\": {\"colorbar\": {\"outlinewidth\": 0, \"ticks\": \"\"}}, \"type\": \"parcoords\"}], \"pie\": [{\"automargin\": true, \"type\": \"pie\"}], \"scatter\": [{\"marker\": {\"colorbar\": {\"outlinewidth\": 0, \"ticks\": \"\"}}, \"type\": \"scatter\"}], \"scatter3d\": [{\"line\": {\"colorbar\": {\"outlinewidth\": 0, \"ticks\": \"\"}}, \"marker\": {\"colorbar\": {\"outlinewidth\": 0, \"ticks\": \"\"}}, \"type\": \"scatter3d\"}], \"scattercarpet\": [{\"marker\": {\"colorbar\": {\"outlinewidth\": 0, \"ticks\": \"\"}}, \"type\": \"scattercarpet\"}], \"scattergeo\": [{\"marker\": {\"colorbar\": {\"outlinewidth\": 0, \"ticks\": \"\"}}, \"type\": \"scattergeo\"}], \"scattergl\": [{\"marker\": {\"colorbar\": {\"outlinewidth\": 0, \"ticks\": \"\"}}, \"type\": \"scattergl\"}], \"scattermapbox\": [{\"marker\": {\"colorbar\": {\"outlinewidth\": 0, \"ticks\": \"\"}}, \"type\": \"scattermapbox\"}], \"scatterpolar\": [{\"marker\": {\"colorbar\": {\"outlinewidth\": 0, \"ticks\": \"\"}}, \"type\": \"scatterpolar\"}], \"scatterpolargl\": [{\"marker\": {\"colorbar\": {\"outlinewidth\": 0, \"ticks\": \"\"}}, \"type\": \"scatterpolargl\"}], \"scatterternary\": [{\"marker\": {\"colorbar\": {\"outlinewidth\": 0, \"ticks\": \"\"}}, \"type\": \"scatterternary\"}], \"surface\": [{\"colorbar\": {\"outlinewidth\": 0, \"ticks\": \"\"}, \"colorscale\": [[0.0, \"#0d0887\"], [0.1111111111111111, \"#46039f\"], [0.2222222222222222, \"#7201a8\"], [0.3333333333333333, \"#9c179e\"], [0.4444444444444444, \"#bd3786\"], [0.5555555555555556, \"#d8576b\"], [0.6666666666666666, \"#ed7953\"], [0.7777777777777778, \"#fb9f3a\"], [0.8888888888888888, \"#fdca26\"], [1.0, \"#f0f921\"]], \"type\": \"surface\"}], \"table\": [{\"cells\": {\"fill\": {\"color\": \"#EBF0F8\"}, \"line\": {\"color\": \"white\"}}, \"header\": {\"fill\": {\"color\": \"#C8D4E3\"}, \"line\": {\"color\": \"white\"}}, \"type\": \"table\"}]}, \"layout\": {\"annotationdefaults\": {\"arrowcolor\": \"#2a3f5f\", \"arrowhead\": 0, \"arrowwidth\": 1}, \"coloraxis\": {\"colorbar\": {\"outlinewidth\": 0, \"ticks\": \"\"}}, \"colorscale\": {\"diverging\": [[0, \"#8e0152\"], [0.1, \"#c51b7d\"], [0.2, \"#de77ae\"], [0.3, \"#f1b6da\"], [0.4, \"#fde0ef\"], [0.5, \"#f7f7f7\"], [0.6, \"#e6f5d0\"], [0.7, \"#b8e186\"], [0.8, \"#7fbc41\"], [0.9, \"#4d9221\"], [1, \"#276419\"]], \"sequential\": [[0.0, \"#0d0887\"], [0.1111111111111111, \"#46039f\"], [0.2222222222222222, \"#7201a8\"], [0.3333333333333333, \"#9c179e\"], [0.4444444444444444, \"#bd3786\"], [0.5555555555555556, \"#d8576b\"], [0.6666666666666666, \"#ed7953\"], [0.7777777777777778, \"#fb9f3a\"], [0.8888888888888888, \"#fdca26\"], [1.0, \"#f0f921\"]], \"sequentialminus\": [[0.0, \"#0d0887\"], [0.1111111111111111, \"#46039f\"], [0.2222222222222222, \"#7201a8\"], [0.3333333333333333, \"#9c179e\"], [0.4444444444444444, \"#bd3786\"], [0.5555555555555556, \"#d8576b\"], [0.6666666666666666, \"#ed7953\"], [0.7777777777777778, \"#fb9f3a\"], [0.8888888888888888, \"#fdca26\"], [1.0, \"#f0f921\"]]}, \"colorway\": [\"#636efa\", \"#EF553B\", \"#00cc96\", \"#ab63fa\", \"#FFA15A\", \"#19d3f3\", \"#FF6692\", \"#B6E880\", \"#FF97FF\", \"#FECB52\"], \"font\": {\"color\": \"#2a3f5f\"}, \"geo\": {\"bgcolor\": \"white\", \"lakecolor\": \"white\", \"landcolor\": \"#E5ECF6\", \"showlakes\": true, \"showland\": true, \"subunitcolor\": \"white\"}, \"hoverlabel\": {\"align\": \"left\"}, \"hovermode\": \"closest\", \"mapbox\": {\"style\": \"light\"}, \"paper_bgcolor\": \"white\", \"plot_bgcolor\": \"#E5ECF6\", \"polar\": {\"angularaxis\": {\"gridcolor\": \"white\", \"linecolor\": \"white\", \"ticks\": \"\"}, \"bgcolor\": \"#E5ECF6\", \"radialaxis\": {\"gridcolor\": \"white\", \"linecolor\": \"white\", \"ticks\": \"\"}}, \"scene\": {\"xaxis\": {\"backgroundcolor\": \"#E5ECF6\", \"gridcolor\": \"white\", \"gridwidth\": 2, \"linecolor\": \"white\", \"showbackground\": true, \"ticks\": \"\", \"zerolinecolor\": \"white\"}, \"yaxis\": {\"backgroundcolor\": \"#E5ECF6\", \"gridcolor\": \"white\", \"gridwidth\": 2, \"linecolor\": \"white\", \"showbackground\": true, \"ticks\": \"\", \"zerolinecolor\": \"white\"}, \"zaxis\": {\"backgroundcolor\": \"#E5ECF6\", \"gridcolor\": \"white\", \"gridwidth\": 2, \"linecolor\": \"white\", \"showbackground\": true, \"ticks\": \"\", \"zerolinecolor\": \"white\"}}, \"shapedefaults\": {\"line\": {\"color\": \"#2a3f5f\"}}, \"ternary\": {\"aaxis\": {\"gridcolor\": \"white\", \"linecolor\": \"white\", \"ticks\": \"\"}, \"baxis\": {\"gridcolor\": \"white\", \"linecolor\": \"white\", \"ticks\": \"\"}, \"bgcolor\": \"#E5ECF6\", \"caxis\": {\"gridcolor\": \"white\", \"linecolor\": \"white\", \"ticks\": \"\"}}, \"title\": {\"x\": 0.05}, \"xaxis\": {\"automargin\": true, \"gridcolor\": \"white\", \"linecolor\": \"white\", \"ticks\": \"\", \"title\": {\"standoff\": 15}, \"zerolinecolor\": \"white\", \"zerolinewidth\": 2}, \"yaxis\": {\"automargin\": true, \"gridcolor\": \"white\", \"linecolor\": \"white\", \"ticks\": \"\", \"title\": {\"standoff\": 15}, \"zerolinecolor\": \"white\", \"zerolinewidth\": 2}}}, \"xaxis\": {\"anchor\": \"y\", \"domain\": [0.0, 1.0], \"title\": {\"text\": \"date\"}}, \"yaxis\": {\"anchor\": \"x\", \"domain\": [0.0, 1.0], \"title\": {\"text\": \"cumsum\"}}},\n",
       "                        {\"responsive\": true}\n",
       "                    ).then(function(){\n",
       "                            \n",
       "var gd = document.getElementById('496494be-a47a-4231-8556-9430eda0a1eb');\n",
       "var x = new MutationObserver(function (mutations, observer) {{\n",
       "        var display = window.getComputedStyle(gd).display;\n",
       "        if (!display || display === 'none') {{\n",
       "            console.log([gd, 'removed!']);\n",
       "            Plotly.purge(gd);\n",
       "            observer.disconnect();\n",
       "        }}\n",
       "}});\n",
       "\n",
       "// Listen for the removal of the full notebook cells\n",
       "var notebookContainer = gd.closest('#notebook-container');\n",
       "if (notebookContainer) {{\n",
       "    x.observe(notebookContainer, {childList: true});\n",
       "}}\n",
       "\n",
       "// Listen for the clearing of the current output cell\n",
       "var outputEl = gd.closest('.output');\n",
       "if (outputEl) {{\n",
       "    x.observe(outputEl, {childList: true});\n",
       "}}\n",
       "\n",
       "                        })\n",
       "                };\n",
       "                });\n",
       "            </script>\n",
       "        </div>"
      ]
     },
     "metadata": {},
     "output_type": "display_data"
    }
   ],
   "source": [
    "import plotly.express as px\n",
    "\n",
    "mails_lydia = df.loc[df.cat=='lydia'][['date', 'body']]\n",
    "\n",
    "def find_price(x):\n",
    "    res1 = re.findall(r\"VOUS A RÉGLÉ \\d+,\\d+ €\", x)\n",
    "    res2 = re.findall(r\"\\d+,\\d+ € PAY\", x)\n",
    "    res3 = re.findall(r\"VOUS AVEZ RÉGLÉ \\d+,\\d+ €\", x)\n",
    "    if len(res1) == 1:\n",
    "        return float(re.findall(r\"\\d+,\\d+\", res1[0])[0].replace(',','.'))\n",
    "    elif len(res2) == 1:\n",
    "        return - float(re.findall(r\"\\d+,\\d+\", res2[0])[0].replace(',','.'))\n",
    "    elif len(res2) == 1:\n",
    "        return - float(re.findall(r\"\\d+,\\d+\", res3[0])[0].replace(',','.'))\n",
    "    else:\n",
    "        return None\n",
    "\n",
    "mails_lydia['montant'] = mails_lydia.body.apply(find_price)\n",
    "\n",
    "mails_lydia['cumsum'] = mails_lydia.montant.cumsum()\n",
    " \n",
    "mails_lydia_cpy = mails_lydia.loc[mails_lydia.montant.isna() == False].copy()\n",
    "\n",
    "fig = px.line(mails_lydia_cpy, x='date', y='cumsum')\n",
    "fig.show()"
   ]
  },
  {
   "cell_type": "code",
   "execution_count": 49,
   "metadata": {},
   "outputs": [],
   "source": [
    "mails_lydia = mails_lydia.loc[mails_lydia.montant.isna()==False]"
   ]
  },
  {
   "cell_type": "code",
   "execution_count": 52,
   "metadata": {},
   "outputs": [
    {
     "data": {
      "text/plain": [
       "array(['2020-02-08T21:04:43.000000000', '2020-02-06T19:02:26.000000000',\n",
       "       '2020-01-29T07:51:29.000000000', '2020-01-28T20:14:52.000000000',\n",
       "       '2020-01-28T20:14:26.000000000', '2020-01-28T20:12:37.000000000',\n",
       "       '2020-01-24T23:47:12.000000000', '2020-01-09T10:25:17.000000000',\n",
       "       '2020-01-07T20:19:26.000000000', '2020-01-06T08:54:43.000000000',\n",
       "       '2020-01-03T17:19:05.000000000', '2019-12-31T22:28:30.000000000',\n",
       "       '2019-12-31T20:32:02.000000000', '2019-12-31T20:26:09.000000000',\n",
       "       '2019-12-19T21:54:50.000000000', '2019-12-03T21:56:11.000000000',\n",
       "       '2019-12-03T20:51:19.000000000', '2019-12-03T20:49:09.000000000',\n",
       "       '2019-11-28T23:13:21.000000000', '2019-11-28T22:18:50.000000000',\n",
       "       '2019-11-28T21:43:28.000000000', '2019-11-28T21:41:56.000000000',\n",
       "       '2019-11-28T21:41:35.000000000', '2019-11-28T21:40:34.000000000',\n",
       "       '2019-11-28T21:40:35.000000000', '2019-11-28T21:40:21.000000000',\n",
       "       '2019-11-28T21:39:36.000000000', '2019-11-25T22:19:09.000000000',\n",
       "       '2019-11-25T20:08:57.000000000', '2019-11-25T20:03:52.000000000',\n",
       "       '2019-11-25T20:03:39.000000000', '2019-11-25T20:01:49.000000000',\n",
       "       '2019-11-25T19:58:05.000000000', '2019-11-25T19:56:33.000000000',\n",
       "       '2019-11-25T19:17:14.000000000', '2019-11-22T18:16:53.000000000',\n",
       "       '2019-11-12T21:19:56.000000000', '2019-11-12T21:18:05.000000000',\n",
       "       '2019-11-12T19:49:54.000000000', '2019-11-12T19:45:37.000000000',\n",
       "       '2019-11-12T19:44:35.000000000', '2019-11-12T19:44:18.000000000',\n",
       "       '2019-11-12T19:43:46.000000000', '2019-11-06T21:37:12.000000000',\n",
       "       '2019-10-27T18:31:25.000000000', '2019-10-25T15:19:26.000000000',\n",
       "       '2019-10-23T20:54:01.000000000', '2019-10-23T17:24:37.000000000',\n",
       "       '2019-10-18T12:20:10.000000000', '2019-10-18T12:17:46.000000000',\n",
       "       '2019-10-18T12:17:22.000000000', '2019-10-18T07:30:28.000000000',\n",
       "       '2019-10-13T19:22:24.000000000', '2019-10-12T21:05:27.000000000',\n",
       "       '2019-10-09T21:42:54.000000000', '2019-09-30T22:37:16.000000000',\n",
       "       '2019-09-29T16:57:20.000000000', '2019-09-29T15:31:40.000000000',\n",
       "       '2019-09-27T21:25:31.000000000', '2019-09-25T09:34:44.000000000',\n",
       "       '2019-09-25T09:34:21.000000000', '2019-09-18T21:35:23.000000000',\n",
       "       '2019-09-18T21:34:19.000000000', '2019-09-18T21:33:54.000000000',\n",
       "       '2019-09-18T20:38:27.000000000', '2019-09-18T20:12:16.000000000',\n",
       "       '2019-09-18T11:52:38.000000000', '2019-09-17T19:29:17.000000000',\n",
       "       '2019-09-16T10:41:54.000000000', '2019-09-09T21:41:16.000000000',\n",
       "       '2019-09-09T19:44:35.000000000', '2019-09-06T21:40:55.000000000',\n",
       "       '2019-08-25T17:37:37.000000000', '2019-08-25T17:37:36.000000000',\n",
       "       '2019-08-25T15:54:48.000000000', '2019-02-07T09:57:07.000000000',\n",
       "       '2019-02-07T09:53:27.000000000', '2018-12-20T21:59:49.000000000',\n",
       "       '2018-12-20T16:10:53.000000000', '2018-12-20T16:04:21.000000000',\n",
       "       '2018-12-20T15:07:21.000000000', '2018-12-20T12:34:05.000000000',\n",
       "       '2018-12-20T11:52:36.000000000', '2018-11-15T23:13:13.000000000',\n",
       "       '2018-11-15T23:13:12.000000000', '2018-05-18T22:00:40.000000000',\n",
       "       '2018-04-10T20:15:09.000000000', '2018-04-10T11:02:10.000000000',\n",
       "       '2018-04-05T19:32:23.000000000', '2018-02-02T21:30:53.000000000'],\n",
       "      dtype='datetime64[ns]')"
      ]
     },
     "execution_count": 52,
     "metadata": {},
     "output_type": "execute_result"
    }
   ],
   "source": [
    "mails_lydia['date'].values"
   ]
  },
  {
   "cell_type": "code",
   "execution_count": 60,
   "metadata": {},
   "outputs": [],
   "source": [
    "def lydia(df):\n",
    "\tdef find_price(x):\n",
    "\t    res1 = re.findall(r\"VOUS A RÉGLÉ \\d+,\\d+ €\", x)\n",
    "\t    res2 = re.findall(r\"\\d+,\\d+ € PAY\", x)\n",
    "\t    res3 = re.findall(r\"VOUS AVEZ RÉGLÉ \\d+,\\d+ €\", x)\n",
    "\t    if len(res1) == 1:\n",
    "\t        return float(re.findall(r\"\\d+,\\d+\", res1[0])[0].replace(',','.'))\n",
    "\t    elif len(res2) == 1:\n",
    "\t        return - float(re.findall(r\"\\d+,\\d+\", res2[0])[0].replace(',','.'))\n",
    "\t    elif len(res2) == 1:\n",
    "\t        return - float(re.findall(r\"\\d+,\\d+\", res3[0])[0].replace(',','.'))\n",
    "\t    else:\n",
    "\t        return None\n",
    "\n",
    "\tmails_lydia = df.loc[df.cat=='lydia'][['date', 'body']]\n",
    "\tmails_lydia['transaction'] = mails_lydia.body.apply(find_price)\n",
    "\tmails_lydia = mails_lydia.loc[mails_lydia.transaction.isna()==False]\n",
    "\n",
    "\treturn {'date' : list(mails_lydia['date'].values),\n",
    "\t\t\t'transaction' : list(mails_lydia['transaction'].values)\n",
    "\t\t   }"
   ]
  },
  {
   "cell_type": "code",
   "execution_count": 61,
   "metadata": {},
   "outputs": [
    {
     "data": {
      "text/plain": [
       "{'date': [numpy.datetime64('2020-02-08T21:04:43.000000000'),\n",
       "  numpy.datetime64('2020-02-06T19:02:26.000000000'),\n",
       "  numpy.datetime64('2020-01-29T07:51:29.000000000'),\n",
       "  numpy.datetime64('2020-01-28T20:14:52.000000000'),\n",
       "  numpy.datetime64('2020-01-28T20:14:26.000000000'),\n",
       "  numpy.datetime64('2020-01-28T20:12:37.000000000'),\n",
       "  numpy.datetime64('2020-01-24T23:47:12.000000000'),\n",
       "  numpy.datetime64('2020-01-09T10:25:17.000000000'),\n",
       "  numpy.datetime64('2020-01-07T20:19:26.000000000'),\n",
       "  numpy.datetime64('2020-01-06T08:54:43.000000000'),\n",
       "  numpy.datetime64('2020-01-03T17:19:05.000000000'),\n",
       "  numpy.datetime64('2019-12-31T22:28:30.000000000'),\n",
       "  numpy.datetime64('2019-12-31T20:32:02.000000000'),\n",
       "  numpy.datetime64('2019-12-31T20:26:09.000000000'),\n",
       "  numpy.datetime64('2019-12-19T21:54:50.000000000'),\n",
       "  numpy.datetime64('2019-12-03T21:56:11.000000000'),\n",
       "  numpy.datetime64('2019-12-03T20:51:19.000000000'),\n",
       "  numpy.datetime64('2019-12-03T20:49:09.000000000'),\n",
       "  numpy.datetime64('2019-11-28T23:13:21.000000000'),\n",
       "  numpy.datetime64('2019-11-28T22:18:50.000000000'),\n",
       "  numpy.datetime64('2019-11-28T21:43:28.000000000'),\n",
       "  numpy.datetime64('2019-11-28T21:41:56.000000000'),\n",
       "  numpy.datetime64('2019-11-28T21:41:35.000000000'),\n",
       "  numpy.datetime64('2019-11-28T21:40:34.000000000'),\n",
       "  numpy.datetime64('2019-11-28T21:40:35.000000000'),\n",
       "  numpy.datetime64('2019-11-28T21:40:21.000000000'),\n",
       "  numpy.datetime64('2019-11-28T21:39:36.000000000'),\n",
       "  numpy.datetime64('2019-11-25T22:19:09.000000000'),\n",
       "  numpy.datetime64('2019-11-25T20:08:57.000000000'),\n",
       "  numpy.datetime64('2019-11-25T20:03:52.000000000'),\n",
       "  numpy.datetime64('2019-11-25T20:03:39.000000000'),\n",
       "  numpy.datetime64('2019-11-25T20:01:49.000000000'),\n",
       "  numpy.datetime64('2019-11-25T19:58:05.000000000'),\n",
       "  numpy.datetime64('2019-11-25T19:56:33.000000000'),\n",
       "  numpy.datetime64('2019-11-25T19:17:14.000000000'),\n",
       "  numpy.datetime64('2019-11-22T18:16:53.000000000'),\n",
       "  numpy.datetime64('2019-11-12T21:19:56.000000000'),\n",
       "  numpy.datetime64('2019-11-12T21:18:05.000000000'),\n",
       "  numpy.datetime64('2019-11-12T19:49:54.000000000'),\n",
       "  numpy.datetime64('2019-11-12T19:45:37.000000000'),\n",
       "  numpy.datetime64('2019-11-12T19:44:35.000000000'),\n",
       "  numpy.datetime64('2019-11-12T19:44:18.000000000'),\n",
       "  numpy.datetime64('2019-11-12T19:43:46.000000000'),\n",
       "  numpy.datetime64('2019-11-06T21:37:12.000000000'),\n",
       "  numpy.datetime64('2019-10-27T18:31:25.000000000'),\n",
       "  numpy.datetime64('2019-10-25T15:19:26.000000000'),\n",
       "  numpy.datetime64('2019-10-23T20:54:01.000000000'),\n",
       "  numpy.datetime64('2019-10-23T17:24:37.000000000'),\n",
       "  numpy.datetime64('2019-10-18T12:20:10.000000000'),\n",
       "  numpy.datetime64('2019-10-18T12:17:46.000000000'),\n",
       "  numpy.datetime64('2019-10-18T12:17:22.000000000'),\n",
       "  numpy.datetime64('2019-10-18T07:30:28.000000000'),\n",
       "  numpy.datetime64('2019-10-13T19:22:24.000000000'),\n",
       "  numpy.datetime64('2019-10-12T21:05:27.000000000'),\n",
       "  numpy.datetime64('2019-10-09T21:42:54.000000000'),\n",
       "  numpy.datetime64('2019-09-30T22:37:16.000000000'),\n",
       "  numpy.datetime64('2019-09-29T16:57:20.000000000'),\n",
       "  numpy.datetime64('2019-09-29T15:31:40.000000000'),\n",
       "  numpy.datetime64('2019-09-27T21:25:31.000000000'),\n",
       "  numpy.datetime64('2019-09-25T09:34:44.000000000'),\n",
       "  numpy.datetime64('2019-09-25T09:34:21.000000000'),\n",
       "  numpy.datetime64('2019-09-18T21:35:23.000000000'),\n",
       "  numpy.datetime64('2019-09-18T21:34:19.000000000'),\n",
       "  numpy.datetime64('2019-09-18T21:33:54.000000000'),\n",
       "  numpy.datetime64('2019-09-18T20:38:27.000000000'),\n",
       "  numpy.datetime64('2019-09-18T20:12:16.000000000'),\n",
       "  numpy.datetime64('2019-09-18T11:52:38.000000000'),\n",
       "  numpy.datetime64('2019-09-17T19:29:17.000000000'),\n",
       "  numpy.datetime64('2019-09-16T10:41:54.000000000'),\n",
       "  numpy.datetime64('2019-09-09T21:41:16.000000000'),\n",
       "  numpy.datetime64('2019-09-09T19:44:35.000000000'),\n",
       "  numpy.datetime64('2019-09-06T21:40:55.000000000'),\n",
       "  numpy.datetime64('2019-08-25T17:37:37.000000000'),\n",
       "  numpy.datetime64('2019-08-25T17:37:36.000000000'),\n",
       "  numpy.datetime64('2019-08-25T15:54:48.000000000'),\n",
       "  numpy.datetime64('2019-02-07T09:57:07.000000000'),\n",
       "  numpy.datetime64('2019-02-07T09:53:27.000000000'),\n",
       "  numpy.datetime64('2018-12-20T21:59:49.000000000'),\n",
       "  numpy.datetime64('2018-12-20T16:10:53.000000000'),\n",
       "  numpy.datetime64('2018-12-20T16:04:21.000000000'),\n",
       "  numpy.datetime64('2018-12-20T15:07:21.000000000'),\n",
       "  numpy.datetime64('2018-12-20T12:34:05.000000000'),\n",
       "  numpy.datetime64('2018-12-20T11:52:36.000000000'),\n",
       "  numpy.datetime64('2018-11-15T23:13:13.000000000'),\n",
       "  numpy.datetime64('2018-11-15T23:13:12.000000000'),\n",
       "  numpy.datetime64('2018-05-18T22:00:40.000000000'),\n",
       "  numpy.datetime64('2018-04-10T20:15:09.000000000'),\n",
       "  numpy.datetime64('2018-04-10T11:02:10.000000000'),\n",
       "  numpy.datetime64('2018-04-05T19:32:23.000000000'),\n",
       "  numpy.datetime64('2018-02-02T21:30:53.000000000')],\n",
       " 'transaction': [-44.23,\n",
       "  -10.0,\n",
       "  8.26,\n",
       "  8.5,\n",
       "  8.26,\n",
       "  8.3,\n",
       "  -19.0,\n",
       "  -100.0,\n",
       "  -6.9,\n",
       "  41.0,\n",
       "  -7.0,\n",
       "  -106.82,\n",
       "  106.82,\n",
       "  106.82,\n",
       "  27.0,\n",
       "  8.8,\n",
       "  11.0,\n",
       "  10.0,\n",
       "  6.85,\n",
       "  7.0,\n",
       "  6.85,\n",
       "  9.35,\n",
       "  6.85,\n",
       "  6.85,\n",
       "  6.85,\n",
       "  6.9,\n",
       "  6.85,\n",
       "  -10.0,\n",
       "  9.5,\n",
       "  11.4,\n",
       "  10.6,\n",
       "  9.0,\n",
       "  11.4,\n",
       "  8.8,\n",
       "  -10.0,\n",
       "  -15.0,\n",
       "  -48.0,\n",
       "  8.0,\n",
       "  8.0,\n",
       "  9.5,\n",
       "  9.5,\n",
       "  9.5,\n",
       "  9.5,\n",
       "  -7.5,\n",
       "  19.9,\n",
       "  -3.8,\n",
       "  -11.2,\n",
       "  -19.0,\n",
       "  8.5,\n",
       "  -8.5,\n",
       "  -8.5,\n",
       "  -10.0,\n",
       "  -25.0,\n",
       "  -15.0,\n",
       "  8.25,\n",
       "  -11.4,\n",
       "  -4.6,\n",
       "  18.8,\n",
       "  -9.0,\n",
       "  8.3,\n",
       "  8.3,\n",
       "  2.5,\n",
       "  -2.5,\n",
       "  -2.5,\n",
       "  -2.0,\n",
       "  -2.5,\n",
       "  9.5,\n",
       "  8.5,\n",
       "  -5.0,\n",
       "  15.0,\n",
       "  -14.9,\n",
       "  8.5,\n",
       "  -5.88,\n",
       "  -5.88,\n",
       "  -19.37,\n",
       "  6.0,\n",
       "  6.0,\n",
       "  5.0,\n",
       "  7.0,\n",
       "  8.0,\n",
       "  5.0,\n",
       "  10.0,\n",
       "  5.0,\n",
       "  -5.0,\n",
       "  -5.0,\n",
       "  -148.7,\n",
       "  -15.0,\n",
       "  -59.21,\n",
       "  -10.0,\n",
       "  30.0]}"
      ]
     },
     "execution_count": 61,
     "metadata": {},
     "output_type": "execute_result"
    }
   ],
   "source": [
    "lydia(df)"
   ]
  },
  {
   "cell_type": "code",
   "execution_count": null,
   "metadata": {},
   "outputs": [],
   "source": [
    "def lydia(df):\n",
    "\tdef find_price(x):\n",
    "\t    res1 = re.findall(r\"vous a regle \\d+ €\", x)\n",
    "\t    res2 = re.findall(r\" \\d+ € payes a\", x)\n",
    "\t    if len(res1) == 1:\n",
    "\t        return int(re.findall(r\"\\d+\", res1[0])[0])/100\n",
    "\t    elif len(res2) == 1:\n",
    "\t        return - int(re.findall(r\"\\d+\", res2[0])[0])/100\n",
    "\t    else:\n",
    "\t        return None\n",
    "\n",
    "\tmails_lydia = df.loc[df.cat=='lydia'][['date', 'body']]\n",
    "\tmails_lydia['montant'] = mails_lydia.body.apply(find_price)"
   ]
  }
 ],
 "metadata": {
  "kernelspec": {
   "display_name": "Python 3",
   "language": "python",
   "name": "python3"
  },
  "language_info": {
   "codemirror_mode": {
    "name": "ipython",
    "version": 3
   },
   "file_extension": ".py",
   "mimetype": "text/x-python",
   "name": "python",
   "nbconvert_exporter": "python",
   "pygments_lexer": "ipython3",
   "version": "3.7.4"
  }
 },
 "nbformat": 4,
 "nbformat_minor": 2
}
